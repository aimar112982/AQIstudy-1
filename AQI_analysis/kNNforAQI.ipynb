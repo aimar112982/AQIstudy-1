{
 "cells": [
  {
   "cell_type": "markdown",
   "metadata": {
    "colab_type": "text",
    "id": "lKsKKawNDaCi"
   },
   "source": [
    "# K近邻算法\n",
    "\n",
    "kNN算法是一种基于实例的分类算法，对于给定标签的训练集，计算新数据与训练集实例的距离，统计最近的k个实例，如果多数属于某一类，则新实例属于该类。"
   ]
  },
  {
   "cell_type": "markdown",
   "metadata": {
    "colab_type": "text",
    "id": "CfdNeFT6MTWW"
   },
   "source": [
    "**导入数据并清洗**"
   ]
  },
  {
   "cell_type": "code",
   "execution_count": 1,
   "metadata": {
    "colab": {},
    "colab_type": "code",
    "id": "2tQAxzoyC_uS"
   },
   "outputs": [],
   "source": [
    "import pandas as pd\n",
    "\n",
    "wh_data = pd.read_csv('../AQI_maincity/武汉.csv', index_col='date', encoding='utf-8', engine='python')\n",
    "wh_data.drop(index=wh_data[wh_data['质量等级']=='无'].index, inplace=True) # 删除异常值"
   ]
  },
  {
   "cell_type": "code",
   "execution_count": 2,
   "metadata": {
    "colab": {},
    "colab_type": "code",
    "id": "CJuGPA07d7nb"
   },
   "outputs": [],
   "source": [
    "def get_grade(data):\n",
    "    if data <100:\n",
    "        return 0\n",
    "    elif 100 <= data < 200:\n",
    "        return 1\n",
    "    elif data >= 200:\n",
    "        return 2"
   ]
  },
  {
   "cell_type": "code",
   "execution_count": 3,
   "metadata": {
    "colab": {
     "base_uri": "https://localhost:8080/",
     "height": 235
    },
    "colab_type": "code",
    "id": "XBqlsMY8d7CD",
    "outputId": "10ef25c3-ab47-4136-be7f-fc2bd2eba1c3"
   },
   "outputs": [
    {
     "data": {
      "text/html": [
       "<div>\n",
       "<style scoped>\n",
       "    .dataframe tbody tr th:only-of-type {\n",
       "        vertical-align: middle;\n",
       "    }\n",
       "\n",
       "    .dataframe tbody tr th {\n",
       "        vertical-align: top;\n",
       "    }\n",
       "\n",
       "    .dataframe thead th {\n",
       "        text-align: right;\n",
       "    }\n",
       "</style>\n",
       "<table border=\"1\" class=\"dataframe\">\n",
       "  <thead>\n",
       "    <tr style=\"text-align: right;\">\n",
       "      <th></th>\n",
       "      <th>AQI</th>\n",
       "      <th>质量等级</th>\n",
       "      <th>PM2.5</th>\n",
       "      <th>PM10</th>\n",
       "      <th>SO2</th>\n",
       "      <th>CO</th>\n",
       "      <th>NO2</th>\n",
       "      <th>O3_8h</th>\n",
       "      <th>GRADE</th>\n",
       "    </tr>\n",
       "    <tr>\n",
       "      <th>date</th>\n",
       "      <th></th>\n",
       "      <th></th>\n",
       "      <th></th>\n",
       "      <th></th>\n",
       "      <th></th>\n",
       "      <th></th>\n",
       "      <th></th>\n",
       "      <th></th>\n",
       "      <th></th>\n",
       "    </tr>\n",
       "  </thead>\n",
       "  <tbody>\n",
       "    <tr>\n",
       "      <th>2014-01-01</th>\n",
       "      <td>203</td>\n",
       "      <td>重度污染</td>\n",
       "      <td>153</td>\n",
       "      <td>210</td>\n",
       "      <td>70</td>\n",
       "      <td>2.0</td>\n",
       "      <td>106</td>\n",
       "      <td>55</td>\n",
       "      <td>2</td>\n",
       "    </tr>\n",
       "    <tr>\n",
       "      <th>2014-01-02</th>\n",
       "      <td>231</td>\n",
       "      <td>重度污染</td>\n",
       "      <td>181</td>\n",
       "      <td>254</td>\n",
       "      <td>89</td>\n",
       "      <td>2.4</td>\n",
       "      <td>112</td>\n",
       "      <td>26</td>\n",
       "      <td>2</td>\n",
       "    </tr>\n",
       "    <tr>\n",
       "      <th>2014-01-03</th>\n",
       "      <td>224</td>\n",
       "      <td>重度污染</td>\n",
       "      <td>174</td>\n",
       "      <td>226</td>\n",
       "      <td>63</td>\n",
       "      <td>1.7</td>\n",
       "      <td>84</td>\n",
       "      <td>55</td>\n",
       "      <td>2</td>\n",
       "    </tr>\n",
       "    <tr>\n",
       "      <th>2014-01-04</th>\n",
       "      <td>147</td>\n",
       "      <td>轻度污染</td>\n",
       "      <td>112</td>\n",
       "      <td>184</td>\n",
       "      <td>73</td>\n",
       "      <td>1.6</td>\n",
       "      <td>87</td>\n",
       "      <td>40</td>\n",
       "      <td>1</td>\n",
       "    </tr>\n",
       "    <tr>\n",
       "      <th>2014-01-05</th>\n",
       "      <td>195</td>\n",
       "      <td>中度污染</td>\n",
       "      <td>147</td>\n",
       "      <td>213</td>\n",
       "      <td>89</td>\n",
       "      <td>2.2</td>\n",
       "      <td>91</td>\n",
       "      <td>53</td>\n",
       "      <td>1</td>\n",
       "    </tr>\n",
       "  </tbody>\n",
       "</table>\n",
       "</div>"
      ],
      "text/plain": [
       "            AQI  质量等级  PM2.5  PM10  SO2   CO  NO2  O3_8h  GRADE\n",
       "date                                                           \n",
       "2014-01-01  203  重度污染    153   210   70  2.0  106     55      2\n",
       "2014-01-02  231  重度污染    181   254   89  2.4  112     26      2\n",
       "2014-01-03  224  重度污染    174   226   63  1.7   84     55      2\n",
       "2014-01-04  147  轻度污染    112   184   73  1.6   87     40      1\n",
       "2014-01-05  195  中度污染    147   213   89  2.2   91     53      1"
      ]
     },
     "execution_count": 3,
     "metadata": {},
     "output_type": "execute_result"
    }
   ],
   "source": [
    "wh_data['GRADE'] = wh_data.AQI.apply(get_grade)\n",
    "wh_data.dropna(inplace=True)\n",
    "wh_data.head()"
   ]
  },
  {
   "cell_type": "markdown",
   "metadata": {
    "colab_type": "text",
    "id": "M8-SSSy0Q-2E"
   },
   "source": [
    "**查看数据分布**"
   ]
  },
  {
   "cell_type": "code",
   "execution_count": 4,
   "metadata": {
    "colab": {
     "base_uri": "https://localhost:8080/",
     "height": 378
    },
    "colab_type": "code",
    "id": "q_MCocEdREm1",
    "outputId": "b579305a-195e-466f-cf44-d2eb4be87d2a"
   },
   "outputs": [
    {
     "data": {
      "image/png": "[encoded data removed]",
      "text/plain": [
       "<matplotlib.figure.Figure at 0x1a6df5dd400>"
      ]
     },
     "metadata": {},
     "output_type": "display_data"
    }
   ],
   "source": [
    "import numpy as np\n",
    "import matplotlib.pyplot as plt\n",
    "%matplotlib inline\n",
    "\n",
    "X = wh_data.loc[:, ['PM10','CO']]\n",
    "y = wh_data.loc[:, 'GRADE']\n",
    "\n",
    "plt.figure(figsize=(15,6))\n",
    "for label in np.unique(y):\n",
    "    plt.scatter(X.loc[y[y==label].index, 'PM10'], X.loc[y[y==label].index, 'CO'])\n",
    "plt.show()"
   ]
  },
  {
   "cell_type": "markdown",
   "metadata": {
    "colab_type": "text",
    "id": "PI1WVIqWC_uZ"
   },
   "source": [
    "**划分测试集**"
   ]
  },
  {
   "cell_type": "code",
   "execution_count": 5,
   "metadata": {
    "colab": {},
    "colab_type": "code",
    "id": "SiBORTRtC_ub"
   },
   "outputs": [],
   "source": [
    "from sklearn.model_selection import train_test_split\n",
    "\n",
    "X_train, X_test, y_train, y_test = train_test_split(X, y, random_state=100)"
   ]
  },
  {
   "cell_type": "markdown",
   "metadata": {
    "colab_type": "text",
    "id": "O6uJDi39MXzF"
   },
   "source": [
    "**模型拟合**"
   ]
  },
  {
   "cell_type": "code",
   "execution_count": 6,
   "metadata": {
    "colab": {
     "base_uri": "https://localhost:8080/",
     "height": 71
    },
    "colab_type": "code",
    "id": "ncgzh8B8C_uf",
    "outputId": "c2d2bf8c-f32e-4731-f22f-c86c09dfe8b4"
   },
   "outputs": [
    {
     "data": {
      "text/plain": [
       "KNeighborsClassifier(algorithm='auto', leaf_size=30, metric='minkowski',\n",
       "           metric_params=None, n_jobs=1, n_neighbors=5, p=2,\n",
       "           weights='uniform')"
      ]
     },
     "execution_count": 6,
     "metadata": {},
     "output_type": "execute_result"
    }
   ],
   "source": [
    "from sklearn.neighbors import KNeighborsClassifier\n",
    "\n",
    "knn_clf = KNeighborsClassifier()\n",
    "knn_clf.fit(X_train, y_train)"
   ]
  },
  {
   "cell_type": "code",
   "execution_count": 7,
   "metadata": {
    "colab": {
     "base_uri": "https://localhost:8080/",
     "height": 35
    },
    "colab_type": "code",
    "id": "_DJExpqpC_uj",
    "outputId": "a2d882df-0bd9-4e56-8487-f7ff0ad0b0e5"
   },
   "outputs": [
    {
     "data": {
      "text/plain": [
       "0.7819383259911894"
      ]
     },
     "execution_count": 7,
     "metadata": {},
     "output_type": "execute_result"
    }
   ],
   "source": [
    "knn_clf.score(X_test, y_test)"
   ]
  },
  {
   "cell_type": "markdown",
   "metadata": {
    "colab_type": "text",
    "id": "00WyEcYKC_ux"
   },
   "source": [
    "**标准化**"
   ]
  },
  {
   "cell_type": "code",
   "execution_count": 8,
   "metadata": {
    "colab": {
     "base_uri": "https://localhost:8080/",
     "height": 35
    },
    "colab_type": "code",
    "id": "GEroapa-C_uy",
    "outputId": "33ba2fa2-d204-4cd8-ac6d-6c97e557e7a1"
   },
   "outputs": [
    {
     "data": {
      "text/plain": [
       "0.7863436123348018"
      ]
     },
     "execution_count": 8,
     "metadata": {},
     "output_type": "execute_result"
    }
   ],
   "source": [
    "from sklearn.preprocessing import StandardScaler\n",
    "\n",
    "standardscaler = StandardScaler()\n",
    "standardscaler.fit(X_train)\n",
    "X_train_sca = standardscaler.transform(X_train)\n",
    "X_test_sca = standardscaler.transform(X_test)\n",
    "\n",
    "knn_clf = KNeighborsClassifier()\n",
    "knn_clf.fit(X_train_sca, y_train)\n",
    "knn_clf.score(X_test_sca, y_test)"
   ]
  },
  {
   "cell_type": "markdown",
   "metadata": {
    "colab_type": "text",
    "id": "JBOzbwTYk8DD"
   },
   "source": [
    "**调整k**"
   ]
  },
  {
   "cell_type": "code",
   "execution_count": 9,
   "metadata": {
    "colab": {
     "base_uri": "https://localhost:8080/",
     "height": 35
    },
    "colab_type": "code",
    "id": "cBUPedUhlBN6",
    "outputId": "394b00c5-ade9-4030-8e87-4e9f62b9f8a1"
   },
   "outputs": [
    {
     "name": "stdout",
     "output_type": "stream",
     "text": [
      "9 0.8105726872246696\n"
     ]
    }
   ],
   "source": [
    "best_k = 0\n",
    "best_score = 0.\n",
    "for k in range(1,11,2):\n",
    "    knn_clf = KNeighborsClassifier(n_neighbors=k)\n",
    "    knn_clf.fit(X_train_sca, y_train)\n",
    "    score = knn_clf.score(X_test_sca, y_test)\n",
    "    if score > best_score:\n",
    "        best_score = score\n",
    "        best_k = k\n",
    "print(best_k, best_score)"
   ]
  },
  {
   "cell_type": "markdown",
   "metadata": {
    "colab_type": "text",
    "id": "QwQNUyiwlnUR"
   },
   "source": [
    "**调整权重**"
   ]
  },
  {
   "cell_type": "code",
   "execution_count": 10,
   "metadata": {
    "colab": {
     "base_uri": "https://localhost:8080/",
     "height": 35
    },
    "colab_type": "code",
    "id": "bRg4SorLlr_E",
    "outputId": "5bc1b1cf-a412-4ad3-ca85-13ea3a8ea7ce"
   },
   "outputs": [
    {
     "name": "stdout",
     "output_type": "stream",
     "text": [
      "11 0.7863436123348018\n"
     ]
    }
   ],
   "source": [
    "best_k = 0\n",
    "best_score = 0.\n",
    "for k in range(1,16,2):\n",
    "    knn_clf = KNeighborsClassifier(n_neighbors=k, weights='distance')\n",
    "    knn_clf.fit(X_train_sca, y_train)\n",
    "    score = knn_clf.score(X_test_sca, y_test)\n",
    "    if score > best_score:\n",
    "        best_score = score\n",
    "        best_k = k\n",
    "print(best_k, best_score)"
   ]
  },
  {
   "cell_type": "markdown",
   "metadata": {
    "colab_type": "text",
    "id": "x7pYKmmKmUQr"
   },
   "source": [
    "**调整p**"
   ]
  },
  {
   "cell_type": "code",
   "execution_count": 11,
   "metadata": {
    "colab": {
     "base_uri": "https://localhost:8080/",
     "height": 35
    },
    "colab_type": "code",
    "id": "dctEc_-gmX2Z",
    "outputId": "7c8c505d-8309-48b2-cf4c-06f72487e90e"
   },
   "outputs": [
    {
     "name": "stdout",
     "output_type": "stream",
     "text": [
      "8 uniform 3 0.8215859030837004\n"
     ]
    }
   ],
   "source": [
    "best_k = 0\n",
    "best_score = 0.\n",
    "best_weight = ''\n",
    "best_p = 0\n",
    "for weight in ['uniform', 'distance']:\n",
    "    for p in range(1,6):\n",
    "        for k in range(1,11):\n",
    "            knn_clf = KNeighborsClassifier(n_neighbors=k, weights=weight, p=p)\n",
    "            knn_clf.fit(X_train_sca, y_train)\n",
    "            score = knn_clf.score(X_test_sca, y_test)\n",
    "            if score > best_score:\n",
    "                best_score = score\n",
    "                best_k = k\n",
    "                best_weight = weight\n",
    "                best_p = p\n",
    "print(best_k, best_weight, best_p, best_score)"
   ]
  },
  {
   "cell_type": "markdown",
   "metadata": {
    "colab_type": "text",
    "id": "bVNS5Fs8C_vH"
   },
   "source": [
    "**网格搜索**"
   ]
  },
  {
   "cell_type": "code",
   "execution_count": 12,
   "metadata": {
    "colab": {},
    "colab_type": "code",
    "id": "KXLNaiFDC_vI"
   },
   "outputs": [],
   "source": [
    "knn_clf = KNeighborsClassifier()\n",
    "\n",
    "param_grid = [\n",
    "    {\n",
    "        'weights': ['uniform', 'distance'], \n",
    "        'n_neighbors': [i for i in range(1, 16)],\n",
    "        'p': [i for i in range(1, 11)]\n",
    "    }\n",
    "]"
   ]
  },
  {
   "cell_type": "code",
   "execution_count": 13,
   "metadata": {
    "colab": {},
    "colab_type": "code",
    "id": "ozhUdcsNC_vK"
   },
   "outputs": [],
   "source": [
    "from sklearn.model_selection import GridSearchCV\n",
    "\n",
    "grid_search = GridSearchCV(knn_clf, param_grid, cv=10, n_jobs=-1)"
   ]
  },
  {
   "cell_type": "code",
   "execution_count": 14,
   "metadata": {
    "colab": {},
    "colab_type": "code",
    "id": "-iBg0UfKsab4"
   },
   "outputs": [],
   "source": [
    "standardscaler = StandardScaler()\n",
    "standardscaler.fit(X)\n",
    "X_sca = standardscaler.transform(X)"
   ]
  },
  {
   "cell_type": "code",
   "execution_count": 15,
   "metadata": {
    "colab": {
     "base_uri": "https://localhost:8080/",
     "height": 287
    },
    "colab_type": "code",
    "id": "C6kI9vvyC_vO",
    "outputId": "27571113-ac5c-4014-e9b2-c72ef09a58e5"
   },
   "outputs": [
    {
     "data": {
      "text/plain": [
       "GridSearchCV(cv=10, error_score='raise',\n",
       "       estimator=KNeighborsClassifier(algorithm='auto', leaf_size=30, metric='minkowski',\n",
       "           metric_params=None, n_jobs=1, n_neighbors=5, p=2,\n",
       "           weights='uniform'),\n",
       "       fit_params=None, iid=True, n_jobs=-1,\n",
       "       param_grid=[{'weights': ['uniform', 'distance'], 'n_neighbors': [1, 2, 3, 4, 5, 6, 7, 8, 9, 10, 11, 12, 13, 14, 15], 'p': [1, 2, 3, 4, 5, 6, 7, 8, 9, 10]}],\n",
       "       pre_dispatch='2*n_jobs', refit=True, return_train_score='warn',\n",
       "       scoring=None, verbose=0)"
      ]
     },
     "execution_count": 15,
     "metadata": {},
     "output_type": "execute_result"
    }
   ],
   "source": [
    "grid_search.fit(X_sca, y)"
   ]
  },
  {
   "cell_type": "code",
   "execution_count": 16,
   "metadata": {
    "colab": {
     "base_uri": "https://localhost:8080/",
     "height": 35
    },
    "colab_type": "code",
    "id": "CGkGPeSbC_vV",
    "outputId": "3dfa83ba-549e-4466-fc12-10f863825dcd"
   },
   "outputs": [
    {
     "data": {
      "text/plain": [
       "{'n_neighbors': 14, 'p': 7, 'weights': 'uniform'}"
      ]
     },
     "execution_count": 16,
     "metadata": {},
     "output_type": "execute_result"
    }
   ],
   "source": [
    "grid_search.best_params_"
   ]
  },
  {
   "cell_type": "code",
   "execution_count": 17,
   "metadata": {
    "colab": {
     "base_uri": "https://localhost:8080/",
     "height": 35
    },
    "colab_type": "code",
    "id": "sGYDciYRC_vd",
    "outputId": "4746b092-f30e-4dea-db92-646680a3d900"
   },
   "outputs": [
    {
     "data": {
      "text/plain": [
       "0.8087100330760749"
      ]
     },
     "execution_count": 17,
     "metadata": {},
     "output_type": "execute_result"
    }
   ],
   "source": [
    "grid_search.best_score_"
   ]
  },
  {
   "cell_type": "code",
   "execution_count": 18,
   "metadata": {
    "colab": {
     "base_uri": "https://localhost:8080/",
     "height": 35
    },
    "colab_type": "code",
    "id": "nspCXC4feqM8",
    "outputId": "6e65326b-b087-4277-8b19-8705db905e1d"
   },
   "outputs": [
    {
     "data": {
      "text/plain": [
       "0.8235942668136714"
      ]
     },
     "execution_count": 18,
     "metadata": {},
     "output_type": "execute_result"
    }
   ],
   "source": [
    "knn_clf = KNeighborsClassifier(n_neighbors=14, p=7, weights='uniform')\n",
    "knn_clf.fit(X_sca, y)\n",
    "knn_clf.score(X_sca, y)"
   ]
  },
  {
   "cell_type": "markdown",
   "metadata": {
    "colab_type": "text",
    "id": "ADNF08DjC_vj"
   },
   "source": [
    "# kNN Regressor"
   ]
  },
  {
   "cell_type": "code",
   "execution_count": 19,
   "metadata": {
    "colab": {
     "base_uri": "https://localhost:8080/",
     "height": 35
    },
    "colab_type": "code",
    "id": "H5MIIqVYC_vl",
    "outputId": "51c0137c-e8e2-41c2-a962-bf966ae61ba1"
   },
   "outputs": [
    {
     "data": {
      "text/plain": [
       "0.5436604421787554"
      ]
     },
     "execution_count": 19,
     "metadata": {},
     "output_type": "execute_result"
    }
   ],
   "source": [
    "from sklearn.neighbors import KNeighborsRegressor\n",
    "\n",
    "knn_reg = KNeighborsRegressor()\n",
    "knn_reg.fit(X_train_sca, y_train)\n",
    "knn_reg.score(X_test_sca, y_test)"
   ]
  }
 ],
 "metadata": {
  "accelerator": "TPU",
  "colab": {
   "collapsed_sections": [],
   "name": "kNNforAQI.ipynb",
   "provenance": [],
   "version": "0.3.2"
  },
  "kernelspec": {
   "display_name": "Python 3",
   "language": "python",
   "name": "python3"
  },
  "language_info": {
   "codemirror_mode": {
    "name": "ipython",
    "version": 3
   },
   "file_extension": ".py",
   "mimetype": "text/x-python",
   "name": "python",
   "nbconvert_exporter": "python",
   "pygments_lexer": "ipython3",
   "version": "3.7.3"
  }
 },
 "nbformat": 4,
 "nbformat_minor": 1
}
