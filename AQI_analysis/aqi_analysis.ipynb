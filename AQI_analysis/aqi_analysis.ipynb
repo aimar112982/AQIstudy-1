{
 "cells": [
  {
   "cell_type": "markdown",
   "metadata": {
    "colab_type": "text",
    "id": "Zqj1TGo0h4Zq"
   },
   "source": [
    "# 主要城市空气质量分析"
   ]
  },
  {
   "cell_type": "markdown",
   "metadata": {
    "colab_type": "text",
    "id": "LA07x3iaet2H"
   },
   "source": [
    "## 数据清洗与整理\n",
    "\n",
    "1. 提取原始数据中各城市的AQI值\n",
    "\n",
    "2. 去除缺失值\n",
    "\n",
    "3. 保存到单个文件中。"
   ]
  },
  {
   "cell_type": "code",
   "execution_count": 1,
   "metadata": {
    "colab": {},
    "colab_type": "code",
    "id": "s252LwrndlRZ"
   },
   "outputs": [],
   "source": [
    "import numpy as np\n",
    "import pandas as pd\n",
    "from pypinyin import lazy_pinyin, Style"
   ]
  },
  {
   "cell_type": "code",
   "execution_count": 2,
   "metadata": {},
   "outputs": [],
   "source": [
    "# 城市名转化为拼音\n",
    "def h2p(filename):\n",
    "    return ''.join(lazy_pinyin(filename.split('.')[0], style=Style.FIRST_LETTER))"
   ]
  },
  {
   "cell_type": "code",
   "execution_count": 5,
   "metadata": {
    "colab": {},
    "colab_type": "code",
    "id": "fB9jELGQe6L0"
   },
   "outputs": [],
   "source": [
    "import os\n",
    "\n",
    "path = r'../AQI_maincity'\n",
    "filename0 = os.listdir(path)[0]\n",
    "cityname0 = h2p(filename0)\n",
    "dirname0 = os.path.join(path, filename0)\n",
    "with open(dirname0) as f:\n",
    "    data = pd.read_csv(f, usecols=[0,1], index_col='date', encoding='utf-8')\n",
    "    data.rename(columns={'AQI': cityname0}, inplace=True)"
   ]
  },
  {
   "cell_type": "code",
   "execution_count": 6,
   "metadata": {
    "colab": {
     "base_uri": "https://localhost:8080/",
     "height": 143
    },
    "colab_type": "code",
    "id": "MfomDNp7xdVx",
    "outputId": "dd13935a-2555-4aec-f222-d0157dc2c6f1"
   },
   "outputs": [
    {
     "name": "stdout",
     "output_type": "stream",
     "text": [
      "             sh   wlmq     lz     bj   nj   nn   nc   hf    heb   tj  ...    \\\n",
      "date                                                                  ...     \n",
      "2014-01-01  195  196.0  158.0   81.0  177  205  159  166  141.0  131  ...     \n",
      "2014-01-02  147  184.0   99.0  145.0  209  182  171  220  131.0  146  ...     \n",
      "2014-01-03  189  248.0   96.0   74.0  255  185  136  205  191.0  109  ...     \n",
      "\n",
      "              sjz     fz    xn     xa   gy   zz   cq    yc   cc     cs  \n",
      "date                                                                    \n",
      "2014-01-01   85.0   75.0  84.0  120.0  139   94  149  72.0   50  195.0  \n",
      "2014-01-02  205.0   84.0  64.0  117.0  142  113  176  69.0   75  197.0  \n",
      "2014-01-03  138.0  102.0  85.0   92.0  110   76  209  59.0  118  260.0  \n",
      "\n",
      "[3 rows x 30 columns]\n"
     ]
    }
   ],
   "source": [
    "for filename in os.listdir(path)[1:]:\n",
    "    dirname = os.path.join(path, filename)\n",
    "    cityname = h2p(filename)\n",
    "    if os.path.isfile(dirname):\n",
    "        with open(dirname) as f:\n",
    "            df = pd.read_csv(f, usecols=[0,1], index_col='date', encoding='utf-8')\n",
    "            df.rename(columns={'AQI': cityname}, inplace=True)\n",
    "        data = pd.concat([data, df], axis=1, sort=False)\n",
    "# idx = pd.to_datetime(data.index, format='%Y-%m-%d')\n",
    "# data.index = idx\n",
    "data.index.name = 'date'\n",
    "print(data.head(3))"
   ]
  },
  {
   "cell_type": "code",
   "execution_count": 7,
   "metadata": {
    "colab": {
     "base_uri": "https://localhost:8080/",
     "height": 197
    },
    "colab_type": "code",
    "id": "gYIve9rcq-o2",
    "outputId": "38a12e53-0add-4bb0-888a-98eb88e5d678"
   },
   "outputs": [
    {
     "name": "stdout",
     "output_type": "stream",
     "text": [
      "存在缺失值的行数： 29\n",
      "sh      True\n",
      "wlmq    True\n",
      "lz      True\n",
      "bj      True\n",
      "nj      True\n",
      "nn      True\n",
      "nc      True\n",
      "hf      True\n",
      "heb     True\n",
      "tj      True\n",
      "ty      True\n",
      "gz      True\n",
      "cd      True\n",
      "ls      True\n",
      "km      True\n",
      "hz      True\n",
      "wh      True\n",
      "sy      True\n",
      "jn      True\n",
      "sz      True\n",
      "sjz     True\n",
      "fz      True\n",
      "xn      True\n",
      "xa      True\n",
      "gy      True\n",
      "zz      True\n",
      "cq      True\n",
      "yc      True\n",
      "cc      True\n",
      "cs      True\n",
      "dtype: bool\n"
     ]
    }
   ],
   "source": [
    "# 处理缺失值\n",
    "print('存在缺失值的行数：', data[data.isna().values==True].shape[0])\n",
    "data.dropna(axis=0, how='any', inplace=True)\n",
    "print(np.all(data.notna()))"
   ]
  },
  {
   "cell_type": "code",
   "execution_count": 8,
   "metadata": {
    "colab": {},
    "colab_type": "code",
    "id": "GGEjW7R31Psu"
   },
   "outputs": [],
   "source": [
    "# 保存文件\n",
    "data = data.astype(np.int32)\n",
    "data.to_csv('maincity_aqi.csv', encoding='utf-8')"
   ]
  },
  {
   "cell_type": "markdown",
   "metadata": {},
   "source": [
    "## 武汉市空气质量\n",
    "\n",
    "1. 整体情况怎么样？\n",
    "\n",
    "2. 空气质量是否逐年改善？\n",
    "\n",
    "3. 与其他城市相比如何？"
   ]
  },
  {
   "cell_type": "code",
   "execution_count": 1,
   "metadata": {
    "colab": {},
    "colab_type": "code",
    "id": "Dw4qc4r63Fzn"
   },
   "outputs": [],
   "source": [
    "import pandas as pd\n",
    "import numpy as np\n",
    "import matplotlib.pyplot as plt\n",
    "%matplotlib inline"
   ]
  },
  {
   "cell_type": "markdown",
   "metadata": {
    "colab_type": "text",
    "id": "K0T-V_jB-l2D"
   },
   "source": [
    "### 问题一：武汉的空气质量怎么样？\n",
    "\n",
    "1. 描述性统计信息\n",
    "\n",
    "2. 空气质量指数走势图\n",
    "\n",
    "3. 空气质量分布情况"
   ]
  },
  {
   "cell_type": "code",
   "execution_count": 2,
   "metadata": {
    "colab": {
     "base_uri": "https://localhost:8080/",
     "height": 297
    },
    "colab_type": "code",
    "id": "H0QQTika4UVW",
    "outputId": "8c1f2cec-02ef-4e2a-9426-0ebd284f6c3c"
   },
   "outputs": [
    {
     "data": {
      "text/html": [
       "<div>\n",
       "<style scoped>\n",
       "    .dataframe tbody tr th:only-of-type {\n",
       "        vertical-align: middle;\n",
       "    }\n",
       "\n",
       "    .dataframe tbody tr th {\n",
       "        vertical-align: top;\n",
       "    }\n",
       "\n",
       "    .dataframe thead th {\n",
       "        text-align: right;\n",
       "    }\n",
       "</style>\n",
       "<table border=\"1\" class=\"dataframe\">\n",
       "  <thead>\n",
       "    <tr style=\"text-align: right;\">\n",
       "      <th></th>\n",
       "      <th>AQI</th>\n",
       "    </tr>\n",
       "    <tr>\n",
       "      <th>date</th>\n",
       "      <th></th>\n",
       "    </tr>\n",
       "  </thead>\n",
       "  <tbody>\n",
       "    <tr>\n",
       "      <th>2014-01-01</th>\n",
       "      <td>203</td>\n",
       "    </tr>\n",
       "    <tr>\n",
       "      <th>2014-01-02</th>\n",
       "      <td>231</td>\n",
       "    </tr>\n",
       "    <tr>\n",
       "      <th>2014-01-03</th>\n",
       "      <td>224</td>\n",
       "    </tr>\n",
       "    <tr>\n",
       "      <th>2014-01-04</th>\n",
       "      <td>147</td>\n",
       "    </tr>\n",
       "    <tr>\n",
       "      <th>2014-01-05</th>\n",
       "      <td>195</td>\n",
       "    </tr>\n",
       "  </tbody>\n",
       "</table>\n",
       "</div>"
      ],
      "text/plain": [
       "            AQI\n",
       "date           \n",
       "2014-01-01  203\n",
       "2014-01-02  231\n",
       "2014-01-03  224\n",
       "2014-01-04  147\n",
       "2014-01-05  195"
      ]
     },
     "execution_count": 2,
     "metadata": {},
     "output_type": "execute_result"
    }
   ],
   "source": [
    "wh_data = pd.read_csv('maincity_aqi.csv', usecols=['date','wh'], index_col='date')\n",
    "wh_data.rename(columns={'wh': 'AQI'}, inplace=True)\n",
    "idx = pd.to_datetime(wh_data.index, format='%Y-%m-%d')\n",
    "wh_data.index = idx\n",
    "wh_data.name = 'wh'\n",
    "wh_data.head()"
   ]
  },
  {
   "cell_type": "code",
   "execution_count": 48,
   "metadata": {},
   "outputs": [
    {
     "data": {
      "text/html": [
       "<div>\n",
       "<style scoped>\n",
       "    .dataframe tbody tr th:only-of-type {\n",
       "        vertical-align: middle;\n",
       "    }\n",
       "\n",
       "    .dataframe tbody tr th {\n",
       "        vertical-align: top;\n",
       "    }\n",
       "\n",
       "    .dataframe thead th {\n",
       "        text-align: right;\n",
       "    }\n",
       "</style>\n",
       "<table border=\"1\" class=\"dataframe\">\n",
       "  <thead>\n",
       "    <tr style=\"text-align: right;\">\n",
       "      <th></th>\n",
       "      <th>AQI</th>\n",
       "    </tr>\n",
       "  </thead>\n",
       "  <tbody>\n",
       "    <tr>\n",
       "      <th>count</th>\n",
       "      <td>1801.000000</td>\n",
       "    </tr>\n",
       "    <tr>\n",
       "      <th>mean</th>\n",
       "      <td>95.240977</td>\n",
       "    </tr>\n",
       "    <tr>\n",
       "      <th>std</th>\n",
       "      <td>46.980051</td>\n",
       "    </tr>\n",
       "    <tr>\n",
       "      <th>min</th>\n",
       "      <td>0.000000</td>\n",
       "    </tr>\n",
       "    <tr>\n",
       "      <th>25%</th>\n",
       "      <td>64.000000</td>\n",
       "    </tr>\n",
       "    <tr>\n",
       "      <th>50%</th>\n",
       "      <td>88.000000</td>\n",
       "    </tr>\n",
       "    <tr>\n",
       "      <th>75%</th>\n",
       "      <td>114.000000</td>\n",
       "    </tr>\n",
       "    <tr>\n",
       "      <th>95%</th>\n",
       "      <td>182.000000</td>\n",
       "    </tr>\n",
       "    <tr>\n",
       "      <th>max</th>\n",
       "      <td>500.000000</td>\n",
       "    </tr>\n",
       "  </tbody>\n",
       "</table>\n",
       "</div>"
      ],
      "text/plain": [
       "               AQI\n",
       "count  1801.000000\n",
       "mean     95.240977\n",
       "std      46.980051\n",
       "min       0.000000\n",
       "25%      64.000000\n",
       "50%      88.000000\n",
       "75%     114.000000\n",
       "95%     182.000000\n",
       "max     500.000000"
      ]
     },
     "execution_count": 48,
     "metadata": {},
     "output_type": "execute_result"
    }
   ],
   "source": [
    "# 描述性统计信息\n",
    "wh_data.describe([.25, .5, .75, .95])\n",
    "# wh_data.skew()\n",
    "# wh_data.kurt()"
   ]
  },
  {
   "cell_type": "markdown",
   "metadata": {},
   "source": [
    "武汉市AQI均值为95，中位数为88，最小值0，最大值500，有5%的天数AQI在182以上。"
   ]
  },
  {
   "cell_type": "code",
   "execution_count": 67,
   "metadata": {},
   "outputs": [
    {
     "data": {
      "image/png": "[encoded data removed]",
      "text/plain": [
       "<Figure size 1080x432 with 1 Axes>"
      ]
     },
     "metadata": {
      "needs_background": "light"
     },
     "output_type": "display_data"
    }
   ],
   "source": [
    "wh_data.plot(figsize=(15,6), grid=True)\n",
    "plt.show()"
   ]
  },
  {
   "cell_type": "markdown",
   "metadata": {},
   "source": [
    "从2014年至2018年的AQI走势图也可以看出，武汉市大多时间AQI维持在100左右，但在每年冬天似乎空气质量更差？"
   ]
  },
  {
   "cell_type": "code",
   "execution_count": 38,
   "metadata": {},
   "outputs": [
    {
     "data": {
      "text/plain": [
       "(-0.501, 50.0]    239\n",
       "(50.0, 100.0]     891\n",
       "(100.0, 150.0]    499\n",
       "(150.0, 200.0]    106\n",
       "(200.0, 250.0]     43\n",
       "(250.0, 300.0]     16\n",
       "(300.0, 350.0]      6\n",
       "(350.0, 400.0]      0\n",
       "(400.0, 450.0]      0\n",
       "(450.0, 500.0]      1\n",
       "Name: AQI, dtype: int64"
      ]
     },
     "execution_count": 38,
     "metadata": {},
     "output_type": "execute_result"
    }
   ],
   "source": [
    "# 频数分布\n",
    "wh_data.AQI.value_counts(bins=10, sort=False)"
   ]
  },
  {
   "cell_type": "code",
   "execution_count": 39,
   "metadata": {
    "colab": {
     "base_uri": "https://localhost:8080/",
     "height": 235
    },
    "colab_type": "code",
    "id": "P0dsX1UL4qmv",
    "outputId": "a6b42c8b-ae9d-48d9-f674-23eb103ae99f"
   },
   "outputs": [],
   "source": [
    "# 空气质量等级\n",
    "def get_grade(aqi):\n",
    "    if aqi <= 50:\n",
    "        return 'excellent'\n",
    "    elif aqi <= 100:\n",
    "        return 'good'\n",
    "    elif aqi <= 150:\n",
    "        return 'mild'\n",
    "    elif aqi <= 200:\n",
    "        return 'moderate'\n",
    "    elif aqi <= 300:\n",
    "        return 'severe'\n",
    "    elif aqi <= 500:\n",
    "        return 'serious'\n",
    "    else:\n",
    "        return 'excess'"
   ]
  },
  {
   "cell_type": "code",
   "execution_count": 41,
   "metadata": {},
   "outputs": [
    {
     "data": {
      "text/html": [
       "<div>\n",
       "<style scoped>\n",
       "    .dataframe tbody tr th:only-of-type {\n",
       "        vertical-align: middle;\n",
       "    }\n",
       "\n",
       "    .dataframe tbody tr th {\n",
       "        vertical-align: top;\n",
       "    }\n",
       "\n",
       "    .dataframe thead th {\n",
       "        text-align: right;\n",
       "    }\n",
       "</style>\n",
       "<table border=\"1\" class=\"dataframe\">\n",
       "  <thead>\n",
       "    <tr style=\"text-align: right;\">\n",
       "      <th></th>\n",
       "      <th>AQI</th>\n",
       "    </tr>\n",
       "    <tr>\n",
       "      <th>GRADE</th>\n",
       "      <th></th>\n",
       "    </tr>\n",
       "  </thead>\n",
       "  <tbody>\n",
       "    <tr>\n",
       "      <th>excellent</th>\n",
       "      <td>239</td>\n",
       "    </tr>\n",
       "    <tr>\n",
       "      <th>good</th>\n",
       "      <td>891</td>\n",
       "    </tr>\n",
       "    <tr>\n",
       "      <th>mild</th>\n",
       "      <td>499</td>\n",
       "    </tr>\n",
       "    <tr>\n",
       "      <th>moderate</th>\n",
       "      <td>106</td>\n",
       "    </tr>\n",
       "    <tr>\n",
       "      <th>serious</th>\n",
       "      <td>7</td>\n",
       "    </tr>\n",
       "    <tr>\n",
       "      <th>severe</th>\n",
       "      <td>59</td>\n",
       "    </tr>\n",
       "  </tbody>\n",
       "</table>\n",
       "</div>"
      ],
      "text/plain": [
       "           AQI\n",
       "GRADE         \n",
       "excellent  239\n",
       "good       891\n",
       "mild       499\n",
       "moderate   106\n",
       "serious      7\n",
       "severe      59"
      ]
     },
     "execution_count": 41,
     "metadata": {},
     "output_type": "execute_result"
    }
   ],
   "source": [
    "wh_data['GRADE'] = wh_data.AQI.apply(get_grade)\n",
    "wh_data.groupby(by='GRADE').count()"
   ]
  },
  {
   "cell_type": "markdown",
   "metadata": {},
   "source": [
    "最多的是空气质量良，其次是轻度污染。"
   ]
  },
  {
   "cell_type": "code",
   "execution_count": 43,
   "metadata": {
    "colab": {
     "base_uri": "https://localhost:8080/",
     "height": 473
    },
    "colab_type": "code",
    "id": "iNdj6uZKCVt4",
    "outputId": "2eff0280-96d9-46e6-abdf-614c695f51ed"
   },
   "outputs": [
    {
     "data": {
      "image/png": "[encoded data removed]",
      "text/plain": [
       "<Figure size 576x576 with 1 Axes>"
      ]
     },
     "metadata": {},
     "output_type": "display_data"
    }
   ],
   "source": [
    "wh_grade_percent = wh_data.groupby(by='GRADE').size() / len(wh_data)\n",
    "wh_grade_percent.plot.pie(autopct = '%.1f%%', figsize=(8,8))\n",
    "plt.show()"
   ]
  },
  {
   "cell_type": "markdown",
   "metadata": {
    "colab_type": "text",
    "id": "GpUQlMttZdBM"
   },
   "source": [
    "整体来看，武汉市空气质量似乎良好(90.5%的天数处于150以下)，这在全国处于什么水平？"
   ]
  },
  {
   "cell_type": "markdown",
   "metadata": {
    "colab_type": "text",
    "id": "IAexugExdgmH"
   },
   "source": [
    "### 问题二：武汉的空气质量改善了吗？\n",
    "\n",
    "1. 比较不同年份的空气质量"
   ]
  },
  {
   "cell_type": "code",
   "execution_count": 65,
   "metadata": {},
   "outputs": [
    {
     "data": {
      "text/html": [
       "<div>\n",
       "<style scoped>\n",
       "    .dataframe tbody tr th:only-of-type {\n",
       "        vertical-align: middle;\n",
       "    }\n",
       "\n",
       "    .dataframe tbody tr th {\n",
       "        vertical-align: top;\n",
       "    }\n",
       "\n",
       "    .dataframe thead tr th {\n",
       "        text-align: left;\n",
       "    }\n",
       "</style>\n",
       "<table border=\"1\" class=\"dataframe\">\n",
       "  <thead>\n",
       "    <tr>\n",
       "      <th></th>\n",
       "      <th colspan=\"8\" halign=\"left\">AQI</th>\n",
       "    </tr>\n",
       "    <tr>\n",
       "      <th></th>\n",
       "      <th>count</th>\n",
       "      <th>mean</th>\n",
       "      <th>std</th>\n",
       "      <th>min</th>\n",
       "      <th>25%</th>\n",
       "      <th>50%</th>\n",
       "      <th>75%</th>\n",
       "      <th>max</th>\n",
       "    </tr>\n",
       "  </thead>\n",
       "  <tbody>\n",
       "    <tr>\n",
       "      <th>2014</th>\n",
       "      <td>349.0</td>\n",
       "      <td>110.163324</td>\n",
       "      <td>56.413898</td>\n",
       "      <td>21.0</td>\n",
       "      <td>75.0</td>\n",
       "      <td>99.0</td>\n",
       "      <td>126.0</td>\n",
       "      <td>337.0</td>\n",
       "    </tr>\n",
       "    <tr>\n",
       "      <th>2015</th>\n",
       "      <td>357.0</td>\n",
       "      <td>102.504202</td>\n",
       "      <td>47.853335</td>\n",
       "      <td>23.0</td>\n",
       "      <td>68.0</td>\n",
       "      <td>96.0</td>\n",
       "      <td>125.0</td>\n",
       "      <td>334.0</td>\n",
       "    </tr>\n",
       "    <tr>\n",
       "      <th>2016</th>\n",
       "      <td>365.0</td>\n",
       "      <td>92.665753</td>\n",
       "      <td>41.003257</td>\n",
       "      <td>27.0</td>\n",
       "      <td>62.0</td>\n",
       "      <td>88.0</td>\n",
       "      <td>113.0</td>\n",
       "      <td>249.0</td>\n",
       "    </tr>\n",
       "    <tr>\n",
       "      <th>2017</th>\n",
       "      <td>365.0</td>\n",
       "      <td>89.136986</td>\n",
       "      <td>44.608712</td>\n",
       "      <td>23.0</td>\n",
       "      <td>60.0</td>\n",
       "      <td>85.0</td>\n",
       "      <td>107.0</td>\n",
       "      <td>500.0</td>\n",
       "    </tr>\n",
       "    <tr>\n",
       "      <th>2018</th>\n",
       "      <td>365.0</td>\n",
       "      <td>82.547945</td>\n",
       "      <td>38.601743</td>\n",
       "      <td>0.0</td>\n",
       "      <td>57.0</td>\n",
       "      <td>77.0</td>\n",
       "      <td>103.0</td>\n",
       "      <td>252.0</td>\n",
       "    </tr>\n",
       "  </tbody>\n",
       "</table>\n",
       "</div>"
      ],
      "text/plain": [
       "        AQI                                                       \n",
       "      count        mean        std   min   25%   50%    75%    max\n",
       "2014  349.0  110.163324  56.413898  21.0  75.0  99.0  126.0  337.0\n",
       "2015  357.0  102.504202  47.853335  23.0  68.0  96.0  125.0  334.0\n",
       "2016  365.0   92.665753  41.003257  27.0  62.0  88.0  113.0  249.0\n",
       "2017  365.0   89.136986  44.608712  23.0  60.0  85.0  107.0  500.0\n",
       "2018  365.0   82.547945  38.601743   0.0  57.0  77.0  103.0  252.0"
      ]
     },
     "execution_count": 65,
     "metadata": {},
     "output_type": "execute_result"
    }
   ],
   "source": [
    "# str(i)[:4]表示年份\n",
    "# years = pd.Series([str(i)[:4] for i in wh_data.index]).drop_duplicates().reset_index()\n",
    "years = [str(i)[:4] for i in wh_data.index]\n",
    "years_unique = np.unique(years)\n",
    "wh_data.groupby(by=years).describe()"
   ]
  },
  {
   "cell_type": "markdown",
   "metadata": {},
   "source": [
    "从均值和中位数来看，每年空气质量都在改善。"
   ]
  },
  {
   "cell_type": "code",
   "execution_count": 49,
   "metadata": {},
   "outputs": [
    {
     "data": {
      "text/html": [
       "<div>\n",
       "<style scoped>\n",
       "    .dataframe tbody tr th:only-of-type {\n",
       "        vertical-align: middle;\n",
       "    }\n",
       "\n",
       "    .dataframe tbody tr th {\n",
       "        vertical-align: top;\n",
       "    }\n",
       "\n",
       "    .dataframe thead th {\n",
       "        text-align: right;\n",
       "    }\n",
       "</style>\n",
       "<table border=\"1\" class=\"dataframe\">\n",
       "  <thead>\n",
       "    <tr style=\"text-align: right;\">\n",
       "      <th></th>\n",
       "      <th>AQI</th>\n",
       "      <th>GRADE</th>\n",
       "    </tr>\n",
       "    <tr>\n",
       "      <th>date</th>\n",
       "      <th></th>\n",
       "      <th></th>\n",
       "    </tr>\n",
       "  </thead>\n",
       "  <tbody>\n",
       "    <tr>\n",
       "      <th>2018-01-01</th>\n",
       "      <td>122</td>\n",
       "      <td>mild</td>\n",
       "    </tr>\n",
       "    <tr>\n",
       "      <th>2018-01-02</th>\n",
       "      <td>176</td>\n",
       "      <td>moderate</td>\n",
       "    </tr>\n",
       "    <tr>\n",
       "      <th>2018-01-03</th>\n",
       "      <td>109</td>\n",
       "      <td>mild</td>\n",
       "    </tr>\n",
       "    <tr>\n",
       "      <th>2018-01-04</th>\n",
       "      <td>54</td>\n",
       "      <td>good</td>\n",
       "    </tr>\n",
       "    <tr>\n",
       "      <th>2018-01-05</th>\n",
       "      <td>104</td>\n",
       "      <td>mild</td>\n",
       "    </tr>\n",
       "  </tbody>\n",
       "</table>\n",
       "</div>"
      ],
      "text/plain": [
       "            AQI     GRADE\n",
       "date                     \n",
       "2018-01-01  122      mild\n",
       "2018-01-02  176  moderate\n",
       "2018-01-03  109      mild\n",
       "2018-01-04   54      good\n",
       "2018-01-05  104      mild"
      ]
     },
     "execution_count": 49,
     "metadata": {},
     "output_type": "execute_result"
    }
   ],
   "source": [
    "# 按年份分组\n",
    "wh_years = {f'wh_{year}': wh_data.loc[f'{year}-01-01':f'{year}-12-31',:] for year in years_unique}\n",
    "wh_years['wh_2018'].head()"
   ]
  },
  {
   "cell_type": "code",
   "execution_count": 50,
   "metadata": {},
   "outputs": [
    {
     "data": {
      "text/plain": [
       "GRADE\n",
       "excellent     62\n",
       "good         204\n",
       "mild          79\n",
       "moderate      16\n",
       "severe         4\n",
       "dtype: int64"
      ]
     },
     "execution_count": 50,
     "metadata": {},
     "output_type": "execute_result"
    }
   ],
   "source": [
    "# 每年的空气质量情况\n",
    "wh_years_grade = {f'wh_{year}_grade': wh_year.groupby(by=\"GRADE\").size() for year, wh_year in zip(years_unique, wh_years.values())}\n",
    "wh_years_grade['wh_2018_grade']"
   ]
  },
  {
   "cell_type": "code",
   "execution_count": 51,
   "metadata": {
    "colab": {
     "base_uri": "https://localhost:8080/",
     "height": 416
    },
    "colab_type": "code",
    "id": "ilpAZRX9iiBf",
    "outputId": "834b3526-c80e-41fd-b44e-887971ca7e10",
    "scrolled": true
   },
   "outputs": [
    {
     "data": {
      "image/png": "[encoded data removed]",
      "text/plain": [
       "<Figure size 1080x360 with 1 Axes>"
      ]
     },
     "metadata": {
      "needs_background": "light"
     },
     "output_type": "display_data"
    }
   ],
   "source": [
    "wh_grades = pd.concat(wh_years_grade, axis=1, sort=False).fillna(0).astype(np.int32)\n",
    "wh_grades.columns = years_unique\n",
    "wh_grades.plot.bar(figsize=(15,5))\n",
    "plt.show()"
   ]
  },
  {
   "cell_type": "markdown",
   "metadata": {
    "colab_type": "text",
    "id": "Uq0fWcuPHEsP"
   },
   "source": [
    "空气质量为优和良的天数逐年增加，武汉空气质量在改善。"
   ]
  },
  {
   "cell_type": "markdown",
   "metadata": {
    "colab_type": "text",
    "id": "ph_Z1a5OH8I_"
   },
   "source": [
    "### 问题三：武汉市空气质量与其他城市对比\n",
    "\n",
    "1. 比较武汉市，北京市，上海市，深圳市2018年的空气质量"
   ]
  },
  {
   "cell_type": "code",
   "execution_count": 52,
   "metadata": {
    "colab": {
     "base_uri": "https://localhost:8080/",
     "height": 235
    },
    "colab_type": "code",
    "id": "0i1aZu7eD7go",
    "outputId": "7754df6b-69f5-4b54-bc66-a6f873c5aea8"
   },
   "outputs": [
    {
     "data": {
      "text/html": [
       "<div>\n",
       "<style scoped>\n",
       "    .dataframe tbody tr th:only-of-type {\n",
       "        vertical-align: middle;\n",
       "    }\n",
       "\n",
       "    .dataframe tbody tr th {\n",
       "        vertical-align: top;\n",
       "    }\n",
       "\n",
       "    .dataframe thead th {\n",
       "        text-align: right;\n",
       "    }\n",
       "</style>\n",
       "<table border=\"1\" class=\"dataframe\">\n",
       "  <thead>\n",
       "    <tr style=\"text-align: right;\">\n",
       "      <th></th>\n",
       "      <th>sh</th>\n",
       "      <th>bj</th>\n",
       "      <th>wh</th>\n",
       "      <th>sz</th>\n",
       "    </tr>\n",
       "    <tr>\n",
       "      <th>date</th>\n",
       "      <th></th>\n",
       "      <th></th>\n",
       "      <th></th>\n",
       "      <th></th>\n",
       "    </tr>\n",
       "  </thead>\n",
       "  <tbody>\n",
       "    <tr>\n",
       "      <th>2018-01-01</th>\n",
       "      <td>123</td>\n",
       "      <td>60</td>\n",
       "      <td>122</td>\n",
       "      <td>99</td>\n",
       "    </tr>\n",
       "    <tr>\n",
       "      <th>2018-01-02</th>\n",
       "      <td>59</td>\n",
       "      <td>49</td>\n",
       "      <td>176</td>\n",
       "      <td>84</td>\n",
       "    </tr>\n",
       "    <tr>\n",
       "      <th>2018-01-03</th>\n",
       "      <td>42</td>\n",
       "      <td>29</td>\n",
       "      <td>109</td>\n",
       "      <td>59</td>\n",
       "    </tr>\n",
       "    <tr>\n",
       "      <th>2018-01-04</th>\n",
       "      <td>37</td>\n",
       "      <td>44</td>\n",
       "      <td>54</td>\n",
       "      <td>52</td>\n",
       "    </tr>\n",
       "    <tr>\n",
       "      <th>2018-01-05</th>\n",
       "      <td>52</td>\n",
       "      <td>69</td>\n",
       "      <td>104</td>\n",
       "      <td>53</td>\n",
       "    </tr>\n",
       "  </tbody>\n",
       "</table>\n",
       "</div>"
      ],
      "text/plain": [
       "             sh  bj   wh  sz\n",
       "date                        \n",
       "2018-01-01  123  60  122  99\n",
       "2018-01-02   59  49  176  84\n",
       "2018-01-03   42  29  109  59\n",
       "2018-01-04   37  44   54  52\n",
       "2018-01-05   52  69  104  53"
      ]
     },
     "execution_count": 52,
     "metadata": {},
     "output_type": "execute_result"
    }
   ],
   "source": [
    "data_city = pd.read_csv('maincity_aqi.csv', usecols=['date','wh','bj','sh','sz'], index_col='date').loc['2018-01-01':'2018-12-31']\n",
    "data_city.head()"
   ]
  },
  {
   "cell_type": "code",
   "execution_count": 53,
   "metadata": {},
   "outputs": [
    {
     "data": {
      "text/html": [
       "<div>\n",
       "<style scoped>\n",
       "    .dataframe tbody tr th:only-of-type {\n",
       "        vertical-align: middle;\n",
       "    }\n",
       "\n",
       "    .dataframe tbody tr th {\n",
       "        vertical-align: top;\n",
       "    }\n",
       "\n",
       "    .dataframe thead th {\n",
       "        text-align: right;\n",
       "    }\n",
       "</style>\n",
       "<table border=\"1\" class=\"dataframe\">\n",
       "  <thead>\n",
       "    <tr style=\"text-align: right;\">\n",
       "      <th></th>\n",
       "      <th>sh</th>\n",
       "      <th>bj</th>\n",
       "      <th>wh</th>\n",
       "      <th>sz</th>\n",
       "    </tr>\n",
       "  </thead>\n",
       "  <tbody>\n",
       "    <tr>\n",
       "      <th>count</th>\n",
       "      <td>365.000000</td>\n",
       "      <td>365.000000</td>\n",
       "      <td>365.000000</td>\n",
       "      <td>365.000000</td>\n",
       "    </tr>\n",
       "    <tr>\n",
       "      <th>mean</th>\n",
       "      <td>74.213699</td>\n",
       "      <td>91.942466</td>\n",
       "      <td>82.547945</td>\n",
       "      <td>53.528767</td>\n",
       "    </tr>\n",
       "    <tr>\n",
       "      <th>std</th>\n",
       "      <td>34.582015</td>\n",
       "      <td>51.537402</td>\n",
       "      <td>38.601743</td>\n",
       "      <td>23.015699</td>\n",
       "    </tr>\n",
       "    <tr>\n",
       "      <th>min</th>\n",
       "      <td>0.000000</td>\n",
       "      <td>0.000000</td>\n",
       "      <td>0.000000</td>\n",
       "      <td>0.000000</td>\n",
       "    </tr>\n",
       "    <tr>\n",
       "      <th>25%</th>\n",
       "      <td>49.000000</td>\n",
       "      <td>53.000000</td>\n",
       "      <td>57.000000</td>\n",
       "      <td>38.000000</td>\n",
       "    </tr>\n",
       "    <tr>\n",
       "      <th>50%</th>\n",
       "      <td>65.000000</td>\n",
       "      <td>80.000000</td>\n",
       "      <td>77.000000</td>\n",
       "      <td>49.000000</td>\n",
       "    </tr>\n",
       "    <tr>\n",
       "      <th>75%</th>\n",
       "      <td>90.000000</td>\n",
       "      <td>119.000000</td>\n",
       "      <td>103.000000</td>\n",
       "      <td>63.000000</td>\n",
       "    </tr>\n",
       "    <tr>\n",
       "      <th>max</th>\n",
       "      <td>239.000000</td>\n",
       "      <td>294.000000</td>\n",
       "      <td>252.000000</td>\n",
       "      <td>174.000000</td>\n",
       "    </tr>\n",
       "  </tbody>\n",
       "</table>\n",
       "</div>"
      ],
      "text/plain": [
       "               sh          bj          wh          sz\n",
       "count  365.000000  365.000000  365.000000  365.000000\n",
       "mean    74.213699   91.942466   82.547945   53.528767\n",
       "std     34.582015   51.537402   38.601743   23.015699\n",
       "min      0.000000    0.000000    0.000000    0.000000\n",
       "25%     49.000000   53.000000   57.000000   38.000000\n",
       "50%     65.000000   80.000000   77.000000   49.000000\n",
       "75%     90.000000  119.000000  103.000000   63.000000\n",
       "max    239.000000  294.000000  252.000000  174.000000"
      ]
     },
     "execution_count": 53,
     "metadata": {},
     "output_type": "execute_result"
    }
   ],
   "source": [
    "data_city.describe()"
   ]
  },
  {
   "cell_type": "markdown",
   "metadata": {},
   "source": [
    "从均值和中位数可以看出，深圳市空气质量最好，北京市最差，武汉市排在第三。"
   ]
  },
  {
   "cell_type": "code",
   "execution_count": 54,
   "metadata": {},
   "outputs": [
    {
     "data": {
      "text/html": [
       "<div>\n",
       "<style scoped>\n",
       "    .dataframe tbody tr th:only-of-type {\n",
       "        vertical-align: middle;\n",
       "    }\n",
       "\n",
       "    .dataframe tbody tr th {\n",
       "        vertical-align: top;\n",
       "    }\n",
       "\n",
       "    .dataframe thead th {\n",
       "        text-align: right;\n",
       "    }\n",
       "</style>\n",
       "<table border=\"1\" class=\"dataframe\">\n",
       "  <thead>\n",
       "    <tr style=\"text-align: right;\">\n",
       "      <th></th>\n",
       "      <th>sh</th>\n",
       "      <th>bj</th>\n",
       "      <th>wh</th>\n",
       "      <th>sz</th>\n",
       "      <th>sh_grade</th>\n",
       "      <th>bj_grade</th>\n",
       "      <th>wh_grade</th>\n",
       "      <th>sz_grade</th>\n",
       "    </tr>\n",
       "    <tr>\n",
       "      <th>date</th>\n",
       "      <th></th>\n",
       "      <th></th>\n",
       "      <th></th>\n",
       "      <th></th>\n",
       "      <th></th>\n",
       "      <th></th>\n",
       "      <th></th>\n",
       "      <th></th>\n",
       "    </tr>\n",
       "  </thead>\n",
       "  <tbody>\n",
       "    <tr>\n",
       "      <th>2018-01-01</th>\n",
       "      <td>123</td>\n",
       "      <td>60</td>\n",
       "      <td>122</td>\n",
       "      <td>99</td>\n",
       "      <td>mild</td>\n",
       "      <td>good</td>\n",
       "      <td>mild</td>\n",
       "      <td>good</td>\n",
       "    </tr>\n",
       "    <tr>\n",
       "      <th>2018-01-02</th>\n",
       "      <td>59</td>\n",
       "      <td>49</td>\n",
       "      <td>176</td>\n",
       "      <td>84</td>\n",
       "      <td>good</td>\n",
       "      <td>excellent</td>\n",
       "      <td>moderate</td>\n",
       "      <td>good</td>\n",
       "    </tr>\n",
       "    <tr>\n",
       "      <th>2018-01-03</th>\n",
       "      <td>42</td>\n",
       "      <td>29</td>\n",
       "      <td>109</td>\n",
       "      <td>59</td>\n",
       "      <td>excellent</td>\n",
       "      <td>excellent</td>\n",
       "      <td>mild</td>\n",
       "      <td>good</td>\n",
       "    </tr>\n",
       "    <tr>\n",
       "      <th>2018-01-04</th>\n",
       "      <td>37</td>\n",
       "      <td>44</td>\n",
       "      <td>54</td>\n",
       "      <td>52</td>\n",
       "      <td>excellent</td>\n",
       "      <td>excellent</td>\n",
       "      <td>good</td>\n",
       "      <td>good</td>\n",
       "    </tr>\n",
       "    <tr>\n",
       "      <th>2018-01-05</th>\n",
       "      <td>52</td>\n",
       "      <td>69</td>\n",
       "      <td>104</td>\n",
       "      <td>53</td>\n",
       "      <td>good</td>\n",
       "      <td>good</td>\n",
       "      <td>mild</td>\n",
       "      <td>good</td>\n",
       "    </tr>\n",
       "  </tbody>\n",
       "</table>\n",
       "</div>"
      ],
      "text/plain": [
       "             sh  bj   wh  sz   sh_grade   bj_grade  wh_grade sz_grade\n",
       "date                                                                 \n",
       "2018-01-01  123  60  122  99       mild       good      mild     good\n",
       "2018-01-02   59  49  176  84       good  excellent  moderate     good\n",
       "2018-01-03   42  29  109  59  excellent  excellent      mild     good\n",
       "2018-01-04   37  44   54  52  excellent  excellent      good     good\n",
       "2018-01-05   52  69  104  53       good       good      mild     good"
      ]
     },
     "execution_count": 54,
     "metadata": {},
     "output_type": "execute_result"
    }
   ],
   "source": [
    "for col in data_city.columns:\n",
    "    data_city[f'{col}_grade'] = data_city.loc[:,col].apply(get_grade)\n",
    "    \n",
    "data_city.head()"
   ]
  },
  {
   "cell_type": "code",
   "execution_count": 55,
   "metadata": {},
   "outputs": [
    {
     "data": {
      "image/png": "[encoded data removed]",
      "text/plain": [
       "<Figure size 1080x360 with 1 Axes>"
      ]
     },
     "metadata": {
      "needs_background": "light"
     },
     "output_type": "display_data"
    }
   ],
   "source": [
    "city_percent = [data_city[[f'{col}', f'{col}_grade']].groupby(f'{col}_grade').size() / len(data_city) for col in data_city.columns[:4]]\n",
    "city_percent = pd.concat(city_percent, axis=1, sort=False)\n",
    "city_percent.columns = ['sh', 'bj', 'wh', 'sz']\n",
    "city_percent.plot.bar(figsize=(15,5))\n",
    "plt.show()"
   ]
  },
  {
   "cell_type": "code",
   "execution_count": 56,
   "metadata": {
    "colab": {
     "base_uri": "https://localhost:8080/",
     "height": 107
    },
    "colab_type": "code",
    "id": "SpVDlNBRid8F",
    "outputId": "d814e70e-c62e-46b9-de34-89381cd909f8"
   },
   "outputs": [
    {
     "data": {
      "text/plain": [
       "sz    0.956164\n",
       "sh    0.816438\n",
       "wh    0.728767\n",
       "bj    0.635616\n",
       "dtype: float64"
      ]
     },
     "execution_count": 56,
     "metadata": {},
     "output_type": "execute_result"
    }
   ],
   "source": [
    "city_percent.loc[['excellent', 'good']].sum().sort_values(ascending=False)"
   ]
  },
  {
   "cell_type": "markdown",
   "metadata": {
    "colab_type": "text",
    "id": "3V6rgP5Flrf6"
   },
   "source": [
    "比较AQI<=100的比例，深圳市空气质量最好，武汉市略胜北京。"
   ]
  },
  {
   "cell_type": "markdown",
   "metadata": {
    "colab_type": "text",
    "id": "3zDgeJaEmj1y"
   },
   "source": [
    "### 问题四：武汉市一年四季哪个季度空气质量最差？\n",
    "\n",
    "1. 2017.12-2018.11"
   ]
  },
  {
   "cell_type": "code",
   "execution_count": 93,
   "metadata": {
    "colab": {},
    "colab_type": "code",
    "id": "O6VThvHimw5r"
   },
   "outputs": [],
   "source": [
    "wh_winter = wh_data.loc['2017-12-01':'2018-2-28']\n",
    "wh_spring = wh_data.loc['2018-03-01':'2018-05-31']\n",
    "wh_summer = wh_data.loc['2018-06-01':'2018-08-31']\n",
    "wh_fall = wh_data.loc['2018-09-01':'2018-11-30']"
   ]
  },
  {
   "cell_type": "code",
   "execution_count": 94,
   "metadata": {
    "colab": {
     "base_uri": "https://localhost:8080/",
     "height": 416
    },
    "colab_type": "code",
    "id": "msmlHGP7nZFk",
    "outputId": "572e0e98-fcfd-49ac-c068-eab9c0b52fb8"
   },
   "outputs": [
    {
     "data": {
      "image/png": "[encoded data removed]",
      "text/plain": [
       "<Figure size 1080x432 with 1 Axes>"
      ]
     },
     "metadata": {
      "needs_background": "light"
     },
     "output_type": "display_data"
    }
   ],
   "source": [
    "winter_grade = wh_winter.groupby('GRADE').size() / len(wh_winter)\n",
    "spring_grade = wh_spring.groupby('GRADE').size() / len(wh_spring)\n",
    "summer_grade = wh_summer.groupby('GRADE').size() / len(wh_summer)\n",
    "fall_grade = wh_fall.groupby('GRADE').size() / len(wh_fall)\n",
    "\n",
    "season_grade = pd.concat([winter_grade,spring_grade,summer_grade,fall_grade], axis=1, sort=False)\n",
    "season_grade.columns = [ 'winter','spring','summer', 'fall']\n",
    "season_grade.plot.bar(figsize=(15,6))\n",
    "plt.show()"
   ]
  },
  {
   "cell_type": "code",
   "execution_count": 96,
   "metadata": {
    "colab": {
     "base_uri": "https://localhost:8080/",
     "height": 107
    },
    "colab_type": "code",
    "id": "v9n3T4URooMa",
    "outputId": "5babc742-d862-4b97-9fcf-141594caaed6"
   },
   "outputs": [
    {
     "data": {
      "text/plain": [
       "spring    0.858696\n",
       "fall      0.813187\n",
       "summer    0.706522\n",
       "winter    0.422222\n",
       "dtype: float64"
      ]
     },
     "execution_count": 96,
     "metadata": {},
     "output_type": "execute_result"
    }
   ],
   "source": [
    "season_grade.loc[['excellent', 'good']].sum().sort_values(ascending=False)"
   ]
  },
  {
   "cell_type": "markdown",
   "metadata": {
    "colab_type": "text",
    "id": "acrzL0Ogoxnc"
   },
   "source": [
    "从统计信息可以看出，确实冬天的空气质量更差。"
   ]
  },
  {
   "cell_type": "markdown",
   "metadata": {
    "colab_type": "text",
    "id": "j5Rmr7FDqEys"
   },
   "source": [
    "未完待续..."
   ]
  },
  {
   "cell_type": "code",
   "execution_count": 0,
   "metadata": {
    "colab": {},
    "colab_type": "code",
    "id": "iv5mrCuKqHdl"
   },
   "outputs": [],
   "source": []
  }
 ],
 "metadata": {
  "accelerator": "TPU",
  "colab": {
   "collapsed_sections": [],
   "name": "aqi.ipynb",
   "provenance": [],
   "toc_visible": true,
   "version": "0.3.2"
  },
  "kernelspec": {
   "display_name": "Python 3",
   "language": "python",
   "name": "python3"
  },
  "language_info": {
   "codemirror_mode": {
    "name": "ipython",
    "version": 3
   },
   "file_extension": ".py",
   "mimetype": "text/x-python",
   "name": "python",
   "nbconvert_exporter": "python",
   "pygments_lexer": "ipython3",
   "version": "3.6.8"
  }
 },
 "nbformat": 4,
 "nbformat_minor": 1
}
