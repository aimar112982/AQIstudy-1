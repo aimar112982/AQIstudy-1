{
  "nbformat": 4,
  "nbformat_minor": 0,
  "metadata": {
    "colab": {
      "name": "Titanic_Survived_prediction.ipynb",
      "version": "0.3.2",
      "provenance": [],
      "collapsed_sections": [],
      "include_colab_link": true
    },
    "kernelspec": {
      "name": "python3",
      "display_name": "Python 3"
    },
    "accelerator": "GPU"
  },
  "cells": [
    {
      "cell_type": "markdown",
      "metadata": {
        "id": "view-in-github",
        "colab_type": "text"
      },
      "source": [
        "<a href=\"https://colab.research.google.com/github/qinyunkone/AQIstudy/blob/master/Titanic_Survived_prediction.ipynb\" target=\"_parent\"><img src=\"https://colab.research.google.com/assets/colab-badge.svg\" alt=\"Open In Colab\"/></a>"
      ]
    },
    {
      "cell_type": "code",
      "metadata": {
        "id": "8E8PE6BAk-yk",
        "colab_type": "code",
        "colab": {}
      },
      "source": [
        "import pandas as pd\n",
        "import numpy as np\n",
        "import re\n",
        "import warnings\n",
        "warnings.filterwarnings(\"ignore\")"
      ],
      "execution_count": 0,
      "outputs": []
    },
    {
      "cell_type": "code",
      "metadata": {
        "id": "pQy_ZGH9lw9e",
        "colab_type": "code",
        "colab": {}
      },
      "source": [
        "train_data = pd.read_csv('train.csv')\n",
        "test_data = pd.read_csv('test.csv')\n",
        "PassengerId = test_data.PassengerId"
      ],
      "execution_count": 0,
      "outputs": []
    },
    {
      "cell_type": "markdown",
      "metadata": {
        "id": "W5XgHJl8FsQh",
        "colab_type": "text"
      },
      "source": [
        "# 特征提取"
      ]
    },
    {
      "cell_type": "code",
      "metadata": {
        "id": "NoFrcTIrwsae",
        "colab_type": "code",
        "colab": {}
      },
      "source": [
        "full_data = [train_data, test_data]\n",
        "\n",
        "# 缺失值处理\n",
        "for data in full_data:\n",
        "    age_mean = data.Age.mean()\n",
        "    age_std = data.Age.std()\n",
        "    age_null_count = data.Age.isnull().sum()\n",
        "    data['Age'][np.isnan(data['Age'])] = np.random.randint(age_mean-age_std, age_mean+age_std, size=age_null_count)  # 填充年龄缺失值\n",
        "    \n",
        "    data['Embarked'].fillna('S', inplace=True)  # 票号最接近的都是'S'\n",
        "    \n",
        "    data['Fare'].fillna(data['Fare'].median())  # 用中位数填充票价的缺失值\n",
        "\n",
        "# 离散值处理\n",
        "for data in full_data:\n",
        "    data['Sex'] = data.Sex.map({'female': 0, 'male': 1})\n",
        "    \n",
        "    data['Embarked'] = data.Embarked.map({'C': 0, 'Q': 1, 'S': 2})\n",
        "    \n",
        "# 其他处理\n",
        "def get_title(name):\n",
        "    title_search = re.search('([A-Za-z]+)\\.', name)\n",
        "    if title_search:\n",
        "        return title_search.group(1)\n",
        "    return ''\n",
        "\n",
        "for data in full_data:    \n",
        "    data['Cabin'] = data['Cabin'].apply(lambda x: 1 if x==x else 0)  # 是否拥有客舱\n",
        "    \n",
        "    data['FamilySize'] = data['SibSp'] + data['Parch'] + 1  # 家庭人数\n",
        "    \n",
        "    data['IsAlone'] = data['FamilySize'].apply(lambda x: 1 if x==1 else 0)  # 是否单身\n",
        "    \n",
        "    data['Title'] = data['Name'].apply(get_title)\n",
        "    data['Title'] = data['Title'].replace(['Lady', 'Countess','Capt', 'Col','Don', 'Dr', 'Major', 'Rev', 'Sir', 'Jonkheer', 'Dona'], 'Rare')\n",
        "    data['Title'] = data['Title'].replace('Mlle', 'Miss')\n",
        "    data['Title'] = data['Title'].replace('Ms', 'Miss')\n",
        "    data['Title'] = data['Title'].replace('Mme', 'Mrs')\n",
        "    data['Title'] = data['Title'].map({'Mr': 1, 'Miss': 2, 'Mrs': 3, 'Master': 4, \"Rare\": 5})"
      ],
      "execution_count": 0,
      "outputs": []
    },
    {
      "cell_type": "code",
      "metadata": {
        "id": "KGwlYZ-Uwl_F",
        "colab_type": "code",
        "colab": {}
      },
      "source": [
        "drop_cols = ['PassengerId', 'Name', 'Ticket', 'SibSp']\n",
        "train_data = train_data.drop(columns=drop_cols)\n",
        "test_data  = test_data.drop(columns=drop_cols)\n",
        "y_train = train_data.iloc[:, 0]\n",
        "X_train = train_data.iloc[:, 1:]\n",
        "X_test = test_data\n",
        "y_test = pd.read_csv('gender_submission.csv').Survived"
      ],
      "execution_count": 0,
      "outputs": []
    },
    {
      "cell_type": "markdown",
      "metadata": {
        "id": "wF3ANId7EPyU",
        "colab_type": "text"
      },
      "source": [
        "# 模型"
      ]
    },
    {
      "cell_type": "code",
      "metadata": {
        "id": "UW-QBOZ4-lEG",
        "colab_type": "code",
        "outputId": "2d8ef158-a9fa-4c10-b003-f7383d2bc47c",
        "colab": {
          "base_uri": "https://localhost:8080/",
          "height": 35
        }
      },
      "source": [
        "from xgboost import XGBClassifier\n",
        "\n",
        "xgb_clf = XGBClassifier(n_estimators=100)\n",
        "xgb_clf.fit(X_train, y_train)\n",
        "xgb_clf.score(X_test, y_test)"
      ],
      "execution_count": 0,
      "outputs": [
        {
          "output_type": "execute_result",
          "data": {
            "text/plain": [
              "0.8947368421052632"
            ]
          },
          "metadata": {
            "tags": []
          },
          "execution_count": 5
        }
      ]
    },
    {
      "cell_type": "code",
      "metadata": {
        "id": "OnDaOYOKFyOY",
        "colab_type": "code",
        "outputId": "2f849356-39ab-47cb-d12b-4656de3a17f0",
        "colab": {
          "base_uri": "https://localhost:8080/",
          "height": 345
        }
      },
      "source": [
        "from sklearn.model_selection import GridSearchCV\n",
        "\n",
        "xgb = XGBClassifier(\n",
        "    n_estimators=100\n",
        ")\n",
        "\n",
        "params = {\n",
        "    'learning_rate': [0.1, 0.3, 0.5],\n",
        "    'gamma': [0, 0.1, 1],    \n",
        "    'max_depth': np.arange(1, 6),\n",
        "    'min_child_weight': np.arange(1, 6),\n",
        "    'subsample': [0.5, 0.8, 1],\n",
        "    'colsample_bytree': [0.5, 0.8, 1]\n",
        "}\n",
        "\n",
        "grid = GridSearchCV(xgb, params, n_jobs=-1)\n",
        "grid.fit(X_train, y_train)"
      ],
      "execution_count": 0,
      "outputs": [
        {
          "output_type": "execute_result",
          "data": {
            "text/plain": [
              "GridSearchCV(cv='warn', error_score='raise-deprecating',\n",
              "             estimator=XGBClassifier(base_score=0.5, booster='gbtree',\n",
              "                                     colsample_bylevel=1, colsample_bynode=1,\n",
              "                                     colsample_bytree=1, gamma=0,\n",
              "                                     learning_rate=0.1, max_delta_step=0,\n",
              "                                     max_depth=3, min_child_weight=1,\n",
              "                                     missing=None, n_estimators=100, n_jobs=1,\n",
              "                                     nthread=None, objective='binary:logistic',\n",
              "                                     random_state=0, reg_alpha=0,...\n",
              "                                     scale_pos_weight=1, seed=None, silent=None,\n",
              "                                     subsample=1, verbosity=1),\n",
              "             iid='warn', n_jobs=-1,\n",
              "             param_grid={'colsample_bytree': [0.5, 0.8, 1],\n",
              "                         'gamma': [0, 0.1, 1], 'learning_rate': [0.1, 0.3, 0.5],\n",
              "                         'max_depth': array([1, 2, 3, 4, 5]),\n",
              "                         'min_child_weight': array([1, 2, 3, 4, 5]),\n",
              "                         'subsample': [0.5, 0.8, 1]},\n",
              "             pre_dispatch='2*n_jobs', refit=True, return_train_score=False,\n",
              "             scoring=None, verbose=0)"
            ]
          },
          "metadata": {
            "tags": []
          },
          "execution_count": 6
        }
      ]
    },
    {
      "cell_type": "code",
      "metadata": {
        "id": "Cwcr4xwVP08G",
        "colab_type": "code",
        "outputId": "71047ec9-35cf-43f4-f498-a56adeee0ddc",
        "colab": {
          "base_uri": "https://localhost:8080/",
          "height": 69
        }
      },
      "source": [
        "print(grid.best_params_)\n",
        "print(grid.best_score_)\n",
        "model = grid.best_estimator_\n",
        "\n",
        "model.score(X_test, y_test)"
      ],
      "execution_count": 0,
      "outputs": [
        {
          "output_type": "stream",
          "text": [
            "{'colsample_bytree': 0.5, 'gamma': 0.1, 'learning_rate': 0.3, 'max_depth': 5, 'min_child_weight': 4, 'subsample': 0.8}\n",
            "0.8507295173961841\n"
          ],
          "name": "stdout"
        },
        {
          "output_type": "execute_result",
          "data": {
            "text/plain": [
              "0.8660287081339713"
            ]
          },
          "metadata": {
            "tags": []
          },
          "execution_count": 7
        }
      ]
    },
    {
      "cell_type": "code",
      "metadata": {
        "id": "rbxn_Z5GA9ti",
        "colab_type": "code",
        "colab": {}
      },
      "source": [
        "# predictions = model.predict(X_test)\n",
        "# Submission = pd.DataFrame({ 'PassengerId': PassengerId,\n",
        "#                             'Survived': predictions })\n",
        "# Submission.to_csv('Submission.csv', index=False)"
      ],
      "execution_count": 0,
      "outputs": []
    }
  ]
}