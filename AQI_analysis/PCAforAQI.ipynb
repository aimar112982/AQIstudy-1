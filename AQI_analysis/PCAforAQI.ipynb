{
 "cells": [
  {
   "cell_type": "markdown",
   "metadata": {
    "colab_type": "text",
    "id": "obt2Dvp0RJnt"
   },
   "source": [
    "# 主成分分析"
   ]
  },
  {
   "cell_type": "code",
   "execution_count": 1,
   "metadata": {
    "colab": {
     "base_uri": "https://localhost:8080/",
     "height": 235
    },
    "colab_type": "code",
    "id": "lyzHeC5aQ0Ky",
    "outputId": "515bc40f-b108-4797-a1cd-1edba5f5c1cc"
   },
   "outputs": [
    {
     "data": {
      "text/html": [
       "<div>\n",
       "<style scoped>\n",
       "    .dataframe tbody tr th:only-of-type {\n",
       "        vertical-align: middle;\n",
       "    }\n",
       "\n",
       "    .dataframe tbody tr th {\n",
       "        vertical-align: top;\n",
       "    }\n",
       "\n",
       "    .dataframe thead th {\n",
       "        text-align: right;\n",
       "    }\n",
       "</style>\n",
       "<table border=\"1\" class=\"dataframe\">\n",
       "  <thead>\n",
       "    <tr style=\"text-align: right;\">\n",
       "      <th></th>\n",
       "      <th>AQI</th>\n",
       "      <th>质量等级</th>\n",
       "      <th>PM2.5</th>\n",
       "      <th>PM10</th>\n",
       "      <th>SO2</th>\n",
       "      <th>CO</th>\n",
       "      <th>NO2</th>\n",
       "      <th>O3_8h</th>\n",
       "    </tr>\n",
       "    <tr>\n",
       "      <th>date</th>\n",
       "      <th></th>\n",
       "      <th></th>\n",
       "      <th></th>\n",
       "      <th></th>\n",
       "      <th></th>\n",
       "      <th></th>\n",
       "      <th></th>\n",
       "      <th></th>\n",
       "    </tr>\n",
       "  </thead>\n",
       "  <tbody>\n",
       "    <tr>\n",
       "      <th>2014-01-01</th>\n",
       "      <td>203</td>\n",
       "      <td>重度污染</td>\n",
       "      <td>153</td>\n",
       "      <td>210</td>\n",
       "      <td>70</td>\n",
       "      <td>2.0</td>\n",
       "      <td>106</td>\n",
       "      <td>55</td>\n",
       "    </tr>\n",
       "    <tr>\n",
       "      <th>2014-01-02</th>\n",
       "      <td>231</td>\n",
       "      <td>重度污染</td>\n",
       "      <td>181</td>\n",
       "      <td>254</td>\n",
       "      <td>89</td>\n",
       "      <td>2.4</td>\n",
       "      <td>112</td>\n",
       "      <td>26</td>\n",
       "    </tr>\n",
       "    <tr>\n",
       "      <th>2014-01-03</th>\n",
       "      <td>224</td>\n",
       "      <td>重度污染</td>\n",
       "      <td>174</td>\n",
       "      <td>226</td>\n",
       "      <td>63</td>\n",
       "      <td>1.7</td>\n",
       "      <td>84</td>\n",
       "      <td>55</td>\n",
       "    </tr>\n",
       "    <tr>\n",
       "      <th>2014-01-04</th>\n",
       "      <td>147</td>\n",
       "      <td>轻度污染</td>\n",
       "      <td>112</td>\n",
       "      <td>184</td>\n",
       "      <td>73</td>\n",
       "      <td>1.6</td>\n",
       "      <td>87</td>\n",
       "      <td>40</td>\n",
       "    </tr>\n",
       "    <tr>\n",
       "      <th>2014-01-05</th>\n",
       "      <td>195</td>\n",
       "      <td>中度污染</td>\n",
       "      <td>147</td>\n",
       "      <td>213</td>\n",
       "      <td>89</td>\n",
       "      <td>2.2</td>\n",
       "      <td>91</td>\n",
       "      <td>53</td>\n",
       "    </tr>\n",
       "  </tbody>\n",
       "</table>\n",
       "</div>"
      ],
      "text/plain": [
       "            AQI  质量等级  PM2.5  PM10  SO2   CO  NO2  O3_8h\n",
       "date                                                    \n",
       "2014-01-01  203  重度污染    153   210   70  2.0  106     55\n",
       "2014-01-02  231  重度污染    181   254   89  2.4  112     26\n",
       "2014-01-03  224  重度污染    174   226   63  1.7   84     55\n",
       "2014-01-04  147  轻度污染    112   184   73  1.6   87     40\n",
       "2014-01-05  195  中度污染    147   213   89  2.2   91     53"
      ]
     },
     "execution_count": 1,
     "metadata": {},
     "output_type": "execute_result"
    }
   ],
   "source": [
    "import pandas as pd\n",
    "\n",
    "wh_data = pd.read_csv('../AQI_maincity/武汉.csv', index_col='date', encoding='utf-8', engine='python')\n",
    "wh_data.drop(wh_data[wh_data['质量等级']=='无'].index, inplace=True)\n",
    "wh_data.head()"
   ]
  },
  {
   "cell_type": "code",
   "execution_count": 2,
   "metadata": {
    "colab": {},
    "colab_type": "code",
    "id": "2oMbaFDAQ0K7"
   },
   "outputs": [],
   "source": [
    "X = wh_data.iloc[:, 2:]\n",
    "y = wh_data.iloc[:, 1]"
   ]
  },
  {
   "cell_type": "code",
   "execution_count": 3,
   "metadata": {
    "colab": {},
    "colab_type": "code",
    "id": "ZjPekLV5Q0K-"
   },
   "outputs": [],
   "source": [
    "from sklearn.model_selection import train_test_split\n",
    "\n",
    "X_train, X_test, y_train, y_test = train_test_split(X, y, random_state=100)"
   ]
  },
  {
   "cell_type": "code",
   "execution_count": 4,
   "metadata": {
    "colab": {
     "base_uri": "https://localhost:8080/",
     "height": 35
    },
    "colab_type": "code",
    "id": "1svzJjyEQ0LB",
    "outputId": "249230d7-27e0-4896-8bc1-38831c1d3f61"
   },
   "outputs": [
    {
     "data": {
      "text/plain": [
       "0.9030837004405287"
      ]
     },
     "execution_count": 4,
     "metadata": {},
     "output_type": "execute_result"
    }
   ],
   "source": [
    "from sklearn.neighbors import KNeighborsClassifier\n",
    "\n",
    "knn_clf = KNeighborsClassifier()\n",
    "knn_clf.fit(X_train, y_train)\n",
    "knn_clf.score(X_test, y_test)"
   ]
  },
  {
   "cell_type": "markdown",
   "metadata": {
    "colab_type": "text",
    "id": "N5LSmvcuQ0LG"
   },
   "source": [
    "**PCA降维**\n",
    "\n",
    "数据集：$X_{m\\times n}$ 每列特征均值为0\n",
    "\n",
    "投影面：$W_{k\\times n}=(w_1,w_2,...,w_k)^T$ where $w_i$ 满足 $\\|w_i\\|=1$ and $w_iw_j=0$\n",
    "\n",
    "特征投影：$X_{project}=(XW^T)_{m\\times k}$\n",
    "\n",
    "第一主成分：$Xw_1$($X^{'}X$最大特征值对应的特征向量)\n",
    "\n",
    "目标函数： $f(w_1)=var(Xw_1)=\\frac{1}{m-1}\\sum^{m}_{i=1}(X^{(i)}w_1)^2=\\frac{1}{m-1}(Xw_1)^TXw_1=\\frac{1}{m-1}w_1^TX^TXw_1$\n",
    "\n",
    "梯度：$\\bigtriangledown f(w_1)=\\frac{2}{m-1}X^{T}(Xw_1)$"
   ]
  },
  {
   "cell_type": "code",
   "execution_count": 16,
   "metadata": {},
   "outputs": [],
   "source": [
    "import numpy as np\n",
    "\n",
    "def deMean(X):\n",
    "    return X - np.mean(X, axis=0)"
   ]
  },
  {
   "cell_type": "code",
   "execution_count": 17,
   "metadata": {},
   "outputs": [],
   "source": [
    "X = deMean(X)\n",
    "X_train, X_test, y_train, y_test = train_test_split(X, y, random_state=100)"
   ]
  },
  {
   "cell_type": "code",
   "execution_count": 7,
   "metadata": {},
   "outputs": [],
   "source": [
    "# from sklearn.preprocessing import StandardScaler\n",
    "\n",
    "# standardscaler = StandardScaler()\n",
    "# standardscaler.fit(X_train)\n",
    "# X_train_sca = standardscaler.transform(X_train)\n",
    "# X_test_sca = standardscaler.transform(X_test)"
   ]
  },
  {
   "cell_type": "code",
   "execution_count": 22,
   "metadata": {
    "colab": {
     "base_uri": "https://localhost:8080/",
     "height": 53
    },
    "colab_type": "code",
    "id": "ucKqknZ7Q0LH",
    "outputId": "96a8e5dd-befe-40ec-e72e-ac68c16c3d25"
   },
   "outputs": [
    {
     "data": {
      "text/plain": [
       "PCA(copy=True, iterated_power='auto', n_components=0.95, random_state=None,\n",
       "  svd_solver='auto', tol=0.0, whiten=False)"
      ]
     },
     "execution_count": 22,
     "metadata": {},
     "output_type": "execute_result"
    }
   ],
   "source": [
    "from sklearn.decomposition import PCA\n",
    "\n",
    "pca = PCA(0.95)\n",
    "pca.fit(X_train)"
   ]
  },
  {
   "cell_type": "code",
   "execution_count": 23,
   "metadata": {
    "colab": {},
    "colab_type": "code",
    "id": "XTqxpMC6Q0LL"
   },
   "outputs": [],
   "source": [
    "X_train_reduction = pca.transform(X_train)\n",
    "X_test_reduction = pca.transform(X_test)"
   ]
  },
  {
   "cell_type": "code",
   "execution_count": 24,
   "metadata": {
    "colab": {
     "base_uri": "https://localhost:8080/",
     "height": 35
    },
    "colab_type": "code",
    "id": "opPPfAqUQ0LN",
    "outputId": "afe339f2-aa1d-46a4-8403-c9ee49c11253"
   },
   "outputs": [
    {
     "data": {
      "text/plain": [
       "(1360, 3)"
      ]
     },
     "execution_count": 24,
     "metadata": {},
     "output_type": "execute_result"
    }
   ],
   "source": [
    "X_train_reduction.shape"
   ]
  },
  {
   "cell_type": "code",
   "execution_count": 25,
   "metadata": {
    "colab": {
     "base_uri": "https://localhost:8080/",
     "height": 35
    },
    "colab_type": "code",
    "id": "dDVO0TggQ0LS",
    "outputId": "73fc23da-b5e1-4a44-e361-6038ea6ab82f"
   },
   "outputs": [
    {
     "data": {
      "text/plain": [
       "0.920704845814978"
      ]
     },
     "execution_count": 25,
     "metadata": {},
     "output_type": "execute_result"
    }
   ],
   "source": [
    "knn_clf = KNeighborsClassifier()\n",
    "knn_clf.fit(X_train_reduction, y_train)\n",
    "knn_clf.score(X_test_reduction, y_test)"
   ]
  }
 ],
 "metadata": {
  "accelerator": "TPU",
  "colab": {
   "collapsed_sections": [],
   "name": "PCAforAQI.ipynb",
   "provenance": [],
   "version": "0.3.2"
  },
  "kernelspec": {
   "display_name": "Python 3",
   "language": "python",
   "name": "python3"
  },
  "language_info": {
   "codemirror_mode": {
    "name": "ipython",
    "version": 3
   },
   "file_extension": ".py",
   "mimetype": "text/x-python",
   "name": "python",
   "nbconvert_exporter": "python",
   "pygments_lexer": "ipython3",
   "version": "3.6.4"
  }
 },
 "nbformat": 4,
 "nbformat_minor": 1
}
