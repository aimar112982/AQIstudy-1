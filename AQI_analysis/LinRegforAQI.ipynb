{
  "nbformat": 4,
  "nbformat_minor": 0,
  "metadata": {
    "colab": {
      "name": "LinRegforAQI.ipynb",
      "version": "0.3.2",
      "provenance": [],
      "collapsed_sections": []
    },
    "language_info": {
      "codemirror_mode": {
        "name": "ipython",
        "version": 3
      },
      "file_extension": ".py",
      "mimetype": "text/x-python",
      "name": "python",
      "nbconvert_exporter": "python",
      "pygments_lexer": "ipython3",
      "version": "3.6.4"
    },
    "kernelspec": {
      "name": "python3",
      "display_name": "Python 3"
    },
    "accelerator": "TPU"
  },
  "cells": [
    {
      "cell_type": "markdown",
      "metadata": {
        "id": "SrXljaGAq1KT",
        "colab_type": "text"
      },
      "source": [
        "# 线性回归\n",
        "\n",
        "思想：用一条直线拟合样本点，让残差平方和最小。\n",
        "\n",
        "假设函数：$h(x)=X\\theta$\n",
        "\n",
        "参数：$\\theta=(\\theta_0,...,\\theta_n)^{'}$\n",
        "\n",
        "代价函数：$J(\\theta)=\\frac{1}{2m}\\sum^{m}_{i=1}(y^{(i)}-h(x^{(i)}))^2=\\frac{1}{2m}||y-X\\theta||_2^2$\n",
        "\n",
        "最优参数：$\\hat{\\theta}=(X^TX)^{-1}X^Ty$\n",
        "\n",
        "梯度：$\\bigtriangledown J(\\theta)=\\frac{1}{m}X^T(h(x)-y)$"
      ]
    },
    {
      "cell_type": "markdown",
      "metadata": {
        "colab_type": "text",
        "id": "UY80Chc3NjtK"
      },
      "source": [
        "## 简单线性回归\n",
        "\n",
        "$AQI = k*PM2.5 + b$"
      ]
    },
    {
      "cell_type": "code",
      "metadata": {
        "colab_type": "code",
        "id": "CIfjsTIONjtM",
        "outputId": "9dbf790f-28df-4649-d9df-ef37ad42125b",
        "colab": {
          "base_uri": "https://localhost:8080/",
          "height": 228
        }
      },
      "source": [
        "import pandas as pd\n",
        "\n",
        "# wh_data = pd.read_csv('../AQI_maincity/武汉.csv', usecols=[0,1,3], index_col='date', encoding='utf-8', engine='python')  # engine='python'解决中文问题\n",
        "wh_data = pd.read_csv('武汉.csv', usecols=[0,1,3], index_col='date', encoding='utf-8', engine='python')\n",
        "wh_data.head()"
      ],
      "execution_count": 1,
      "outputs": [
        {
          "output_type": "execute_result",
          "data": {
            "text/html": [
              "<div>\n",
              "<style scoped>\n",
              "    .dataframe tbody tr th:only-of-type {\n",
              "        vertical-align: middle;\n",
              "    }\n",
              "\n",
              "    .dataframe tbody tr th {\n",
              "        vertical-align: top;\n",
              "    }\n",
              "\n",
              "    .dataframe thead th {\n",
              "        text-align: right;\n",
              "    }\n",
              "</style>\n",
              "<table border=\"1\" class=\"dataframe\">\n",
              "  <thead>\n",
              "    <tr style=\"text-align: right;\">\n",
              "      <th></th>\n",
              "      <th>AQI</th>\n",
              "      <th>PM2.5</th>\n",
              "    </tr>\n",
              "    <tr>\n",
              "      <th>date</th>\n",
              "      <th></th>\n",
              "      <th></th>\n",
              "    </tr>\n",
              "  </thead>\n",
              "  <tbody>\n",
              "    <tr>\n",
              "      <th>2014-01-01</th>\n",
              "      <td>203</td>\n",
              "      <td>153</td>\n",
              "    </tr>\n",
              "    <tr>\n",
              "      <th>2014-01-02</th>\n",
              "      <td>231</td>\n",
              "      <td>181</td>\n",
              "    </tr>\n",
              "    <tr>\n",
              "      <th>2014-01-03</th>\n",
              "      <td>224</td>\n",
              "      <td>174</td>\n",
              "    </tr>\n",
              "    <tr>\n",
              "      <th>2014-01-04</th>\n",
              "      <td>147</td>\n",
              "      <td>112</td>\n",
              "    </tr>\n",
              "    <tr>\n",
              "      <th>2014-01-05</th>\n",
              "      <td>195</td>\n",
              "      <td>147</td>\n",
              "    </tr>\n",
              "  </tbody>\n",
              "</table>\n",
              "</div>"
            ],
            "text/plain": [
              "            AQI  PM2.5\n",
              "date                  \n",
              "2014-01-01  203    153\n",
              "2014-01-02  231    181\n",
              "2014-01-03  224    174\n",
              "2014-01-04  147    112\n",
              "2014-01-05  195    147"
            ]
          },
          "metadata": {
            "tags": []
          },
          "execution_count": 1
        }
      ]
    },
    {
      "cell_type": "code",
      "metadata": {
        "colab_type": "code",
        "id": "REJcJr8INjtU",
        "colab": {}
      },
      "source": [
        "X = wh_data.values[:, 1].reshape(-1,1)  # PM2.5\n",
        "y = wh_data.values[:, 0]                # AQI"
      ],
      "execution_count": 0,
      "outputs": []
    },
    {
      "cell_type": "code",
      "metadata": {
        "colab_type": "code",
        "id": "eaWer7xfNjtX",
        "outputId": "c9dc4a54-acc9-4362-f81b-f1a269ba0423",
        "colab": {
          "base_uri": "https://localhost:8080/",
          "height": 337
        }
      },
      "source": [
        "import matplotlib.pyplot as plt\n",
        "%matplotlib inline\n",
        "\n",
        "plt.figure(figsize=(10,5))\n",
        "plt.scatter(X, y)\n",
        "plt.xlabel('PM2.5')\n",
        "plt.ylabel('AQI')\n",
        "plt.show()"
      ],
      "execution_count": 3,
      "outputs": [
        {
          "output_type": "display_data",
          "data": {
            "image/png": "[encoded data removed]",
            "text/plain": [
              "<Figure size 720x360 with 1 Axes>"
            ]
          },
          "metadata": {
            "tags": []
          }
        }
      ]
    },
    {
      "cell_type": "code",
      "metadata": {
        "colab_type": "code",
        "id": "_VjuIl03Njtc",
        "colab": {}
      },
      "source": [
        "from sklearn.model_selection import train_test_split\n",
        "\n",
        "X_train, X_test, y_train, y_test = train_test_split(X, y, random_state=100)"
      ],
      "execution_count": 0,
      "outputs": []
    },
    {
      "cell_type": "code",
      "metadata": {
        "colab_type": "code",
        "id": "YS8dMbcZNjtg",
        "outputId": "0a987fb3-7985-4314-8c40-fc2806e347f0",
        "colab": {
          "base_uri": "https://localhost:8080/",
          "height": 35
        }
      },
      "source": [
        "from sklearn.linear_model import LinearRegression\n",
        "\n",
        "lin_reg = LinearRegression()\n",
        "lin_reg.fit(X_train, y_train)"
      ],
      "execution_count": 5,
      "outputs": [
        {
          "output_type": "execute_result",
          "data": {
            "text/plain": [
              "LinearRegression(copy_X=True, fit_intercept=True, n_jobs=None, normalize=False)"
            ]
          },
          "metadata": {
            "tags": []
          },
          "execution_count": 5
        }
      ]
    },
    {
      "cell_type": "code",
      "metadata": {
        "colab_type": "code",
        "id": "tt1AFX1zNjtk",
        "outputId": "66b6e92a-c17b-4687-c071-edc8bfe90b4b",
        "colab": {
          "base_uri": "https://localhost:8080/",
          "height": 337
        }
      },
      "source": [
        "yhat = lin_reg.predict(X_test)\n",
        "plt.figure(figsize=(10,5))\n",
        "plt.scatter(X_test, y_test, c='b')\n",
        "plt.plot(X_test, yhat, c='r')\n",
        "plt.xlabel('PM2.5')\n",
        "plt.ylabel('AQI')\n",
        "plt.show()"
      ],
      "execution_count": 6,
      "outputs": [
        {
          "output_type": "display_data",
          "data": {
            "image/png": "[encoded data removed]",
            "text/plain": [
              "<Figure size 720x360 with 1 Axes>"
            ]
          },
          "metadata": {
            "tags": []
          }
        }
      ]
    },
    {
      "cell_type": "code",
      "metadata": {
        "colab_type": "code",
        "id": "YyU0Voh7Njto",
        "outputId": "bd993a17-2faa-4e47-ff06-40940aef6bbc",
        "colab": {
          "base_uri": "https://localhost:8080/",
          "height": 35
        }
      },
      "source": [
        "from sklearn.metrics import mean_squared_error, mean_absolute_error, r2_score\n",
        "from numpy import sqrt\n",
        "\n",
        "mse = mean_squared_error(y_test, yhat)   # 均方误差\n",
        "rmse = sqrt(mse)                         # 均方根误差\n",
        "mae = mean_absolute_error(y_test, yhat)  # 平均绝对误差\n",
        "r2 = r2_score(y_test, yhat)              # R2\n",
        "print(mse, rmse, mae, r2)"
      ],
      "execution_count": 7,
      "outputs": [
        {
          "output_type": "stream",
          "text": [
            "307.76387550412505 17.54320026403749 13.098962058039692 0.8610501219555409\n"
          ],
          "name": "stdout"
        }
      ]
    },
    {
      "cell_type": "code",
      "metadata": {
        "colab_type": "code",
        "id": "778mjWvHNjtt",
        "outputId": "dbfb6b31-0b13-400b-9eb4-b70e4c121d15",
        "colab": {
          "base_uri": "https://localhost:8080/",
          "height": 35
        }
      },
      "source": [
        "lin_reg.score(X_test, y_test)"
      ],
      "execution_count": 8,
      "outputs": [
        {
          "output_type": "execute_result",
          "data": {
            "text/plain": [
              "0.8610501219555409"
            ]
          },
          "metadata": {
            "tags": []
          },
          "execution_count": 8
        }
      ]
    },
    {
      "cell_type": "markdown",
      "metadata": {
        "colab_type": "text",
        "id": "RyI0_9R1Njty"
      },
      "source": [
        "## 多元线性回归"
      ]
    },
    {
      "cell_type": "markdown",
      "metadata": {
        "colab_type": "text",
        "id": "lrq1GMQJNjtz"
      },
      "source": [
        "### 1.导入数据并清洗"
      ]
    },
    {
      "cell_type": "code",
      "metadata": {
        "id": "q1bPisT2kbic",
        "colab_type": "code",
        "colab": {}
      },
      "source": [
        "import pandas as pd\n",
        "import numpy as np\n",
        "import matplotlib.pyplot as plt\n",
        "%matplotlib inline"
      ],
      "execution_count": 0,
      "outputs": []
    },
    {
      "cell_type": "code",
      "metadata": {
        "colab_type": "code",
        "id": "wpJU_AM-Njt1",
        "outputId": "717d2c11-15df-48d7-a174-49a32e0b893b",
        "scrolled": true,
        "colab": {
          "base_uri": "https://localhost:8080/",
          "height": 228
        }
      },
      "source": [
        "# wh_data = pd.read_csv('../AQI_maincity/武汉.csv',index_col='date', encoding='utf-8', engine='python')\n",
        "wh_data = pd.read_csv('武汉.csv',index_col='date', encoding='utf-8', engine='python')\n",
        "wh_data.drop(index=wh_data[wh_data['质量等级']=='无'].index, columns=['质量等级'], inplace=True) # 删除异常值和无关变量\n",
        "wh_data.head()"
      ],
      "execution_count": 10,
      "outputs": [
        {
          "output_type": "execute_result",
          "data": {
            "text/html": [
              "<div>\n",
              "<style scoped>\n",
              "    .dataframe tbody tr th:only-of-type {\n",
              "        vertical-align: middle;\n",
              "    }\n",
              "\n",
              "    .dataframe tbody tr th {\n",
              "        vertical-align: top;\n",
              "    }\n",
              "\n",
              "    .dataframe thead th {\n",
              "        text-align: right;\n",
              "    }\n",
              "</style>\n",
              "<table border=\"1\" class=\"dataframe\">\n",
              "  <thead>\n",
              "    <tr style=\"text-align: right;\">\n",
              "      <th></th>\n",
              "      <th>AQI</th>\n",
              "      <th>PM2.5</th>\n",
              "      <th>PM10</th>\n",
              "      <th>SO2</th>\n",
              "      <th>CO</th>\n",
              "      <th>NO2</th>\n",
              "      <th>O3_8h</th>\n",
              "    </tr>\n",
              "    <tr>\n",
              "      <th>date</th>\n",
              "      <th></th>\n",
              "      <th></th>\n",
              "      <th></th>\n",
              "      <th></th>\n",
              "      <th></th>\n",
              "      <th></th>\n",
              "      <th></th>\n",
              "    </tr>\n",
              "  </thead>\n",
              "  <tbody>\n",
              "    <tr>\n",
              "      <th>2014-01-01</th>\n",
              "      <td>203</td>\n",
              "      <td>153</td>\n",
              "      <td>210</td>\n",
              "      <td>70</td>\n",
              "      <td>2.0</td>\n",
              "      <td>106</td>\n",
              "      <td>55</td>\n",
              "    </tr>\n",
              "    <tr>\n",
              "      <th>2014-01-02</th>\n",
              "      <td>231</td>\n",
              "      <td>181</td>\n",
              "      <td>254</td>\n",
              "      <td>89</td>\n",
              "      <td>2.4</td>\n",
              "      <td>112</td>\n",
              "      <td>26</td>\n",
              "    </tr>\n",
              "    <tr>\n",
              "      <th>2014-01-03</th>\n",
              "      <td>224</td>\n",
              "      <td>174</td>\n",
              "      <td>226</td>\n",
              "      <td>63</td>\n",
              "      <td>1.7</td>\n",
              "      <td>84</td>\n",
              "      <td>55</td>\n",
              "    </tr>\n",
              "    <tr>\n",
              "      <th>2014-01-04</th>\n",
              "      <td>147</td>\n",
              "      <td>112</td>\n",
              "      <td>184</td>\n",
              "      <td>73</td>\n",
              "      <td>1.6</td>\n",
              "      <td>87</td>\n",
              "      <td>40</td>\n",
              "    </tr>\n",
              "    <tr>\n",
              "      <th>2014-01-05</th>\n",
              "      <td>195</td>\n",
              "      <td>147</td>\n",
              "      <td>213</td>\n",
              "      <td>89</td>\n",
              "      <td>2.2</td>\n",
              "      <td>91</td>\n",
              "      <td>53</td>\n",
              "    </tr>\n",
              "  </tbody>\n",
              "</table>\n",
              "</div>"
            ],
            "text/plain": [
              "            AQI  PM2.5  PM10  SO2   CO  NO2  O3_8h\n",
              "date                                              \n",
              "2014-01-01  203    153   210   70  2.0  106     55\n",
              "2014-01-02  231    181   254   89  2.4  112     26\n",
              "2014-01-03  224    174   226   63  1.7   84     55\n",
              "2014-01-04  147    112   184   73  1.6   87     40\n",
              "2014-01-05  195    147   213   89  2.2   91     53"
            ]
          },
          "metadata": {
            "tags": []
          },
          "execution_count": 10
        }
      ]
    },
    {
      "cell_type": "markdown",
      "metadata": {
        "colab_type": "text",
        "id": "45TLZoykNjt5"
      },
      "source": [
        "### 2.数据探索与可视化"
      ]
    },
    {
      "cell_type": "markdown",
      "metadata": {
        "colab_type": "text",
        "id": "-eyaJd1CNjuA"
      },
      "source": [
        "**描述性统计信息**"
      ]
    },
    {
      "cell_type": "code",
      "metadata": {
        "colab_type": "code",
        "id": "LoNM9_IlNjuB",
        "outputId": "ec6a4f7c-eaf0-4532-9263-de82bd5b944a",
        "colab": {
          "base_uri": "https://localhost:8080/",
          "height": 288
        }
      },
      "source": [
        "wh_data.describe()"
      ],
      "execution_count": 11,
      "outputs": [
        {
          "output_type": "execute_result",
          "data": {
            "text/html": [
              "<div>\n",
              "<style scoped>\n",
              "    .dataframe tbody tr th:only-of-type {\n",
              "        vertical-align: middle;\n",
              "    }\n",
              "\n",
              "    .dataframe tbody tr th {\n",
              "        vertical-align: top;\n",
              "    }\n",
              "\n",
              "    .dataframe thead th {\n",
              "        text-align: right;\n",
              "    }\n",
              "</style>\n",
              "<table border=\"1\" class=\"dataframe\">\n",
              "  <thead>\n",
              "    <tr style=\"text-align: right;\">\n",
              "      <th></th>\n",
              "      <th>AQI</th>\n",
              "      <th>PM2.5</th>\n",
              "      <th>PM10</th>\n",
              "      <th>SO2</th>\n",
              "      <th>CO</th>\n",
              "      <th>NO2</th>\n",
              "      <th>O3_8h</th>\n",
              "    </tr>\n",
              "  </thead>\n",
              "  <tbody>\n",
              "    <tr>\n",
              "      <th>count</th>\n",
              "      <td>1814.000000</td>\n",
              "      <td>1814.000000</td>\n",
              "      <td>1814.000000</td>\n",
              "      <td>1814.000000</td>\n",
              "      <td>1814.000000</td>\n",
              "      <td>1814.000000</td>\n",
              "      <td>1814.000000</td>\n",
              "    </tr>\n",
              "    <tr>\n",
              "      <th>mean</th>\n",
              "      <td>96.584895</td>\n",
              "      <td>61.116318</td>\n",
              "      <td>94.311466</td>\n",
              "      <td>16.538589</td>\n",
              "      <td>1.090849</td>\n",
              "      <td>48.830761</td>\n",
              "      <td>92.165932</td>\n",
              "    </tr>\n",
              "    <tr>\n",
              "      <th>std</th>\n",
              "      <td>47.570103</td>\n",
              "      <td>41.227822</td>\n",
              "      <td>51.390779</td>\n",
              "      <td>13.154913</td>\n",
              "      <td>0.349634</td>\n",
              "      <td>20.225358</td>\n",
              "      <td>49.062929</td>\n",
              "    </tr>\n",
              "    <tr>\n",
              "      <th>min</th>\n",
              "      <td>21.000000</td>\n",
              "      <td>0.000000</td>\n",
              "      <td>0.000000</td>\n",
              "      <td>2.000000</td>\n",
              "      <td>0.400000</td>\n",
              "      <td>13.000000</td>\n",
              "      <td>0.000000</td>\n",
              "    </tr>\n",
              "    <tr>\n",
              "      <th>25%</th>\n",
              "      <td>64.000000</td>\n",
              "      <td>32.000000</td>\n",
              "      <td>56.000000</td>\n",
              "      <td>7.000000</td>\n",
              "      <td>0.900000</td>\n",
              "      <td>33.000000</td>\n",
              "      <td>53.000000</td>\n",
              "    </tr>\n",
              "    <tr>\n",
              "      <th>50%</th>\n",
              "      <td>89.000000</td>\n",
              "      <td>51.000000</td>\n",
              "      <td>86.000000</td>\n",
              "      <td>13.000000</td>\n",
              "      <td>1.000000</td>\n",
              "      <td>45.000000</td>\n",
              "      <td>86.000000</td>\n",
              "    </tr>\n",
              "    <tr>\n",
              "      <th>75%</th>\n",
              "      <td>115.000000</td>\n",
              "      <td>79.000000</td>\n",
              "      <td>122.000000</td>\n",
              "      <td>21.000000</td>\n",
              "      <td>1.300000</td>\n",
              "      <td>61.000000</td>\n",
              "      <td>128.000000</td>\n",
              "    </tr>\n",
              "    <tr>\n",
              "      <th>max</th>\n",
              "      <td>500.000000</td>\n",
              "      <td>287.000000</td>\n",
              "      <td>406.000000</td>\n",
              "      <td>107.000000</td>\n",
              "      <td>2.700000</td>\n",
              "      <td>119.000000</td>\n",
              "      <td>261.000000</td>\n",
              "    </tr>\n",
              "  </tbody>\n",
              "</table>\n",
              "</div>"
            ],
            "text/plain": [
              "               AQI        PM2.5  ...          NO2        O3_8h\n",
              "count  1814.000000  1814.000000  ...  1814.000000  1814.000000\n",
              "mean     96.584895    61.116318  ...    48.830761    92.165932\n",
              "std      47.570103    41.227822  ...    20.225358    49.062929\n",
              "min      21.000000     0.000000  ...    13.000000     0.000000\n",
              "25%      64.000000    32.000000  ...    33.000000    53.000000\n",
              "50%      89.000000    51.000000  ...    45.000000    86.000000\n",
              "75%     115.000000    79.000000  ...    61.000000   128.000000\n",
              "max     500.000000   287.000000  ...   119.000000   261.000000\n",
              "\n",
              "[8 rows x 7 columns]"
            ]
          },
          "metadata": {
            "tags": []
          },
          "execution_count": 11
        }
      ]
    },
    {
      "cell_type": "markdown",
      "metadata": {
        "colab_type": "text",
        "id": "sBeDlBkKNjuF"
      },
      "source": [
        "**分布情况**"
      ]
    },
    {
      "cell_type": "code",
      "metadata": {
        "colab_type": "code",
        "id": "dCtrYE3sNjuG",
        "outputId": "166076b2-f2cd-4cf4-fd14-1ed621d8f149",
        "colab": {
          "base_uri": "https://localhost:8080/",
          "height": 608
        }
      },
      "source": [
        "wh_data.hist(bins=50, figsize=(18,10), layout=(2,-1))\n",
        "plt.show()"
      ],
      "execution_count": 12,
      "outputs": [
        {
          "output_type": "display_data",
          "data": {
            "image/png": "[encoded data removed]",
            "text/plain": [
              "<Figure size 1296x720 with 8 Axes>"
            ]
          },
          "metadata": {
            "tags": []
          }
        }
      ]
    },
    {
      "cell_type": "markdown",
      "metadata": {
        "colab_type": "text",
        "id": "DEIjKE_DNjuM"
      },
      "source": [
        "**相关性检验**"
      ]
    },
    {
      "cell_type": "code",
      "metadata": {
        "colab_type": "code",
        "id": "KsYJDaOoNjuN",
        "outputId": "9a3fa0f4-b480-412a-f722-871b1ecdf2f7",
        "colab": {
          "base_uri": "https://localhost:8080/",
          "height": 258
        }
      },
      "source": [
        "wh_data.corr()"
      ],
      "execution_count": 13,
      "outputs": [
        {
          "output_type": "execute_result",
          "data": {
            "text/html": [
              "<div>\n",
              "<style scoped>\n",
              "    .dataframe tbody tr th:only-of-type {\n",
              "        vertical-align: middle;\n",
              "    }\n",
              "\n",
              "    .dataframe tbody tr th {\n",
              "        vertical-align: top;\n",
              "    }\n",
              "\n",
              "    .dataframe thead th {\n",
              "        text-align: right;\n",
              "    }\n",
              "</style>\n",
              "<table border=\"1\" class=\"dataframe\">\n",
              "  <thead>\n",
              "    <tr style=\"text-align: right;\">\n",
              "      <th></th>\n",
              "      <th>AQI</th>\n",
              "      <th>PM2.5</th>\n",
              "      <th>PM10</th>\n",
              "      <th>SO2</th>\n",
              "      <th>CO</th>\n",
              "      <th>NO2</th>\n",
              "      <th>O3_8h</th>\n",
              "    </tr>\n",
              "  </thead>\n",
              "  <tbody>\n",
              "    <tr>\n",
              "      <th>AQI</th>\n",
              "      <td>1.000000</td>\n",
              "      <td>0.895182</td>\n",
              "      <td>0.789422</td>\n",
              "      <td>0.534618</td>\n",
              "      <td>0.702115</td>\n",
              "      <td>0.572624</td>\n",
              "      <td>0.042591</td>\n",
              "    </tr>\n",
              "    <tr>\n",
              "      <th>PM2.5</th>\n",
              "      <td>0.895182</td>\n",
              "      <td>1.000000</td>\n",
              "      <td>0.810986</td>\n",
              "      <td>0.604777</td>\n",
              "      <td>0.789716</td>\n",
              "      <td>0.602696</td>\n",
              "      <td>-0.204560</td>\n",
              "    </tr>\n",
              "    <tr>\n",
              "      <th>PM10</th>\n",
              "      <td>0.789422</td>\n",
              "      <td>0.810986</td>\n",
              "      <td>1.000000</td>\n",
              "      <td>0.600388</td>\n",
              "      <td>0.614699</td>\n",
              "      <td>0.722142</td>\n",
              "      <td>0.079076</td>\n",
              "    </tr>\n",
              "    <tr>\n",
              "      <th>SO2</th>\n",
              "      <td>0.534618</td>\n",
              "      <td>0.604777</td>\n",
              "      <td>0.600388</td>\n",
              "      <td>1.000000</td>\n",
              "      <td>0.528623</td>\n",
              "      <td>0.568798</td>\n",
              "      <td>-0.089343</td>\n",
              "    </tr>\n",
              "    <tr>\n",
              "      <th>CO</th>\n",
              "      <td>0.702115</td>\n",
              "      <td>0.789716</td>\n",
              "      <td>0.614699</td>\n",
              "      <td>0.528623</td>\n",
              "      <td>1.000000</td>\n",
              "      <td>0.630969</td>\n",
              "      <td>-0.291365</td>\n",
              "    </tr>\n",
              "    <tr>\n",
              "      <th>NO2</th>\n",
              "      <td>0.572624</td>\n",
              "      <td>0.602696</td>\n",
              "      <td>0.722142</td>\n",
              "      <td>0.568798</td>\n",
              "      <td>0.630969</td>\n",
              "      <td>1.000000</td>\n",
              "      <td>-0.064356</td>\n",
              "    </tr>\n",
              "    <tr>\n",
              "      <th>O3_8h</th>\n",
              "      <td>0.042591</td>\n",
              "      <td>-0.204560</td>\n",
              "      <td>0.079076</td>\n",
              "      <td>-0.089343</td>\n",
              "      <td>-0.291365</td>\n",
              "      <td>-0.064356</td>\n",
              "      <td>1.000000</td>\n",
              "    </tr>\n",
              "  </tbody>\n",
              "</table>\n",
              "</div>"
            ],
            "text/plain": [
              "            AQI     PM2.5      PM10       SO2        CO       NO2     O3_8h\n",
              "AQI    1.000000  0.895182  0.789422  0.534618  0.702115  0.572624  0.042591\n",
              "PM2.5  0.895182  1.000000  0.810986  0.604777  0.789716  0.602696 -0.204560\n",
              "PM10   0.789422  0.810986  1.000000  0.600388  0.614699  0.722142  0.079076\n",
              "SO2    0.534618  0.604777  0.600388  1.000000  0.528623  0.568798 -0.089343\n",
              "CO     0.702115  0.789716  0.614699  0.528623  1.000000  0.630969 -0.291365\n",
              "NO2    0.572624  0.602696  0.722142  0.568798  0.630969  1.000000 -0.064356\n",
              "O3_8h  0.042591 -0.204560  0.079076 -0.089343 -0.291365 -0.064356  1.000000"
            ]
          },
          "metadata": {
            "tags": []
          },
          "execution_count": 13
        }
      ]
    },
    {
      "cell_type": "markdown",
      "metadata": {
        "colab_type": "text",
        "id": "nRGLwHd0NjuT"
      },
      "source": [
        "### 3.训练模型"
      ]
    },
    {
      "cell_type": "markdown",
      "metadata": {
        "colab_type": "text",
        "id": "4pt8hjmyNjuV"
      },
      "source": [
        "**创建测试集并训练**"
      ]
    },
    {
      "cell_type": "code",
      "metadata": {
        "colab_type": "code",
        "id": "KZxaBPb5NjuW",
        "colab": {}
      },
      "source": [
        "from sklearn.model_selection import train_test_split\n",
        "\n",
        "X, y = wh_data.iloc[:, 1:], wh_data.iloc[:, 0]\n",
        "X_train, X_test, y_train, y_test = train_test_split(X, y, random_state=100)"
      ],
      "execution_count": 0,
      "outputs": []
    },
    {
      "cell_type": "code",
      "metadata": {
        "colab_type": "code",
        "id": "KfsinxXZNjug",
        "outputId": "93ec385e-79ba-47ef-c89c-f0ecb0ef54ae",
        "colab": {
          "base_uri": "https://localhost:8080/",
          "height": 35
        }
      },
      "source": [
        "from sklearn.linear_model import LinearRegression\n",
        "\n",
        "lin_reg = LinearRegression()\n",
        "lin_reg.fit(X_train, y_train)"
      ],
      "execution_count": 15,
      "outputs": [
        {
          "output_type": "execute_result",
          "data": {
            "text/plain": [
              "LinearRegression(copy_X=True, fit_intercept=True, n_jobs=None, normalize=False)"
            ]
          },
          "metadata": {
            "tags": []
          },
          "execution_count": 15
        }
      ]
    },
    {
      "cell_type": "markdown",
      "metadata": {
        "colab_type": "text",
        "id": "K4kU1GkLNjuk"
      },
      "source": [
        "**评估模型**"
      ]
    },
    {
      "cell_type": "code",
      "metadata": {
        "id": "iXjHDE8Mq1Pb",
        "colab_type": "code",
        "outputId": "c3771964-cd76-4176-9c5a-d77f6e9d30e3",
        "colab": {
          "base_uri": "https://localhost:8080/",
          "height": 337
        }
      },
      "source": [
        "wh_data['AQI_predict'] = lin_reg.predict(X)\n",
        "wh_data[['AQI', 'AQI_predict']].iloc[-100:].plot(figsize=(10,5))\n",
        "plt.show()"
      ],
      "execution_count": 16,
      "outputs": [
        {
          "output_type": "display_data",
          "data": {
            "image/png": "[encoded data removed]",
            "text/plain": [
              "<Figure size 720x360 with 1 Axes>"
            ]
          },
          "metadata": {
            "tags": []
          }
        }
      ]
    },
    {
      "cell_type": "code",
      "metadata": {
        "colab_type": "code",
        "id": "75FEsmfiNjul",
        "outputId": "c5f8c23e-8432-456a-d135-17ba82bd86d4",
        "scrolled": true,
        "colab": {
          "base_uri": "https://localhost:8080/",
          "height": 35
        }
      },
      "source": [
        "lin_reg.score(X_test, y_test)"
      ],
      "execution_count": 17,
      "outputs": [
        {
          "output_type": "execute_result",
          "data": {
            "text/plain": [
              "0.764828182866737"
            ]
          },
          "metadata": {
            "tags": []
          },
          "execution_count": 17
        }
      ]
    },
    {
      "cell_type": "code",
      "metadata": {
        "colab_type": "code",
        "id": "JZdY5JGENjup",
        "outputId": "f62baac3-37c9-4b2b-decd-4d809a3843c5",
        "colab": {
          "base_uri": "https://localhost:8080/",
          "height": 52
        }
      },
      "source": [
        "print(np.sort(lin_reg.coef_))\n",
        "print(X.columns[np.argsort(lin_reg.coef_)])"
      ],
      "execution_count": 18,
      "outputs": [
        {
          "output_type": "stream",
          "text": [
            "[-0.15176815  0.00975613  0.04127021  0.23228182  1.0307278   7.30925957]\n",
            "Index(['SO2', 'NO2', 'PM10', 'O3_8h', 'PM2.5', 'CO'], dtype='object')\n"
          ],
          "name": "stdout"
        }
      ]
    },
    {
      "cell_type": "markdown",
      "metadata": {
        "colab_type": "text",
        "id": "eLSEMXkJNjuv"
      },
      "source": [
        "### 随机梯度下降法"
      ]
    },
    {
      "cell_type": "code",
      "metadata": {
        "colab_type": "code",
        "id": "QstwOZTyNjuw",
        "colab": {}
      },
      "source": [
        "from sklearn.preprocessing import StandardScaler\n",
        "\n",
        "standardscaler = StandardScaler()\n",
        "standardscaler.fit(X_train)\n",
        "X_train_sca = standardscaler.transform(X_train)\n",
        "X_test_sca = standardscaler.transform(X_test)"
      ],
      "execution_count": 0,
      "outputs": []
    },
    {
      "cell_type": "code",
      "metadata": {
        "colab_type": "code",
        "id": "mSaTEfB2Njuy",
        "outputId": "6f35cb0d-b35c-4466-da9b-23453a299095",
        "colab": {
          "base_uri": "https://localhost:8080/",
          "height": 35
        }
      },
      "source": [
        "from sklearn.linear_model import SGDRegressor\n",
        "\n",
        "sgd_reg = SGDRegressor(max_iter=1000)\n",
        "sgd_reg.fit(X_train_sca, y_train)\n",
        "sgd_reg.score(X_test_sca, y_test)"
      ],
      "execution_count": 20,
      "outputs": [
        {
          "output_type": "execute_result",
          "data": {
            "text/plain": [
              "0.7648229165818989"
            ]
          },
          "metadata": {
            "tags": []
          },
          "execution_count": 20
        }
      ]
    },
    {
      "cell_type": "markdown",
      "metadata": {
        "id": "rhkx1eQkpguv",
        "colab_type": "text"
      },
      "source": [
        "### 残差检验"
      ]
    },
    {
      "cell_type": "code",
      "metadata": {
        "id": "YD8ofuJIpkr4",
        "colab_type": "code",
        "outputId": "09c86386-e200-496a-e97d-fe4706299a0e",
        "colab": {
          "base_uri": "https://localhost:8080/",
          "height": 493
        }
      },
      "source": [
        "import seaborn as sns\n",
        "\n",
        "y_hat = lin_reg.predict(X)\n",
        "e = y - y_hat\n",
        "print(e.describe())\n",
        "\n",
        "plt.figure(figsize=(10,5))\n",
        "sns.distplot(e, bins=100)\n",
        "plt.show()"
      ],
      "execution_count": 21,
      "outputs": [
        {
          "output_type": "stream",
          "text": [
            "count    1814.000000\n",
            "mean        0.198748\n",
            "std        17.993145\n",
            "min       -32.722715\n",
            "25%        -9.024320\n",
            "50%        -1.452639\n",
            "75%         6.858841\n",
            "max       473.380904\n",
            "Name: AQI, dtype: float64\n"
          ],
          "name": "stdout"
        },
        {
          "output_type": "display_data",
          "data": {
            "image/png": "[encoded data removed]",
            "text/plain": [
              "<Figure size 720x360 with 1 Axes>"
            ]
          },
          "metadata": {
            "tags": []
          }
        }
      ]
    },
    {
      "cell_type": "code",
      "metadata": {
        "id": "oaNjfP3wp3-H",
        "colab_type": "code",
        "outputId": "bb55a225-d7e8-4faa-d044-1e45ef7f2977",
        "colab": {
          "base_uri": "https://localhost:8080/",
          "height": 35
        }
      },
      "source": [
        "from scipy.stats import kstest, shapiro, normaltest, anderson\n",
        "\n",
        "kstest(e, cdf='norm', alternative='two_sided')  # 正态检验\n",
        "# shapiro(e)\n",
        "# normaltest(e, axis=0)\n",
        "# anderson(e, dist ='norm')"
      ],
      "execution_count": 22,
      "outputs": [
        {
          "output_type": "execute_result",
          "data": {
            "text/plain": [
              "KstestResult(statistic=0.45736554124832396, pvalue=0.0)"
            ]
          },
          "metadata": {
            "tags": []
          },
          "execution_count": 22
        }
      ]
    },
    {
      "cell_type": "code",
      "metadata": {
        "id": "yjURJnaxyn5g",
        "colab_type": "code",
        "outputId": "d5daa44d-0f41-4e2e-e8f7-a72c64323b64",
        "colab": {
          "base_uri": "https://localhost:8080/",
          "height": 350
        }
      },
      "source": [
        "from scipy.stats import probplot\n",
        "\n",
        "plt.figure(figsize=(10,5))\n",
        "probplot(e, dist='norm', plot=plt)  # q-q图\n",
        "plt.show()"
      ],
      "execution_count": 23,
      "outputs": [
        {
          "output_type": "display_data",
          "data": {
            "image/png": "[encoded data removed]",
            "text/plain": [
              "<Figure size 720x360 with 1 Axes>"
            ]
          },
          "metadata": {
            "tags": []
          }
        }
      ]
    },
    {
      "cell_type": "markdown",
      "metadata": {
        "id": "Jj4Voo-Iq1P6",
        "colab_type": "text"
      },
      "source": [
        "## 使用statsmodels"
      ]
    },
    {
      "cell_type": "code",
      "metadata": {
        "id": "X0sKRURkq1RC",
        "colab_type": "code",
        "outputId": "c0d77dc2-72b1-473d-9216-0783edf727ec",
        "colab": {
          "base_uri": "https://localhost:8080/",
          "height": 625
        }
      },
      "source": [
        "import statsmodels.api as sm\n",
        "\n",
        "X_b = sm.add_constant(X)  #增加常数列\n",
        "linear_model = sm.OLS(y, X_b)\n",
        "results = linear_model.fit()\n",
        "print(results.summary())"
      ],
      "execution_count": 24,
      "outputs": [
        {
          "output_type": "stream",
          "text": [
            "                            OLS Regression Results                            \n",
            "==============================================================================\n",
            "Dep. Variable:                    AQI   R-squared:                       0.857\n",
            "Model:                            OLS   Adj. R-squared:                  0.857\n",
            "Method:                 Least Squares   F-statistic:                     1810.\n",
            "Date:                Tue, 20 Aug 2019   Prob (F-statistic):               0.00\n",
            "Time:                        09:09:36   Log-Likelihood:                -7813.4\n",
            "No. Observations:                1814   AIC:                         1.564e+04\n",
            "Df Residuals:                    1807   BIC:                         1.568e+04\n",
            "Df Model:                           6                                         \n",
            "Covariance Type:            nonrobust                                         \n",
            "==============================================================================\n",
            "                 coef    std err          t      P>|t|      [0.025      0.975]\n",
            "------------------------------------------------------------------------------\n",
            "const          0.8716      2.008      0.434      0.664      -3.066       4.810\n",
            "PM2.5          1.0239      0.025     41.645      0.000       0.976       1.072\n",
            "PM10           0.0166      0.019      0.893      0.372      -0.020       0.053\n",
            "SO2           -0.1388      0.043     -3.241      0.001      -0.223      -0.055\n",
            "CO             9.3736      2.189      4.282      0.000       5.080      13.667\n",
            "NO2            0.0439      0.034      1.290      0.197      -0.023       0.111\n",
            "O3_8h          0.2332      0.010     23.308      0.000       0.214       0.253\n",
            "==============================================================================\n",
            "Omnibus:                     3073.031   Durbin-Watson:                   1.261\n",
            "Prob(Omnibus):                  0.000   Jarque-Bera (JB):          5265531.521\n",
            "Skew:                          10.850   Prob(JB):                         0.00\n",
            "Kurtosis:                     266.048   Cond. No.                     1.07e+03\n",
            "==============================================================================\n",
            "\n",
            "Warnings:\n",
            "[1] Standard Errors assume that the covariance matrix of the errors is correctly specified.\n",
            "[2] The condition number is large, 1.07e+03. This might indicate that there are\n",
            "strong multicollinearity or other numerical problems.\n"
          ],
          "name": "stdout"
        },
        {
          "output_type": "stream",
          "text": [
            "/usr/local/lib/python3.6/dist-packages/numpy/core/fromnumeric.py:2389: FutureWarning: Method .ptp is deprecated and will be removed in a future version. Use numpy.ptp instead.\n",
            "  return ptp(axis=axis, out=out, **kwargs)\n"
          ],
          "name": "stderr"
        }
      ]
    },
    {
      "cell_type": "markdown",
      "metadata": {
        "id": "cmGikwxKX0Y6",
        "colab_type": "text"
      },
      "source": [
        "## 正则化"
      ]
    },
    {
      "cell_type": "markdown",
      "metadata": {
        "id": "cM2uayeSq1RG",
        "colab_type": "text"
      },
      "source": [
        "### 岭回归\n",
        "\n",
        "代价函数：$J(\\theta)=\\frac{1}{2m}(\\sum^{m}_{i=1}(y^{(i)}-X^{(i)}\\theta)^2+\\lambda\\sum^{n}_{j=1}\\theta_j^2)$\n",
        "\n",
        "最优参数：$\\hat{\\theta}=(X^TX+\\lambda I)^{-1}X^Ty$\n",
        "\n",
        "梯度：$\\bigtriangledown J(\\theta)=\\frac{1}{m}X^T(X\\theta-y)+\\lambda w$ where $w=(\\theta_1,...,\\theta_n)^{'}$"
      ]
    },
    {
      "cell_type": "code",
      "metadata": {
        "id": "KKtmJ2vWui9G",
        "colab_type": "code",
        "outputId": "2aa7c954-f26b-44a8-9777-a09c0575651e",
        "colab": {
          "base_uri": "https://localhost:8080/",
          "height": 52
        }
      },
      "source": [
        "from sklearn.linear_model import RidgeCV\n",
        "\n",
        "ridge_reg = RidgeCV()\n",
        "ridge_reg.fit(X_train, y_train)"
      ],
      "execution_count": 25,
      "outputs": [
        {
          "output_type": "execute_result",
          "data": {
            "text/plain": [
              "RidgeCV(alphas=array([ 0.1,  1. , 10. ]), cv=None, fit_intercept=True,\n",
              "        gcv_mode=None, normalize=False, scoring=None, store_cv_values=False)"
            ]
          },
          "metadata": {
            "tags": []
          },
          "execution_count": 25
        }
      ]
    },
    {
      "cell_type": "code",
      "metadata": {
        "id": "BWoZfxTUu0DO",
        "colab_type": "code",
        "outputId": "c3b3d78b-b4a9-4880-8e14-cb183fa1e33c",
        "colab": {
          "base_uri": "https://localhost:8080/",
          "height": 52
        }
      },
      "source": [
        "print(f'best alpha:{ridge_reg.alpha_}')\n",
        "print(f'best score:{ridge_reg.score(X_test, y_test)}')"
      ],
      "execution_count": 26,
      "outputs": [
        {
          "output_type": "stream",
          "text": [
            "best alpha:10.0\n",
            "best score:0.7645371342061437\n"
          ],
          "name": "stdout"
        }
      ]
    }
  ]
}