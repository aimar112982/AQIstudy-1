{
 "cells": [
  {
   "cell_type": "markdown",
   "metadata": {
    "colab_type": "text",
    "id": "LA07x3iaet2H"
   },
   "source": [
    "# 数据清洗与整理\n",
    "\n",
    "1. 提取原始数据中各城市的AQI值\n",
    "\n",
    "2. 去除缺失值\n",
    "\n",
    "3. 保存到单个文件中。"
   ]
  },
  {
   "cell_type": "code",
   "execution_count": 1,
   "metadata": {
    "colab": {},
    "colab_type": "code",
    "id": "s252LwrndlRZ"
   },
   "outputs": [],
   "source": [
    "import numpy as np\n",
    "import pandas as pd\n",
    "from pypinyin import lazy_pinyin, Style"
   ]
  },
  {
   "cell_type": "code",
   "execution_count": 2,
   "metadata": {},
   "outputs": [],
   "source": [
    "# 城市名转化为首字母拼音\n",
    "def h2p(filename):\n",
    "    return ''.join(lazy_pinyin(filename.split('.')[0], style=Style.FIRST_LETTER))"
   ]
  },
  {
   "cell_type": "code",
   "execution_count": 3,
   "metadata": {
    "colab": {},
    "colab_type": "code",
    "id": "fB9jELGQe6L0"
   },
   "outputs": [],
   "source": [
    "import os\n",
    "\n",
    "path = r'../AQI_maincity'\n",
    "filename0 = os.listdir(path)[0]\n",
    "cityname0 = h2p(filename0)\n",
    "dirname0 = os.path.join(path, filename0)  # 路径\n",
    "with open(dirname0) as f:\n",
    "    data = pd.read_csv(f, usecols=[0,1], index_col='date', encoding='utf-8')\n",
    "    data.rename(columns={'AQI': cityname0}, inplace=True)  # 列名重命名"
   ]
  },
  {
   "cell_type": "code",
   "execution_count": 4,
   "metadata": {
    "colab": {
     "base_uri": "https://localhost:8080/",
     "height": 143
    },
    "colab_type": "code",
    "id": "MfomDNp7xdVx",
    "outputId": "dd13935a-2555-4aec-f222-d0157dc2c6f1"
   },
   "outputs": [
    {
     "name": "stdout",
     "output_type": "stream",
     "text": [
      "             sh   wlmq     lz     bj   nj   nn   nc   hf    heb   tj  ...    \\\n",
      "date                                                                  ...     \n",
      "2014-01-01  195  196.0  158.0   81.0  177  205  159  166  141.0  131  ...     \n",
      "2014-01-02  147  184.0   99.0  145.0  209  182  171  220  131.0  146  ...     \n",
      "2014-01-03  189  248.0   96.0   74.0  255  185  136  205  191.0  109  ...     \n",
      "\n",
      "              sjz     fz    xn     xa   gy   zz   cq    yc   cc     cs  \n",
      "date                                                                    \n",
      "2014-01-01   85.0   75.0  84.0  120.0  139   94  149  72.0   50  195.0  \n",
      "2014-01-02  205.0   84.0  64.0  117.0  142  113  176  69.0   75  197.0  \n",
      "2014-01-03  138.0  102.0  85.0   92.0  110   76  209  59.0  118  260.0  \n",
      "\n",
      "[3 rows x 30 columns]\n"
     ]
    }
   ],
   "source": [
    "for filename in os.listdir(path)[1:]:\n",
    "    dirname = os.path.join(path, filename)\n",
    "    cityname = h2p(filename)\n",
    "    if os.path.isfile(dirname):\n",
    "        with open(dirname) as f:\n",
    "            df = pd.read_csv(f, usecols=[0,1], index_col='date', encoding='utf-8')\n",
    "            df.rename(columns={'AQI': cityname}, inplace=True)\n",
    "        data = pd.concat([data, df], axis=1)\n",
    "idx = pd.to_datetime(data.index, format='%Y-%m-%d')\n",
    "data.index = idx\n",
    "data.index.name = 'date'\n",
    "print(data.head(3))"
   ]
  },
  {
   "cell_type": "code",
   "execution_count": 5,
   "metadata": {
    "colab": {
     "base_uri": "https://localhost:8080/",
     "height": 197
    },
    "colab_type": "code",
    "id": "gYIve9rcq-o2",
    "outputId": "38a12e53-0add-4bb0-888a-98eb88e5d678"
   },
   "outputs": [
    {
     "name": "stdout",
     "output_type": "stream",
     "text": [
      "存在缺失值的行数： 29\n",
      "True\n"
     ]
    }
   ],
   "source": [
    "# 处理缺失值\n",
    "print('存在缺失值的行数：', data[data.isna().values==True].shape[0])\n",
    "data.dropna(axis=0, how='any', inplace=True)\n",
    "print(np.all(data.notna()))"
   ]
  },
  {
   "cell_type": "code",
   "execution_count": 6,
   "metadata": {
    "colab": {},
    "colab_type": "code",
    "id": "GGEjW7R31Psu"
   },
   "outputs": [],
   "source": [
    "# 保存文件\n",
    "# data = data.astype(np.int64)\n",
    "data.to_csv('maincity_aqi.csv', encoding='utf-8')"
   ]
  },
  {
   "cell_type": "markdown",
   "metadata": {
    "colab": {},
    "colab_type": "code",
    "id": "iv5mrCuKqHdl"
   },
   "source": [
    "# 问题1：武汉的空气质量情况"
   ]
  },
  {
   "cell_type": "code",
   "execution_count": 1,
   "metadata": {},
   "outputs": [],
   "source": [
    "import pandas as pd\n",
    "import matplotlib.pyplot as plt\n",
    "%matplotlib inline\n",
    "plt.rcParams['font.family'] = ['sans-serif']\n",
    "plt.rcParams['font.sans-serif'] = ['SimHei']"
   ]
  },
  {
   "cell_type": "markdown",
   "metadata": {},
   "source": [
    "1.描述性统计信息"
   ]
  },
  {
   "cell_type": "code",
   "execution_count": 2,
   "metadata": {},
   "outputs": [
    {
     "data": {
      "text/html": [
       "<div>\n",
       "<style scoped>\n",
       "    .dataframe tbody tr th:only-of-type {\n",
       "        vertical-align: middle;\n",
       "    }\n",
       "\n",
       "    .dataframe tbody tr th {\n",
       "        vertical-align: top;\n",
       "    }\n",
       "\n",
       "    .dataframe thead th {\n",
       "        text-align: right;\n",
       "    }\n",
       "</style>\n",
       "<table border=\"1\" class=\"dataframe\">\n",
       "  <thead>\n",
       "    <tr style=\"text-align: right;\">\n",
       "      <th></th>\n",
       "      <th>AQI</th>\n",
       "      <th>质量等级</th>\n",
       "      <th>PM2.5</th>\n",
       "      <th>PM10</th>\n",
       "      <th>SO2</th>\n",
       "      <th>CO</th>\n",
       "      <th>NO2</th>\n",
       "      <th>O3_8h</th>\n",
       "    </tr>\n",
       "    <tr>\n",
       "      <th>date</th>\n",
       "      <th></th>\n",
       "      <th></th>\n",
       "      <th></th>\n",
       "      <th></th>\n",
       "      <th></th>\n",
       "      <th></th>\n",
       "      <th></th>\n",
       "      <th></th>\n",
       "    </tr>\n",
       "  </thead>\n",
       "  <tbody>\n",
       "    <tr>\n",
       "      <th>2014-01-01</th>\n",
       "      <td>203</td>\n",
       "      <td>重度污染</td>\n",
       "      <td>153</td>\n",
       "      <td>210</td>\n",
       "      <td>70</td>\n",
       "      <td>2.0</td>\n",
       "      <td>106</td>\n",
       "      <td>55</td>\n",
       "    </tr>\n",
       "    <tr>\n",
       "      <th>2014-01-02</th>\n",
       "      <td>231</td>\n",
       "      <td>重度污染</td>\n",
       "      <td>181</td>\n",
       "      <td>254</td>\n",
       "      <td>89</td>\n",
       "      <td>2.4</td>\n",
       "      <td>112</td>\n",
       "      <td>26</td>\n",
       "    </tr>\n",
       "    <tr>\n",
       "      <th>2014-01-03</th>\n",
       "      <td>224</td>\n",
       "      <td>重度污染</td>\n",
       "      <td>174</td>\n",
       "      <td>226</td>\n",
       "      <td>63</td>\n",
       "      <td>1.7</td>\n",
       "      <td>84</td>\n",
       "      <td>55</td>\n",
       "    </tr>\n",
       "    <tr>\n",
       "      <th>2014-01-04</th>\n",
       "      <td>147</td>\n",
       "      <td>轻度污染</td>\n",
       "      <td>112</td>\n",
       "      <td>184</td>\n",
       "      <td>73</td>\n",
       "      <td>1.6</td>\n",
       "      <td>87</td>\n",
       "      <td>40</td>\n",
       "    </tr>\n",
       "    <tr>\n",
       "      <th>2014-01-05</th>\n",
       "      <td>195</td>\n",
       "      <td>中度污染</td>\n",
       "      <td>147</td>\n",
       "      <td>213</td>\n",
       "      <td>89</td>\n",
       "      <td>2.2</td>\n",
       "      <td>91</td>\n",
       "      <td>53</td>\n",
       "    </tr>\n",
       "  </tbody>\n",
       "</table>\n",
       "</div>"
      ],
      "text/plain": [
       "            AQI  质量等级  PM2.5  PM10  SO2   CO  NO2  O3_8h\n",
       "date                                                    \n",
       "2014-01-01  203  重度污染    153   210   70  2.0  106     55\n",
       "2014-01-02  231  重度污染    181   254   89  2.4  112     26\n",
       "2014-01-03  224  重度污染    174   226   63  1.7   84     55\n",
       "2014-01-04  147  轻度污染    112   184   73  1.6   87     40\n",
       "2014-01-05  195  中度污染    147   213   89  2.2   91     53"
      ]
     },
     "execution_count": 2,
     "metadata": {},
     "output_type": "execute_result"
    }
   ],
   "source": [
    "# 导入数据\n",
    "wh_data = pd.read_csv('../AQI_maincity/武汉.csv', index_col='date', engine='python')\n",
    "wh_data.head()"
   ]
  },
  {
   "cell_type": "code",
   "execution_count": 3,
   "metadata": {},
   "outputs": [
    {
     "name": "stdout",
     "output_type": "stream",
     "text": [
      "<class 'pandas.core.frame.DataFrame'>\n",
      "Index: 1824 entries, 2014-01-01 to 2018-12-31\n",
      "Data columns (total 8 columns):\n",
      "AQI      1824 non-null int64\n",
      "质量等级     1824 non-null object\n",
      "PM2.5    1824 non-null int64\n",
      "PM10     1824 non-null int64\n",
      "SO2      1824 non-null int64\n",
      "CO       1824 non-null float64\n",
      "NO2      1824 non-null int64\n",
      "O3_8h    1824 non-null int64\n",
      "dtypes: float64(1), int64(6), object(1)\n",
      "memory usage: 128.2+ KB\n"
     ]
    }
   ],
   "source": [
    "# 数据结构等基本信息\n",
    "wh_data.info()"
   ]
  },
  {
   "cell_type": "code",
   "execution_count": 4,
   "metadata": {},
   "outputs": [
    {
     "data": {
      "text/html": [
       "<div>\n",
       "<style scoped>\n",
       "    .dataframe tbody tr th:only-of-type {\n",
       "        vertical-align: middle;\n",
       "    }\n",
       "\n",
       "    .dataframe tbody tr th {\n",
       "        vertical-align: top;\n",
       "    }\n",
       "\n",
       "    .dataframe thead th {\n",
       "        text-align: right;\n",
       "    }\n",
       "</style>\n",
       "<table border=\"1\" class=\"dataframe\">\n",
       "  <thead>\n",
       "    <tr style=\"text-align: right;\">\n",
       "      <th></th>\n",
       "      <th>AQI</th>\n",
       "      <th>PM2.5</th>\n",
       "      <th>PM10</th>\n",
       "      <th>SO2</th>\n",
       "      <th>CO</th>\n",
       "      <th>NO2</th>\n",
       "      <th>O3_8h</th>\n",
       "    </tr>\n",
       "  </thead>\n",
       "  <tbody>\n",
       "    <tr>\n",
       "      <th>count</th>\n",
       "      <td>1824.000000</td>\n",
       "      <td>1824.000000</td>\n",
       "      <td>1824.000000</td>\n",
       "      <td>1824.000000</td>\n",
       "      <td>1824.000000</td>\n",
       "      <td>1824.000000</td>\n",
       "      <td>1824.000000</td>\n",
       "    </tr>\n",
       "    <tr>\n",
       "      <th>mean</th>\n",
       "      <td>96.055373</td>\n",
       "      <td>60.781250</td>\n",
       "      <td>93.794408</td>\n",
       "      <td>16.493969</td>\n",
       "      <td>1.089474</td>\n",
       "      <td>48.824013</td>\n",
       "      <td>92.230263</td>\n",
       "    </tr>\n",
       "    <tr>\n",
       "      <th>std</th>\n",
       "      <td>47.972836</td>\n",
       "      <td>41.361654</td>\n",
       "      <td>51.720874</td>\n",
       "      <td>13.134645</td>\n",
       "      <td>0.349483</td>\n",
       "      <td>20.207434</td>\n",
       "      <td>48.980620</td>\n",
       "    </tr>\n",
       "    <tr>\n",
       "      <th>min</th>\n",
       "      <td>0.000000</td>\n",
       "      <td>0.000000</td>\n",
       "      <td>0.000000</td>\n",
       "      <td>2.000000</td>\n",
       "      <td>0.400000</td>\n",
       "      <td>13.000000</td>\n",
       "      <td>0.000000</td>\n",
       "    </tr>\n",
       "    <tr>\n",
       "      <th>25%</th>\n",
       "      <td>64.000000</td>\n",
       "      <td>32.000000</td>\n",
       "      <td>56.000000</td>\n",
       "      <td>7.000000</td>\n",
       "      <td>0.900000</td>\n",
       "      <td>33.000000</td>\n",
       "      <td>53.000000</td>\n",
       "    </tr>\n",
       "    <tr>\n",
       "      <th>50%</th>\n",
       "      <td>88.000000</td>\n",
       "      <td>51.000000</td>\n",
       "      <td>86.000000</td>\n",
       "      <td>13.000000</td>\n",
       "      <td>1.000000</td>\n",
       "      <td>45.000000</td>\n",
       "      <td>87.000000</td>\n",
       "    </tr>\n",
       "    <tr>\n",
       "      <th>75%</th>\n",
       "      <td>115.000000</td>\n",
       "      <td>78.000000</td>\n",
       "      <td>122.000000</td>\n",
       "      <td>21.000000</td>\n",
       "      <td>1.300000</td>\n",
       "      <td>61.000000</td>\n",
       "      <td>128.000000</td>\n",
       "    </tr>\n",
       "    <tr>\n",
       "      <th>max</th>\n",
       "      <td>500.000000</td>\n",
       "      <td>287.000000</td>\n",
       "      <td>406.000000</td>\n",
       "      <td>107.000000</td>\n",
       "      <td>2.700000</td>\n",
       "      <td>119.000000</td>\n",
       "      <td>261.000000</td>\n",
       "    </tr>\n",
       "  </tbody>\n",
       "</table>\n",
       "</div>"
      ],
      "text/plain": [
       "               AQI        PM2.5         PM10          SO2           CO  \\\n",
       "count  1824.000000  1824.000000  1824.000000  1824.000000  1824.000000   \n",
       "mean     96.055373    60.781250    93.794408    16.493969     1.089474   \n",
       "std      47.972836    41.361654    51.720874    13.134645     0.349483   \n",
       "min       0.000000     0.000000     0.000000     2.000000     0.400000   \n",
       "25%      64.000000    32.000000    56.000000     7.000000     0.900000   \n",
       "50%      88.000000    51.000000    86.000000    13.000000     1.000000   \n",
       "75%     115.000000    78.000000   122.000000    21.000000     1.300000   \n",
       "max     500.000000   287.000000   406.000000   107.000000     2.700000   \n",
       "\n",
       "               NO2        O3_8h  \n",
       "count  1824.000000  1824.000000  \n",
       "mean     48.824013    92.230263  \n",
       "std      20.207434    48.980620  \n",
       "min      13.000000     0.000000  \n",
       "25%      33.000000    53.000000  \n",
       "50%      45.000000    87.000000  \n",
       "75%      61.000000   128.000000  \n",
       "max     119.000000   261.000000  "
      ]
     },
     "execution_count": 4,
     "metadata": {},
     "output_type": "execute_result"
    }
   ],
   "source": [
    "# 描述性统计\n",
    "wh_data.describe()"
   ]
  },
  {
   "cell_type": "markdown",
   "metadata": {},
   "source": [
    "2.各季节质量等级分布情况。"
   ]
  },
  {
   "cell_type": "code",
   "execution_count": 18,
   "metadata": {},
   "outputs": [],
   "source": [
    "# 季节分类\n",
    "def get_season(date):\n",
    "    if date.split('-')[1] in ['03', '04', '05']:\n",
    "        return 'spring'\n",
    "    elif date.split('-')[1] in ['06', '07', '08']:\n",
    "        return 'summer'\n",
    "    elif date.split('-')[1] in ['09', '10', '11']:\n",
    "        return 'fall'\n",
    "    else:\n",
    "        return 'winter'"
   ]
  },
  {
   "cell_type": "code",
   "execution_count": 22,
   "metadata": {},
   "outputs": [
    {
     "data": {
      "text/html": [
       "<div>\n",
       "<style scoped>\n",
       "    .dataframe tbody tr th:only-of-type {\n",
       "        vertical-align: middle;\n",
       "    }\n",
       "\n",
       "    .dataframe tbody tr th {\n",
       "        vertical-align: top;\n",
       "    }\n",
       "\n",
       "    .dataframe thead th {\n",
       "        text-align: right;\n",
       "    }\n",
       "</style>\n",
       "<table border=\"1\" class=\"dataframe\">\n",
       "  <thead>\n",
       "    <tr style=\"text-align: right;\">\n",
       "      <th></th>\n",
       "      <th>AQI</th>\n",
       "      <th>质量等级</th>\n",
       "      <th>PM2.5</th>\n",
       "      <th>PM10</th>\n",
       "      <th>SO2</th>\n",
       "      <th>CO</th>\n",
       "      <th>NO2</th>\n",
       "      <th>O3_8h</th>\n",
       "      <th>Season</th>\n",
       "    </tr>\n",
       "    <tr>\n",
       "      <th>date</th>\n",
       "      <th></th>\n",
       "      <th></th>\n",
       "      <th></th>\n",
       "      <th></th>\n",
       "      <th></th>\n",
       "      <th></th>\n",
       "      <th></th>\n",
       "      <th></th>\n",
       "      <th></th>\n",
       "    </tr>\n",
       "  </thead>\n",
       "  <tbody>\n",
       "    <tr>\n",
       "      <th>2014-01-01</th>\n",
       "      <td>203</td>\n",
       "      <td>重度污染</td>\n",
       "      <td>153</td>\n",
       "      <td>210</td>\n",
       "      <td>70</td>\n",
       "      <td>2.0</td>\n",
       "      <td>106</td>\n",
       "      <td>55</td>\n",
       "      <td>winter</td>\n",
       "    </tr>\n",
       "    <tr>\n",
       "      <th>2014-01-02</th>\n",
       "      <td>231</td>\n",
       "      <td>重度污染</td>\n",
       "      <td>181</td>\n",
       "      <td>254</td>\n",
       "      <td>89</td>\n",
       "      <td>2.4</td>\n",
       "      <td>112</td>\n",
       "      <td>26</td>\n",
       "      <td>winter</td>\n",
       "    </tr>\n",
       "    <tr>\n",
       "      <th>2014-01-03</th>\n",
       "      <td>224</td>\n",
       "      <td>重度污染</td>\n",
       "      <td>174</td>\n",
       "      <td>226</td>\n",
       "      <td>63</td>\n",
       "      <td>1.7</td>\n",
       "      <td>84</td>\n",
       "      <td>55</td>\n",
       "      <td>winter</td>\n",
       "    </tr>\n",
       "    <tr>\n",
       "      <th>2014-01-04</th>\n",
       "      <td>147</td>\n",
       "      <td>轻度污染</td>\n",
       "      <td>112</td>\n",
       "      <td>184</td>\n",
       "      <td>73</td>\n",
       "      <td>1.6</td>\n",
       "      <td>87</td>\n",
       "      <td>40</td>\n",
       "      <td>winter</td>\n",
       "    </tr>\n",
       "    <tr>\n",
       "      <th>2014-01-05</th>\n",
       "      <td>195</td>\n",
       "      <td>中度污染</td>\n",
       "      <td>147</td>\n",
       "      <td>213</td>\n",
       "      <td>89</td>\n",
       "      <td>2.2</td>\n",
       "      <td>91</td>\n",
       "      <td>53</td>\n",
       "      <td>winter</td>\n",
       "    </tr>\n",
       "  </tbody>\n",
       "</table>\n",
       "</div>"
      ],
      "text/plain": [
       "            AQI  质量等级  PM2.5  PM10  SO2   CO  NO2  O3_8h  Season\n",
       "date                                                            \n",
       "2014-01-01  203  重度污染    153   210   70  2.0  106     55  winter\n",
       "2014-01-02  231  重度污染    181   254   89  2.4  112     26  winter\n",
       "2014-01-03  224  重度污染    174   226   63  1.7   84     55  winter\n",
       "2014-01-04  147  轻度污染    112   184   73  1.6   87     40  winter\n",
       "2014-01-05  195  中度污染    147   213   89  2.2   91     53  winter"
      ]
     },
     "execution_count": 22,
     "metadata": {},
     "output_type": "execute_result"
    }
   ],
   "source": [
    "wh_data['datestr'] = wh_data.index\n",
    "wh_data['Season'] = wh_data.datestr.apply(get_season)\n",
    "wh_data.drop('datestr', axis=1, inplace=True)\n",
    "wh_data.head()"
   ]
  },
  {
   "cell_type": "code",
   "execution_count": 82,
   "metadata": {},
   "outputs": [],
   "source": [
    "# 季节分组\n",
    "wh_season = wh_data.groupby(['Season'], sort=False)\n",
    "wh_winter = wh_season.get_group('winter')\n",
    "wh_spring = wh_season.get_group('spring')\n",
    "wh_summer = wh_season.get_group('summer')\n",
    "wh_fall = wh_season.get_group('fall')"
   ]
  },
  {
   "cell_type": "code",
   "execution_count": 145,
   "metadata": {},
   "outputs": [
    {
     "data": {
      "image/png": "[encoded data removed]",
      "text/plain": [
       "<matplotlib.figure.Figure at 0x15b6822e048>"
      ]
     },
     "metadata": {},
     "output_type": "display_data"
    }
   ],
   "source": [
    "# 各季节直方图\n",
    "fig, axes = plt.subplots(2,2, figsize=(16,8))\n",
    "axes[0,0].hist(wh_winter.AQI, bins=50, range=(0,500), label='winter', color='blue')\n",
    "axes[0,0].legend()\n",
    "axes[0,1].hist(wh_spring.AQI, bins=50, range=(0,500), label='spring', color='orange')\n",
    "axes[0,1].legend()\n",
    "axes[1,0].hist(wh_summer.AQI, bins=50, range=(0,500), label='summer', color='green')\n",
    "axes[1,0].legend()\n",
    "axes[1,1].hist(wh_fall.AQI, bins=50, range=(0,500), label='fall', color='red')\n",
    "axes[1,1].legend()\n",
    "plt.show()"
   ]
  },
  {
   "cell_type": "code",
   "execution_count": 140,
   "metadata": {},
   "outputs": [
    {
     "data": {
      "image/png": "[encoded data removed]",
      "text/plain": [
       "<matplotlib.figure.Figure at 0x15b68b2c898>"
      ]
     },
     "metadata": {},
     "output_type": "display_data"
    }
   ],
   "source": [
    "winter_grade = wh_winter.groupby('质量等级').size() / len(wh_winter)\n",
    "spring_grade = wh_spring.groupby('质量等级').size() / len(wh_spring)\n",
    "summer_grade = wh_summer.groupby('质量等级').size() / len(wh_summer)\n",
    "fall_grade = wh_fall.groupby('质量等级').size() / len(wh_fall)\n",
    "\n",
    "season_grade = pd.concat([winter_grade,spring_grade,summer_grade,fall_grade], axis=1)\n",
    "season_grade.columns = [ 'winter','spring','summer', 'fall']\n",
    "season_grade.plot.bar(figsize=(15,6))\n",
    "plt.show()"
   ]
  },
  {
   "cell_type": "code",
   "execution_count": 142,
   "metadata": {},
   "outputs": [
    {
     "data": {
      "text/plain": [
       "summer    0.760870\n",
       "fall      0.681319\n",
       "spring    0.676087\n",
       "winter    0.342984\n",
       "dtype: float64"
      ]
     },
     "execution_count": 142,
     "metadata": {},
     "output_type": "execute_result"
    }
   ],
   "source": [
    "season_grade.loc[['优', '良']].sum().sort_values(ascending=False)"
   ]
  }
 ],
 "metadata": {
  "accelerator": "TPU",
  "colab": {
   "collapsed_sections": [],
   "name": "aqi.ipynb",
   "provenance": [],
   "toc_visible": true,
   "version": "0.3.2"
  },
  "kernelspec": {
   "display_name": "Python 3",
   "language": "python",
   "name": "python3"
  },
  "language_info": {
   "codemirror_mode": {
    "name": "ipython",
    "version": 3
   },
   "file_extension": ".py",
   "mimetype": "text/x-python",
   "name": "python",
   "nbconvert_exporter": "python",
   "pygments_lexer": "ipython3",
   "version": "3.6.4"
  }
 },
 "nbformat": 4,
 "nbformat_minor": 1
}
