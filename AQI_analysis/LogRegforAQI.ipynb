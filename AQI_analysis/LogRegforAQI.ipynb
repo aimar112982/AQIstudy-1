{
  "nbformat": 4,
  "nbformat_minor": 0,
  "metadata": {
    "accelerator": "TPU",
    "colab": {
      "name": "LogRegforAQI.ipynb",
      "version": "0.3.2",
      "provenance": [],
      "collapsed_sections": []
    },
    "kernelspec": {
      "display_name": "Python 3",
      "language": "python",
      "name": "python3"
    },
    "language_info": {
      "codemirror_mode": {
        "name": "ipython",
        "version": 3
      },
      "file_extension": ".py",
      "mimetype": "text/x-python",
      "name": "python",
      "nbconvert_exporter": "python",
      "pygments_lexer": "ipython3",
      "version": "3.6.4"
    }
  },
  "cells": [
    {
      "cell_type": "markdown",
      "metadata": {
        "colab_type": "text",
        "id": "MS3SL-r3UpjH"
      },
      "source": [
        "# 逻辑回归\n",
        "\n",
        "假设函数：$h(x)=\\frac{1}{1+e^{-X\\theta}}=p(y=1|X,\\theta)=p$\n",
        "\n",
        "参数：$\\theta=(\\theta_0,...,\\theta_n)^{'}$\n",
        "\n",
        "最大似然函数：$L=\\prod^{m}_{i=1}p^{y^{(i)}}(1-p)^{1-y^{(i)}}$\n",
        "\n",
        "代价函数：$J(\\theta)=-\\frac{1}{m}\\sum_{i=1}^{m}y^{(i)}\\ln(h(x))+(1-y^{(i)})\\ln(1-h(x))$\n",
        "\n",
        "梯度：$\\bigtriangledown J(\\theta)=\\frac{1}{m}X^{'}(h(x)-y)$"
      ]
    },
    {
      "cell_type": "code",
      "metadata": {
        "colab_type": "code",
        "id": "dhin4XHZUpjJ",
        "colab": {}
      },
      "source": [
        "import pandas as pd\n",
        "import numpy as np\n",
        "import matplotlib.pyplot as plt\n",
        "%matplotlib inline"
      ],
      "execution_count": 0,
      "outputs": []
    },
    {
      "cell_type": "code",
      "metadata": {
        "colab_type": "code",
        "id": "PdNsp7cjUpjO",
        "outputId": "60663e41-c956-4b86-be6a-0d12bbf0d3b7",
        "colab": {
          "base_uri": "https://localhost:8080/",
          "height": 228
        }
      },
      "source": [
        "# wh_data = pd.read_csv('../AQI_maincity/武汉.csv', index_col='date', encoding='utf-8', engine='python')\n",
        "wh_data = pd.read_csv('武汉.csv', index_col='date', encoding='utf-8', engine='python')\n",
        "wh_data.drop(wh_data[wh_data['质量等级']=='无'].index, inplace=True)\n",
        "wh_data.head()"
      ],
      "execution_count": 2,
      "outputs": [
        {
          "output_type": "execute_result",
          "data": {
            "text/html": [
              "<div>\n",
              "<style scoped>\n",
              "    .dataframe tbody tr th:only-of-type {\n",
              "        vertical-align: middle;\n",
              "    }\n",
              "\n",
              "    .dataframe tbody tr th {\n",
              "        vertical-align: top;\n",
              "    }\n",
              "\n",
              "    .dataframe thead th {\n",
              "        text-align: right;\n",
              "    }\n",
              "</style>\n",
              "<table border=\"1\" class=\"dataframe\">\n",
              "  <thead>\n",
              "    <tr style=\"text-align: right;\">\n",
              "      <th></th>\n",
              "      <th>AQI</th>\n",
              "      <th>质量等级</th>\n",
              "      <th>PM2.5</th>\n",
              "      <th>PM10</th>\n",
              "      <th>SO2</th>\n",
              "      <th>CO</th>\n",
              "      <th>NO2</th>\n",
              "      <th>O3_8h</th>\n",
              "    </tr>\n",
              "    <tr>\n",
              "      <th>date</th>\n",
              "      <th></th>\n",
              "      <th></th>\n",
              "      <th></th>\n",
              "      <th></th>\n",
              "      <th></th>\n",
              "      <th></th>\n",
              "      <th></th>\n",
              "      <th></th>\n",
              "    </tr>\n",
              "  </thead>\n",
              "  <tbody>\n",
              "    <tr>\n",
              "      <th>2014-01-01</th>\n",
              "      <td>203</td>\n",
              "      <td>重度污染</td>\n",
              "      <td>153</td>\n",
              "      <td>210</td>\n",
              "      <td>70</td>\n",
              "      <td>2.0</td>\n",
              "      <td>106</td>\n",
              "      <td>55</td>\n",
              "    </tr>\n",
              "    <tr>\n",
              "      <th>2014-01-02</th>\n",
              "      <td>231</td>\n",
              "      <td>重度污染</td>\n",
              "      <td>181</td>\n",
              "      <td>254</td>\n",
              "      <td>89</td>\n",
              "      <td>2.4</td>\n",
              "      <td>112</td>\n",
              "      <td>26</td>\n",
              "    </tr>\n",
              "    <tr>\n",
              "      <th>2014-01-03</th>\n",
              "      <td>224</td>\n",
              "      <td>重度污染</td>\n",
              "      <td>174</td>\n",
              "      <td>226</td>\n",
              "      <td>63</td>\n",
              "      <td>1.7</td>\n",
              "      <td>84</td>\n",
              "      <td>55</td>\n",
              "    </tr>\n",
              "    <tr>\n",
              "      <th>2014-01-04</th>\n",
              "      <td>147</td>\n",
              "      <td>轻度污染</td>\n",
              "      <td>112</td>\n",
              "      <td>184</td>\n",
              "      <td>73</td>\n",
              "      <td>1.6</td>\n",
              "      <td>87</td>\n",
              "      <td>40</td>\n",
              "    </tr>\n",
              "    <tr>\n",
              "      <th>2014-01-05</th>\n",
              "      <td>195</td>\n",
              "      <td>中度污染</td>\n",
              "      <td>147</td>\n",
              "      <td>213</td>\n",
              "      <td>89</td>\n",
              "      <td>2.2</td>\n",
              "      <td>91</td>\n",
              "      <td>53</td>\n",
              "    </tr>\n",
              "  </tbody>\n",
              "</table>\n",
              "</div>"
            ],
            "text/plain": [
              "            AQI  质量等级  PM2.5  PM10  SO2   CO  NO2  O3_8h\n",
              "date                                                    \n",
              "2014-01-01  203  重度污染    153   210   70  2.0  106     55\n",
              "2014-01-02  231  重度污染    181   254   89  2.4  112     26\n",
              "2014-01-03  224  重度污染    174   226   63  1.7   84     55\n",
              "2014-01-04  147  轻度污染    112   184   73  1.6   87     40\n",
              "2014-01-05  195  中度污染    147   213   89  2.2   91     53"
            ]
          },
          "metadata": {
            "tags": []
          },
          "execution_count": 2
        }
      ]
    },
    {
      "cell_type": "code",
      "metadata": {
        "colab_type": "code",
        "id": "kodsPL3UUpjU",
        "colab": {}
      },
      "source": [
        "def get_grade(aqi):\n",
        "    if aqi <= 100:\n",
        "        return 1\n",
        "    else:\n",
        "        return 0"
      ],
      "execution_count": 0,
      "outputs": []
    },
    {
      "cell_type": "code",
      "metadata": {
        "colab_type": "code",
        "id": "YY0dUtPHUpjX",
        "outputId": "90b33fba-9292-4de2-b8db-1b015cd7d65f",
        "colab": {
          "base_uri": "https://localhost:8080/",
          "height": 86
        }
      },
      "source": [
        "wh_data['GRADE'] = wh_data.AQI.apply(get_grade)\n",
        "wh_data.groupby(by='GRADE').size()"
      ],
      "execution_count": 4,
      "outputs": [
        {
          "output_type": "execute_result",
          "data": {
            "text/plain": [
              "GRADE\n",
              "0     689\n",
              "1    1125\n",
              "dtype: int64"
            ]
          },
          "metadata": {
            "tags": []
          },
          "execution_count": 4
        }
      ]
    },
    {
      "cell_type": "code",
      "metadata": {
        "colab_type": "code",
        "id": "n8br7chtUpjb",
        "colab": {}
      },
      "source": [
        "from sklearn.model_selection import train_test_split\n",
        "\n",
        "X = wh_data.iloc[:, 2:4]\n",
        "y = wh_data.iloc[:, -1]\n",
        "X_train, X_test, y_train, y_test = train_test_split(X, y, random_state=100)"
      ],
      "execution_count": 0,
      "outputs": []
    },
    {
      "cell_type": "code",
      "metadata": {
        "colab_type": "code",
        "id": "EfxiPKXIUpje",
        "outputId": "ecf82dad-d02c-4554-bf86-0944272a96ec",
        "colab": {
          "base_uri": "https://localhost:8080/",
          "height": 324
        }
      },
      "source": [
        "X_good = X_test[y_test==1]\n",
        "X_bad = X_test[y_test==0]\n",
        "\n",
        "plt.figure(figsize=(10,5))\n",
        "plt.scatter(X_good['PM2.5'], X_good['PM10'], label='good')\n",
        "plt.scatter(X_bad['PM2.5'], X_bad['PM10'], label='bad')\n",
        "plt.legend()\n",
        "plt.show()"
      ],
      "execution_count": 6,
      "outputs": [
        {
          "output_type": "display_data",
          "data": {
            "image/png": "[encoded data removed]",
            "text/plain": [
              "<Figure size 720x360 with 1 Axes>"
            ]
          },
          "metadata": {
            "tags": []
          }
        }
      ]
    },
    {
      "cell_type": "markdown",
      "metadata": {
        "id": "kBP88qc9X5xw",
        "colab_type": "text"
      },
      "source": [
        "## 自定义类"
      ]
    },
    {
      "cell_type": "code",
      "metadata": {
        "id": "DXo8obRNX8E9",
        "colab_type": "code",
        "colab": {}
      },
      "source": [
        "class myLogReg():\n",
        "    def __init__(self, eta=1e-3, thread=1e-8, max_iter=1e5):\n",
        "        self._X = None\n",
        "        self._y = None\n",
        "        self._theta = None\n",
        "        self._eta = eta\n",
        "        self._thread = thread\n",
        "        self._max_iter = max_iter\n",
        "    \n",
        "    def _sigmoid(self, t):\n",
        "        return 1 / (1 + np.exp(-t))\n",
        "    \n",
        "    def _entropy(self, h):\n",
        "        return -self._y*np.log(h) - (1-self._y)*np.log(1-h)\n",
        "    \n",
        "    # 目标函数\n",
        "    def _J(self):\n",
        "        yhat = self._sigmoid(self._X @ self._theta)\n",
        "        m = len(self._y)\n",
        "        try:\n",
        "            return np.sum(self._entropy(yhat)) / (2*m)\n",
        "        except:\n",
        "            return float('inf')\n",
        "    \n",
        "    # 梯度\n",
        "    def _dJ(self):\n",
        "        yhat = self._sigmoid(self._X @ self._theta)\n",
        "        m = len(self._y)\n",
        "        return (self._X.T @ (yhat - self._y)) / m\n",
        "    \n",
        "    def fit(self, X_train, y_train):\n",
        "        self._X = np.c_[np.ones(X_train.shape[0]), X_train]\n",
        "        self._y = y_train.to_numpy().reshape(-1, 1)\n",
        "        self._theta = np.zeros(self._X.shape[1]).reshape(-1,1)\n",
        "        count = 1\n",
        "        while count < self._max_iter:\n",
        "            old_J = self._J()\n",
        "            dJ = self._dJ()\n",
        "            self._theta -= self._eta * dJ\n",
        "            new_J = self._J()\n",
        "            if np.abs(new_J - old_J) < self._thread:\n",
        "                break\n",
        "            count +=1\n",
        "        return self\n",
        "    \n",
        "    def predict(self, X_test):\n",
        "        X_b = np.c_[np.ones(X_test.shape[0]), X_test]\n",
        "        return np.array(X_b@self._theta>0, dtype=np.int64)\n",
        "    \n",
        "    def score(self, X_test, y_test):\n",
        "        y_pred = self.predict(X_test).reshape(-1,1)\n",
        "        y_test = y_test.to_numpy().reshape(-1,1)\n",
        "        return np.sum(y_pred==y_test) / len(y_test)"
      ],
      "execution_count": 0,
      "outputs": []
    },
    {
      "cell_type": "code",
      "metadata": {
        "id": "AuLh8tnyqfSs",
        "colab_type": "code",
        "colab": {
          "base_uri": "https://localhost:8080/",
          "height": 35
        },
        "outputId": "73d526d1-0a61-457e-fdc3-4e759e8a06ad"
      },
      "source": [
        "my_LogReg = myLogReg()\n",
        "my_LogReg.fit(X_train, y_train)\n",
        "my_LogReg.score(X_test, y_test)"
      ],
      "execution_count": 8,
      "outputs": [
        {
          "output_type": "execute_result",
          "data": {
            "text/plain": [
              "0.8942731277533039"
            ]
          },
          "metadata": {
            "tags": []
          },
          "execution_count": 8
        }
      ]
    },
    {
      "cell_type": "markdown",
      "metadata": {
        "id": "COyfaoXx9W6-",
        "colab_type": "text"
      },
      "source": [
        "## 使用sklearn"
      ]
    },
    {
      "cell_type": "code",
      "metadata": {
        "colab_type": "code",
        "id": "a94sYtYcUpjm",
        "outputId": "aa1467a0-bbff-41fb-a5f6-addc850187b9",
        "colab": {
          "base_uri": "https://localhost:8080/",
          "height": 158
        }
      },
      "source": [
        "from sklearn.linear_model import LogisticRegression\n",
        "\n",
        "log_reg = LogisticRegression()\n",
        "log_reg.fit(X_train, y_train)"
      ],
      "execution_count": 9,
      "outputs": [
        {
          "output_type": "stream",
          "text": [
            "/usr/local/lib/python3.6/dist-packages/sklearn/linear_model/logistic.py:432: FutureWarning: Default solver will be changed to 'lbfgs' in 0.22. Specify a solver to silence this warning.\n",
            "  FutureWarning)\n"
          ],
          "name": "stderr"
        },
        {
          "output_type": "execute_result",
          "data": {
            "text/plain": [
              "LogisticRegression(C=1.0, class_weight=None, dual=False, fit_intercept=True,\n",
              "                   intercept_scaling=1, l1_ratio=None, max_iter=100,\n",
              "                   multi_class='warn', n_jobs=None, penalty='l2',\n",
              "                   random_state=None, solver='warn', tol=0.0001, verbose=0,\n",
              "                   warm_start=False)"
            ]
          },
          "metadata": {
            "tags": []
          },
          "execution_count": 9
        }
      ]
    },
    {
      "cell_type": "code",
      "metadata": {
        "colab_type": "code",
        "id": "clNtKnRMUpjq",
        "outputId": "4e4cfac4-5498-4649-c324-869267744027",
        "colab": {
          "base_uri": "https://localhost:8080/",
          "height": 35
        }
      },
      "source": [
        "log_reg.score(X_test, y_test)"
      ],
      "execution_count": 10,
      "outputs": [
        {
          "output_type": "execute_result",
          "data": {
            "text/plain": [
              "0.8964757709251101"
            ]
          },
          "metadata": {
            "tags": []
          },
          "execution_count": 10
        }
      ]
    },
    {
      "cell_type": "markdown",
      "metadata": {
        "colab_type": "text",
        "id": "-0ceJ72qUpju"
      },
      "source": [
        "**决策边界**\n",
        "\n",
        "$X\\theta=0$"
      ]
    },
    {
      "cell_type": "code",
      "metadata": {
        "colab_type": "code",
        "id": "ugPyxFZoUpjv",
        "colab": {}
      },
      "source": [
        "def plot_decision_boundary(model, axis):\n",
        "    X0, X1 = np.meshgrid(\n",
        "        np.linspace(axis[0], axis[1], int(axis[1]-axis[0])).reshape(-1, 1),\n",
        "        np.linspace(axis[2], axis[3], int(axis[3]-axis[2])).reshape(-1, 1),\n",
        "    )\n",
        "    X = np.c_[X0.ravel(), X1.ravel()]\n",
        "    Y = model.predict(X).reshape(X0.shape)\n",
        "    \n",
        "    plt.contourf(X0, X1, Y)"
      ],
      "execution_count": 0,
      "outputs": []
    },
    {
      "cell_type": "code",
      "metadata": {
        "colab_type": "code",
        "id": "RgBSCYadUpjz",
        "outputId": "30f1d10d-581f-4ad1-d62f-7c82232fae1f",
        "colab": {
          "base_uri": "https://localhost:8080/",
          "height": 378
        }
      },
      "source": [
        "plt.figure(figsize=(15,6))\n",
        "plot_decision_boundary(log_reg, axis=[np.min(X_test)[0],np.max(X_test)[0], np.min(X_test)[0],np.max(X_test)[1]])\n",
        "plt.scatter(X_good['PM2.5'], X_good['PM10'])\n",
        "plt.scatter(X_bad['PM2.5'], X_bad['PM10'])\n",
        "plt.show()"
      ],
      "execution_count": 12,
      "outputs": [
        {
          "output_type": "display_data",
          "data": {
            "image/png": "[encoded data removed]",
            "text/plain": [
              "<Figure size 1080x432 with 1 Axes>"
            ]
          },
          "metadata": {
            "tags": []
          }
        }
      ]
    },
    {
      "cell_type": "markdown",
      "metadata": {
        "colab_type": "text",
        "id": "6OQc8Djqe5Tr"
      },
      "source": [
        "**加入多项式特征**"
      ]
    },
    {
      "cell_type": "code",
      "metadata": {
        "colab_type": "code",
        "id": "Vxy-bCcRe81R",
        "colab": {}
      },
      "source": [
        "from sklearn.preprocessing import PolynomialFeatures, StandardScaler\n",
        "from sklearn.pipeline import Pipeline\n",
        "\n",
        "def PolynomialLogisticRegression(degree):\n",
        "    return Pipeline([\n",
        "        ('poly', PolynomialFeatures(degree=degree)),\n",
        "        ('std_scaler', StandardScaler()),\n",
        "        ('log_reg', LogisticRegression())\n",
        "    ])"
      ],
      "execution_count": 0,
      "outputs": []
    },
    {
      "cell_type": "code",
      "metadata": {
        "colab_type": "code",
        "id": "CXt94lJngnmm",
        "outputId": "f9ec41f2-db30-4a4a-94c1-8f73ed974748",
        "colab": {
          "base_uri": "https://localhost:8080/",
          "height": 89
        }
      },
      "source": [
        "poly_log_reg = PolynomialLogisticRegression(2)\n",
        "poly_log_reg.fit(X_train, y_train)\n",
        "poly_log_reg.score(X_test, y_test)"
      ],
      "execution_count": 14,
      "outputs": [
        {
          "output_type": "stream",
          "text": [
            "/usr/local/lib/python3.6/dist-packages/sklearn/linear_model/logistic.py:432: FutureWarning: Default solver will be changed to 'lbfgs' in 0.22. Specify a solver to silence this warning.\n",
            "  FutureWarning)\n"
          ],
          "name": "stderr"
        },
        {
          "output_type": "execute_result",
          "data": {
            "text/plain": [
              "0.9008810572687225"
            ]
          },
          "metadata": {
            "tags": []
          },
          "execution_count": 14
        }
      ]
    },
    {
      "cell_type": "code",
      "metadata": {
        "colab_type": "code",
        "id": "TlG0lWr1vNo7",
        "outputId": "ffb19803-667d-489e-9db0-32b91df28391",
        "colab": {
          "base_uri": "https://localhost:8080/",
          "height": 378
        }
      },
      "source": [
        "plt.figure(figsize=(15,6))\n",
        "plot_decision_boundary(poly_log_reg, axis=[np.min(X_test)[0],np.max(X_test)[0], np.min(X_test)[0],np.max(X_test)[1]])\n",
        "plt.scatter(X_good['PM2.5'], X_good['PM10'])\n",
        "plt.scatter(X_bad['PM2.5'], X_bad['PM10'])\n",
        "plt.show()"
      ],
      "execution_count": 15,
      "outputs": [
        {
          "output_type": "display_data",
          "data": {
            "image/png": "[encoded data removed]",
            "text/plain": [
              "<Figure size 1080x432 with 1 Axes>"
            ]
          },
          "metadata": {
            "tags": []
          }
        }
      ]
    }
  ]
}