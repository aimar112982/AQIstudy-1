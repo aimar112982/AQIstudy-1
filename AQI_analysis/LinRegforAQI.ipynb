{
  "nbformat": 4,
  "nbformat_minor": 0,
  "metadata": {
    "colab": {
      "name": "LinRegforAQI.ipynb",
      "version": "0.3.2",
      "provenance": [],
      "collapsed_sections": []
    },
    "language_info": {
      "codemirror_mode": {
        "name": "ipython",
        "version": 3
      },
      "file_extension": ".py",
      "mimetype": "text/x-python",
      "name": "python",
      "nbconvert_exporter": "python",
      "pygments_lexer": "ipython3",
      "version": "3.6.4"
    },
    "kernelspec": {
      "name": "python3",
      "display_name": "Python 3"
    },
    "accelerator": "TPU"
  },
  "cells": [
    {
      "cell_type": "markdown",
      "metadata": {
        "id": "UY80Chc3NjtK",
        "colab_type": "text"
      },
      "source": [
        "# 简单线性回归\n",
        "\n",
        "AQI和PM2.5之间的线性关系\n",
        "\n",
        "$AQI = a*PM2.5 + b$"
      ]
    },
    {
      "cell_type": "code",
      "metadata": {
        "id": "CIfjsTIONjtM",
        "colab_type": "code",
        "outputId": "18dbbb69-c032-4c40-bb99-e25648b487c0",
        "colab": {
          "base_uri": "https://localhost:8080/",
          "height": 235
        }
      },
      "source": [
        "import pandas as pd\n",
        "\n",
        "wh_data = pd.read_csv('../AQI_maincity/武汉.csv', usecols=[0,1,3], index_col='date', engine='python')  # engine='python'解决中文问题\n",
        "wh_data.head()"
      ],
      "execution_count": 4,
      "outputs": [
        {
          "output_type": "execute_result",
          "data": {
            "text/html": [
              "<div>\n",
              "<style scoped>\n",
              "    .dataframe tbody tr th:only-of-type {\n",
              "        vertical-align: middle;\n",
              "    }\n",
              "\n",
              "    .dataframe tbody tr th {\n",
              "        vertical-align: top;\n",
              "    }\n",
              "\n",
              "    .dataframe thead th {\n",
              "        text-align: right;\n",
              "    }\n",
              "</style>\n",
              "<table border=\"1\" class=\"dataframe\">\n",
              "  <thead>\n",
              "    <tr style=\"text-align: right;\">\n",
              "      <th></th>\n",
              "      <th>AQI</th>\n",
              "      <th>PM2.5</th>\n",
              "    </tr>\n",
              "    <tr>\n",
              "      <th>date</th>\n",
              "      <th></th>\n",
              "      <th></th>\n",
              "    </tr>\n",
              "  </thead>\n",
              "  <tbody>\n",
              "    <tr>\n",
              "      <th>2014-01-01</th>\n",
              "      <td>203</td>\n",
              "      <td>153</td>\n",
              "    </tr>\n",
              "    <tr>\n",
              "      <th>2014-01-02</th>\n",
              "      <td>231</td>\n",
              "      <td>181</td>\n",
              "    </tr>\n",
              "    <tr>\n",
              "      <th>2014-01-03</th>\n",
              "      <td>224</td>\n",
              "      <td>174</td>\n",
              "    </tr>\n",
              "    <tr>\n",
              "      <th>2014-01-04</th>\n",
              "      <td>147</td>\n",
              "      <td>112</td>\n",
              "    </tr>\n",
              "    <tr>\n",
              "      <th>2014-01-05</th>\n",
              "      <td>195</td>\n",
              "      <td>147</td>\n",
              "    </tr>\n",
              "  </tbody>\n",
              "</table>\n",
              "</div>"
            ],
            "text/plain": [
              "            AQI  PM2.5\n",
              "date                  \n",
              "2014-01-01  203    153\n",
              "2014-01-02  231    181\n",
              "2014-01-03  224    174\n",
              "2014-01-04  147    112\n",
              "2014-01-05  195    147"
            ]
          },
          "metadata": {
            "tags": []
          },
          "execution_count": 4
        }
      ]
    },
    {
      "cell_type": "code",
      "metadata": {
        "id": "REJcJr8INjtU",
        "colab_type": "code",
        "colab": {}
      },
      "source": [
        "X = wh_data.values[:, 1].reshape(-1,1)  # PM10\n",
        "y = wh_data.values[:, 0]                # PM2.5"
      ],
      "execution_count": 0,
      "outputs": []
    },
    {
      "cell_type": "code",
      "metadata": {
        "id": "eaWer7xfNjtX",
        "colab_type": "code",
        "outputId": "6220b621-99d4-4e6f-e81d-e908626c31ea",
        "colab": {
          "base_uri": "https://localhost:8080/",
          "height": 378
        }
      },
      "source": [
        "import matplotlib.pyplot as plt\n",
        "%matplotlib inline\n",
        "\n",
        "plt.figure(figsize=(12,6))\n",
        "plt.scatter(X, y, alpha=0.3)\n",
        "plt.show()"
      ],
      "execution_count": 6,
      "outputs": [
        {
          "output_type": "display_data",
          "data": {
            "image/png": "[encoded data removed]",
            "text/plain": [
              "<Figure size 864x432 with 1 Axes>"
            ]
          },
          "metadata": {
            "tags": []
          }
        }
      ]
    },
    {
      "cell_type": "code",
      "metadata": {
        "id": "_VjuIl03Njtc",
        "colab_type": "code",
        "colab": {}
      },
      "source": [
        "from sklearn.model_selection import train_test_split\n",
        "\n",
        "X_train, X_test, y_train, y_test = train_test_split(X, y, random_state=100)"
      ],
      "execution_count": 0,
      "outputs": []
    },
    {
      "cell_type": "code",
      "metadata": {
        "id": "YS8dMbcZNjtg",
        "colab_type": "code",
        "outputId": "ea1c7c99-7099-4c1d-dc34-9d8407608a94",
        "colab": {
          "base_uri": "https://localhost:8080/",
          "height": 35
        }
      },
      "source": [
        "from sklearn.linear_model import LinearRegression\n",
        "\n",
        "lin_reg = LinearRegression()\n",
        "lin_reg.fit(X_train, y_train)"
      ],
      "execution_count": 8,
      "outputs": [
        {
          "output_type": "execute_result",
          "data": {
            "text/plain": [
              "LinearRegression(copy_X=True, fit_intercept=True, n_jobs=None, normalize=False)"
            ]
          },
          "metadata": {
            "tags": []
          },
          "execution_count": 8
        }
      ]
    },
    {
      "cell_type": "code",
      "metadata": {
        "id": "tt1AFX1zNjtk",
        "colab_type": "code",
        "outputId": "4b12ec89-e376-4b9a-fc56-14bcbf70d71e",
        "colab": {
          "base_uri": "https://localhost:8080/",
          "height": 378
        }
      },
      "source": [
        "plt.figure(figsize=(12,6))\n",
        "plt.scatter(X_test, y_test)\n",
        "plt.plot(X_test, lin_reg.predict(X_test), c='r')\n",
        "plt.show()"
      ],
      "execution_count": 9,
      "outputs": [
        {
          "output_type": "display_data",
          "data": {
            "image/png": "[encoded data removed]",
            "text/plain": [
              "<Figure size 864x432 with 1 Axes>"
            ]
          },
          "metadata": {
            "tags": []
          }
        }
      ]
    },
    {
      "cell_type": "code",
      "metadata": {
        "id": "YyU0Voh7Njto",
        "colab_type": "code",
        "outputId": "d3494691-016d-4d26-d07e-9743310fe2ad",
        "colab": {
          "base_uri": "https://localhost:8080/",
          "height": 35
        }
      },
      "source": [
        "from sklearn.metrics import mean_squared_error, mean_absolute_error, r2_score\n",
        "from numpy import sqrt\n",
        "\n",
        "yhat = lin_reg.predict(X_test)\n",
        "mse = mean_squared_error(y_test, yhat)\n",
        "rmse = sqrt(mse)\n",
        "mae = mean_absolute_error(y_test, yhat)\n",
        "r2 = r2_score(y_test, yhat)\n",
        "print(mse, rmse, mae, r2)"
      ],
      "execution_count": 10,
      "outputs": [
        {
          "output_type": "stream",
          "text": [
            "307.76387550412505 17.54320026403749 13.098962058039692 0.8610501219555409\n"
          ],
          "name": "stdout"
        }
      ]
    },
    {
      "cell_type": "code",
      "metadata": {
        "id": "778mjWvHNjtt",
        "colab_type": "code",
        "outputId": "6a760d84-9865-4afd-ee7b-910cbab008f1",
        "colab": {
          "base_uri": "https://localhost:8080/",
          "height": 35
        }
      },
      "source": [
        "lin_reg.score(X_test, y_test)"
      ],
      "execution_count": 11,
      "outputs": [
        {
          "output_type": "execute_result",
          "data": {
            "text/plain": [
              "0.8610501219555409"
            ]
          },
          "metadata": {
            "tags": []
          },
          "execution_count": 11
        }
      ]
    },
    {
      "cell_type": "markdown",
      "metadata": {
        "id": "RyI0_9R1Njty",
        "colab_type": "text"
      },
      "source": [
        "# 多元线性回归"
      ]
    },
    {
      "cell_type": "markdown",
      "metadata": {
        "id": "lrq1GMQJNjtz",
        "colab_type": "text"
      },
      "source": [
        "## 1.导入数据并清洗"
      ]
    },
    {
      "cell_type": "code",
      "metadata": {
        "scrolled": true,
        "id": "wpJU_AM-Njt1",
        "colab_type": "code",
        "outputId": "30d20928-724f-42f8-d13a-f503d749ad1f",
        "colab": {
          "base_uri": "https://localhost:8080/",
          "height": 235
        }
      },
      "source": [
        "import pandas as pd\n",
        "import numpy as np\n",
        "\n",
        "wh_data = pd.read_csv('../AQI_maincity/武汉.csv',index_col='date', engine='python')  # engine='python'解决中文问题\n",
        "wh_data.drop(index=wh_data[wh_data['质量等级']=='无'].index, columns=['AQI','质量等级'], inplace=True) # 删除异常值和无关变量\n",
        "wh_data = wh_data.astype(np.float64)\n",
        "idx = pd.to_datetime(wh_data.index, format='%Y-%m-%d')\n",
        "wh_data.index = idx\n",
        "wh_data.name = 'wh'\n",
        "wh_data.head()"
      ],
      "execution_count": 12,
      "outputs": [
        {
          "output_type": "execute_result",
          "data": {
            "text/html": [
              "<div>\n",
              "<style scoped>\n",
              "    .dataframe tbody tr th:only-of-type {\n",
              "        vertical-align: middle;\n",
              "    }\n",
              "\n",
              "    .dataframe tbody tr th {\n",
              "        vertical-align: top;\n",
              "    }\n",
              "\n",
              "    .dataframe thead th {\n",
              "        text-align: right;\n",
              "    }\n",
              "</style>\n",
              "<table border=\"1\" class=\"dataframe\">\n",
              "  <thead>\n",
              "    <tr style=\"text-align: right;\">\n",
              "      <th></th>\n",
              "      <th>PM2.5</th>\n",
              "      <th>PM10</th>\n",
              "      <th>SO2</th>\n",
              "      <th>CO</th>\n",
              "      <th>NO2</th>\n",
              "      <th>O3_8h</th>\n",
              "    </tr>\n",
              "    <tr>\n",
              "      <th>date</th>\n",
              "      <th></th>\n",
              "      <th></th>\n",
              "      <th></th>\n",
              "      <th></th>\n",
              "      <th></th>\n",
              "      <th></th>\n",
              "    </tr>\n",
              "  </thead>\n",
              "  <tbody>\n",
              "    <tr>\n",
              "      <th>2014-01-01</th>\n",
              "      <td>153.0</td>\n",
              "      <td>210.0</td>\n",
              "      <td>70.0</td>\n",
              "      <td>2.0</td>\n",
              "      <td>106.0</td>\n",
              "      <td>55.0</td>\n",
              "    </tr>\n",
              "    <tr>\n",
              "      <th>2014-01-02</th>\n",
              "      <td>181.0</td>\n",
              "      <td>254.0</td>\n",
              "      <td>89.0</td>\n",
              "      <td>2.4</td>\n",
              "      <td>112.0</td>\n",
              "      <td>26.0</td>\n",
              "    </tr>\n",
              "    <tr>\n",
              "      <th>2014-01-03</th>\n",
              "      <td>174.0</td>\n",
              "      <td>226.0</td>\n",
              "      <td>63.0</td>\n",
              "      <td>1.7</td>\n",
              "      <td>84.0</td>\n",
              "      <td>55.0</td>\n",
              "    </tr>\n",
              "    <tr>\n",
              "      <th>2014-01-04</th>\n",
              "      <td>112.0</td>\n",
              "      <td>184.0</td>\n",
              "      <td>73.0</td>\n",
              "      <td>1.6</td>\n",
              "      <td>87.0</td>\n",
              "      <td>40.0</td>\n",
              "    </tr>\n",
              "    <tr>\n",
              "      <th>2014-01-05</th>\n",
              "      <td>147.0</td>\n",
              "      <td>213.0</td>\n",
              "      <td>89.0</td>\n",
              "      <td>2.2</td>\n",
              "      <td>91.0</td>\n",
              "      <td>53.0</td>\n",
              "    </tr>\n",
              "  </tbody>\n",
              "</table>\n",
              "</div>"
            ],
            "text/plain": [
              "            PM2.5   PM10   SO2   CO    NO2  O3_8h\n",
              "date                                             \n",
              "2014-01-01  153.0  210.0  70.0  2.0  106.0   55.0\n",
              "2014-01-02  181.0  254.0  89.0  2.4  112.0   26.0\n",
              "2014-01-03  174.0  226.0  63.0  1.7   84.0   55.0\n",
              "2014-01-04  112.0  184.0  73.0  1.6   87.0   40.0\n",
              "2014-01-05  147.0  213.0  89.0  2.2   91.0   53.0"
            ]
          },
          "metadata": {
            "tags": []
          },
          "execution_count": 12
        }
      ]
    },
    {
      "cell_type": "markdown",
      "metadata": {
        "id": "45TLZoykNjt5",
        "colab_type": "text"
      },
      "source": [
        "## 2.数据探索与可视化"
      ]
    },
    {
      "cell_type": "markdown",
      "metadata": {
        "id": "1GkZUR7hNjt6",
        "colab_type": "text"
      },
      "source": [
        "**数据结构**"
      ]
    },
    {
      "cell_type": "code",
      "metadata": {
        "id": "z86FKc9JNjt7",
        "colab_type": "code",
        "outputId": "8e16f47e-5e7b-4de4-8311-31edecf4f9a0",
        "colab": {
          "base_uri": "https://localhost:8080/",
          "height": 215
        }
      },
      "source": [
        "wh_data.info()"
      ],
      "execution_count": 13,
      "outputs": [
        {
          "output_type": "stream",
          "text": [
            "<class 'pandas.core.frame.DataFrame'>\n",
            "DatetimeIndex: 1814 entries, 2014-01-01 to 2018-12-31\n",
            "Data columns (total 6 columns):\n",
            "PM2.5    1814 non-null float64\n",
            "PM10     1814 non-null float64\n",
            "SO2      1814 non-null float64\n",
            "CO       1814 non-null float64\n",
            "NO2      1814 non-null float64\n",
            "O3_8h    1814 non-null float64\n",
            "dtypes: float64(6)\n",
            "memory usage: 99.2 KB\n"
          ],
          "name": "stdout"
        }
      ]
    },
    {
      "cell_type": "markdown",
      "metadata": {
        "id": "HjRG02qlNjt_",
        "colab_type": "text"
      },
      "source": [
        "$20140101-20181231$一共1814个样本，5个特征，1个输出值，无缺失值。"
      ]
    },
    {
      "cell_type": "markdown",
      "metadata": {
        "id": "-eyaJd1CNjuA",
        "colab_type": "text"
      },
      "source": [
        "**描述性统计信息**"
      ]
    },
    {
      "cell_type": "code",
      "metadata": {
        "id": "LoNM9_IlNjuB",
        "colab_type": "code",
        "outputId": "99d2fc27-ebeb-4b9e-e50d-b19ee919b6c8",
        "colab": {
          "base_uri": "https://localhost:8080/",
          "height": 297
        }
      },
      "source": [
        "wh_data.describe()"
      ],
      "execution_count": 14,
      "outputs": [
        {
          "output_type": "execute_result",
          "data": {
            "text/html": [
              "<div>\n",
              "<style scoped>\n",
              "    .dataframe tbody tr th:only-of-type {\n",
              "        vertical-align: middle;\n",
              "    }\n",
              "\n",
              "    .dataframe tbody tr th {\n",
              "        vertical-align: top;\n",
              "    }\n",
              "\n",
              "    .dataframe thead th {\n",
              "        text-align: right;\n",
              "    }\n",
              "</style>\n",
              "<table border=\"1\" class=\"dataframe\">\n",
              "  <thead>\n",
              "    <tr style=\"text-align: right;\">\n",
              "      <th></th>\n",
              "      <th>PM2.5</th>\n",
              "      <th>PM10</th>\n",
              "      <th>SO2</th>\n",
              "      <th>CO</th>\n",
              "      <th>NO2</th>\n",
              "      <th>O3_8h</th>\n",
              "    </tr>\n",
              "  </thead>\n",
              "  <tbody>\n",
              "    <tr>\n",
              "      <th>count</th>\n",
              "      <td>1814.000000</td>\n",
              "      <td>1814.000000</td>\n",
              "      <td>1814.000000</td>\n",
              "      <td>1814.000000</td>\n",
              "      <td>1814.000000</td>\n",
              "      <td>1814.000000</td>\n",
              "    </tr>\n",
              "    <tr>\n",
              "      <th>mean</th>\n",
              "      <td>61.116318</td>\n",
              "      <td>94.311466</td>\n",
              "      <td>16.538589</td>\n",
              "      <td>1.090849</td>\n",
              "      <td>48.830761</td>\n",
              "      <td>92.165932</td>\n",
              "    </tr>\n",
              "    <tr>\n",
              "      <th>std</th>\n",
              "      <td>41.227822</td>\n",
              "      <td>51.390779</td>\n",
              "      <td>13.154913</td>\n",
              "      <td>0.349634</td>\n",
              "      <td>20.225358</td>\n",
              "      <td>49.062929</td>\n",
              "    </tr>\n",
              "    <tr>\n",
              "      <th>min</th>\n",
              "      <td>0.000000</td>\n",
              "      <td>0.000000</td>\n",
              "      <td>2.000000</td>\n",
              "      <td>0.400000</td>\n",
              "      <td>13.000000</td>\n",
              "      <td>0.000000</td>\n",
              "    </tr>\n",
              "    <tr>\n",
              "      <th>25%</th>\n",
              "      <td>32.000000</td>\n",
              "      <td>56.000000</td>\n",
              "      <td>7.000000</td>\n",
              "      <td>0.900000</td>\n",
              "      <td>33.000000</td>\n",
              "      <td>53.000000</td>\n",
              "    </tr>\n",
              "    <tr>\n",
              "      <th>50%</th>\n",
              "      <td>51.000000</td>\n",
              "      <td>86.000000</td>\n",
              "      <td>13.000000</td>\n",
              "      <td>1.000000</td>\n",
              "      <td>45.000000</td>\n",
              "      <td>86.000000</td>\n",
              "    </tr>\n",
              "    <tr>\n",
              "      <th>75%</th>\n",
              "      <td>79.000000</td>\n",
              "      <td>122.000000</td>\n",
              "      <td>21.000000</td>\n",
              "      <td>1.300000</td>\n",
              "      <td>61.000000</td>\n",
              "      <td>128.000000</td>\n",
              "    </tr>\n",
              "    <tr>\n",
              "      <th>max</th>\n",
              "      <td>287.000000</td>\n",
              "      <td>406.000000</td>\n",
              "      <td>107.000000</td>\n",
              "      <td>2.700000</td>\n",
              "      <td>119.000000</td>\n",
              "      <td>261.000000</td>\n",
              "    </tr>\n",
              "  </tbody>\n",
              "</table>\n",
              "</div>"
            ],
            "text/plain": [
              "             PM2.5         PM10  ...          NO2        O3_8h\n",
              "count  1814.000000  1814.000000  ...  1814.000000  1814.000000\n",
              "mean     61.116318    94.311466  ...    48.830761    92.165932\n",
              "std      41.227822    51.390779  ...    20.225358    49.062929\n",
              "min       0.000000     0.000000  ...    13.000000     0.000000\n",
              "25%      32.000000    56.000000  ...    33.000000    53.000000\n",
              "50%      51.000000    86.000000  ...    45.000000    86.000000\n",
              "75%      79.000000   122.000000  ...    61.000000   128.000000\n",
              "max     287.000000   406.000000  ...   119.000000   261.000000\n",
              "\n",
              "[8 rows x 6 columns]"
            ]
          },
          "metadata": {
            "tags": []
          },
          "execution_count": 14
        }
      ]
    },
    {
      "cell_type": "markdown",
      "metadata": {
        "id": "sBeDlBkKNjuF",
        "colab_type": "text"
      },
      "source": [
        "**分布情况**"
      ]
    },
    {
      "cell_type": "code",
      "metadata": {
        "id": "dCtrYE3sNjuG",
        "colab_type": "code",
        "outputId": "f82bdc30-9b88-4b9a-97f3-1371c229ad0f",
        "colab": {
          "base_uri": "https://localhost:8080/",
          "height": 608
        }
      },
      "source": [
        "import matplotlib.pyplot as plt\n",
        "%matplotlib inline\n",
        "\n",
        "wh_data.hist(bins=20, figsize=(20,10), layout=(2,3))\n",
        "plt.show()"
      ],
      "execution_count": 15,
      "outputs": [
        {
          "output_type": "display_data",
          "data": {
            "image/png": "[encoded data removed]",
            "text/plain": [
              "<Figure size 1440x720 with 6 Axes>"
            ]
          },
          "metadata": {
            "tags": []
          }
        }
      ]
    },
    {
      "cell_type": "markdown",
      "metadata": {
        "id": "xgFIcRdANjuL",
        "colab_type": "text"
      },
      "source": [
        "右边尾部很长。"
      ]
    },
    {
      "cell_type": "markdown",
      "metadata": {
        "id": "DEIjKE_DNjuM",
        "colab_type": "text"
      },
      "source": [
        "**相关性检验**"
      ]
    },
    {
      "cell_type": "code",
      "metadata": {
        "id": "KsYJDaOoNjuN",
        "colab_type": "code",
        "outputId": "5d8ecd70-532d-4628-906f-516e2c9cbdf8",
        "colab": {
          "base_uri": "https://localhost:8080/",
          "height": 107
        }
      },
      "source": [
        "for col in wh_data.columns[1:]:\n",
        "    print(f'PM2.5与{col}之间的相关系数：\\t{wh_data[\"PM2.5\"].corr(wh_data[col])}')"
      ],
      "execution_count": 16,
      "outputs": [
        {
          "output_type": "stream",
          "text": [
            "PM2.5与PM10之间的相关系数：\t0.8109863704337884\n",
            "PM2.5与SO2之间的相关系数：\t0.6047766335414351\n",
            "PM2.5与CO之间的相关系数：\t0.7897156954574286\n",
            "PM2.5与NO2之间的相关系数：\t0.6026964788567729\n",
            "PM2.5与O3_8h之间的相关系数：\t-0.20455982684519444\n"
          ],
          "name": "stdout"
        }
      ]
    },
    {
      "cell_type": "markdown",
      "metadata": {
        "id": "nRGLwHd0NjuT",
        "colab_type": "text"
      },
      "source": [
        "## 3.训练模型"
      ]
    },
    {
      "cell_type": "markdown",
      "metadata": {
        "id": "4pt8hjmyNjuV",
        "colab_type": "text"
      },
      "source": [
        "**创建测试集并训练**"
      ]
    },
    {
      "cell_type": "code",
      "metadata": {
        "id": "KZxaBPb5NjuW",
        "colab_type": "code",
        "colab": {}
      },
      "source": [
        "from sklearn.model_selection import train_test_split\n",
        "\n",
        "train_set, test_set = train_test_split(wh_data, test_size=0.2, random_state=100)"
      ],
      "execution_count": 0,
      "outputs": []
    },
    {
      "cell_type": "code",
      "metadata": {
        "id": "XXXoVvkdNjub",
        "colab_type": "code",
        "colab": {}
      },
      "source": [
        "X_train = train_set.iloc[:, 1:]\n",
        "y_train = train_set.iloc[:, 0]\n",
        "X_test = test_set.iloc[:, 1:]\n",
        "y_test = test_set.iloc[:, 0]"
      ],
      "execution_count": 0,
      "outputs": []
    },
    {
      "cell_type": "code",
      "metadata": {
        "id": "KfsinxXZNjug",
        "colab_type": "code",
        "outputId": "af9282a3-1b28-4814-e84a-9f267fc39014",
        "colab": {
          "base_uri": "https://localhost:8080/",
          "height": 35
        }
      },
      "source": [
        "from sklearn.linear_model import LinearRegression\n",
        "\n",
        "lin_reg = LinearRegression()\n",
        "lin_reg.fit(X_train, y_train)"
      ],
      "execution_count": 19,
      "outputs": [
        {
          "output_type": "execute_result",
          "data": {
            "text/plain": [
              "LinearRegression(copy_X=True, fit_intercept=True, n_jobs=None, normalize=False)"
            ]
          },
          "metadata": {
            "tags": []
          },
          "execution_count": 19
        }
      ]
    },
    {
      "cell_type": "markdown",
      "metadata": {
        "id": "K4kU1GkLNjuk",
        "colab_type": "text"
      },
      "source": [
        "**评估模型**"
      ]
    },
    {
      "cell_type": "code",
      "metadata": {
        "id": "75FEsmfiNjul",
        "colab_type": "code",
        "outputId": "e78f25f4-0dd9-4144-e013-aafbbc21c576",
        "colab": {
          "base_uri": "https://localhost:8080/",
          "height": 35
        }
      },
      "source": [
        "lin_reg.score(X_test, y_test)"
      ],
      "execution_count": 20,
      "outputs": [
        {
          "output_type": "execute_result",
          "data": {
            "text/plain": [
              "0.8442970414476398"
            ]
          },
          "metadata": {
            "tags": []
          },
          "execution_count": 20
        }
      ]
    },
    {
      "cell_type": "code",
      "metadata": {
        "id": "JZdY5JGENjup",
        "colab_type": "code",
        "outputId": "f2c0197b-250e-4ef1-f4b1-cffb0f64f8e1",
        "colab": {
          "base_uri": "https://localhost:8080/",
          "height": 53
        }
      },
      "source": [
        "print(np.sort(lin_reg.coef_))\n",
        "print(X_test.columns[np.argsort(lin_reg.coef_)])"
      ],
      "execution_count": 21,
      "outputs": [
        {
          "output_type": "stream",
          "text": [
            "[-0.3690291  -0.11387019  0.29645779  0.50265052 50.78204513]\n",
            "Index(['NO2', 'O3_8h', 'SO2', 'PM10', 'CO'], dtype='object')\n"
          ],
          "name": "stdout"
        }
      ]
    },
    {
      "cell_type": "markdown",
      "metadata": {
        "id": "eLSEMXkJNjuv",
        "colab_type": "text"
      },
      "source": [
        "## 随机梯度下降法"
      ]
    },
    {
      "cell_type": "code",
      "metadata": {
        "id": "QstwOZTyNjuw",
        "colab_type": "code",
        "colab": {}
      },
      "source": [
        "from sklearn.preprocessing import StandardScaler\n",
        "\n",
        "standardscaler = StandardScaler()\n",
        "standardscaler.fit(X_train)\n",
        "X_train_sca = standardscaler.transform(X_train)\n",
        "X_test_sca = standardscaler.transform(X_test)"
      ],
      "execution_count": 0,
      "outputs": []
    },
    {
      "cell_type": "code",
      "metadata": {
        "id": "mSaTEfB2Njuy",
        "colab_type": "code",
        "outputId": "5d84d0e6-8879-4d4c-bed7-6db6a81fa03c",
        "colab": {
          "base_uri": "https://localhost:8080/",
          "height": 35
        }
      },
      "source": [
        "from sklearn.linear_model import SGDRegressor\n",
        "\n",
        "sgd_reg = SGDRegressor(max_iter=1000)\n",
        "sgd_reg.fit(X_train_sca, y_train)\n",
        "sgd_reg.score(X_test_sca, y_test)"
      ],
      "execution_count": 23,
      "outputs": [
        {
          "output_type": "execute_result",
          "data": {
            "text/plain": [
              "0.8439141300857917"
            ]
          },
          "metadata": {
            "tags": []
          },
          "execution_count": 23
        }
      ]
    },
    {
      "cell_type": "markdown",
      "metadata": {
        "id": "-G5thc-4Nju2",
        "colab_type": "text"
      },
      "source": [
        "# 在线样本更新的多元线性回归\n",
        "\n",
        "以前30天的样本预测后一天的PM2.5\n",
        "\n",
        "参考：付倩娆(2016),基于多元线性回归的雾霾预测方法研究"
      ]
    },
    {
      "cell_type": "code",
      "metadata": {
        "id": "44gOYwVWNju3",
        "colab_type": "code",
        "outputId": "82f79537-eb3e-45a2-e852-0d884dea634a",
        "colab": {
          "base_uri": "https://localhost:8080/",
          "height": 235
        }
      },
      "source": [
        "import pandas as pd\n",
        "import numpy as np\n",
        "\n",
        "wh_data = pd.read_csv('../AQI_maincity/武汉.csv',index_col='date', engine='python')\n",
        "wh_data.drop(index=wh_data[wh_data['质量等级']=='无'].index, columns=['AQI','质量等级'], inplace=True)\n",
        "wh_data = wh_data.astype(np.float64)\n",
        "idx = pd.to_datetime(wh_data.index, format='%Y-%m-%d')\n",
        "wh_data.index = idx\n",
        "wh_data.name = 'wh'\n",
        "wh_data.head()"
      ],
      "execution_count": 24,
      "outputs": [
        {
          "output_type": "execute_result",
          "data": {
            "text/html": [
              "<div>\n",
              "<style scoped>\n",
              "    .dataframe tbody tr th:only-of-type {\n",
              "        vertical-align: middle;\n",
              "    }\n",
              "\n",
              "    .dataframe tbody tr th {\n",
              "        vertical-align: top;\n",
              "    }\n",
              "\n",
              "    .dataframe thead th {\n",
              "        text-align: right;\n",
              "    }\n",
              "</style>\n",
              "<table border=\"1\" class=\"dataframe\">\n",
              "  <thead>\n",
              "    <tr style=\"text-align: right;\">\n",
              "      <th></th>\n",
              "      <th>PM2.5</th>\n",
              "      <th>PM10</th>\n",
              "      <th>SO2</th>\n",
              "      <th>CO</th>\n",
              "      <th>NO2</th>\n",
              "      <th>O3_8h</th>\n",
              "    </tr>\n",
              "    <tr>\n",
              "      <th>date</th>\n",
              "      <th></th>\n",
              "      <th></th>\n",
              "      <th></th>\n",
              "      <th></th>\n",
              "      <th></th>\n",
              "      <th></th>\n",
              "    </tr>\n",
              "  </thead>\n",
              "  <tbody>\n",
              "    <tr>\n",
              "      <th>2014-01-01</th>\n",
              "      <td>153.0</td>\n",
              "      <td>210.0</td>\n",
              "      <td>70.0</td>\n",
              "      <td>2.0</td>\n",
              "      <td>106.0</td>\n",
              "      <td>55.0</td>\n",
              "    </tr>\n",
              "    <tr>\n",
              "      <th>2014-01-02</th>\n",
              "      <td>181.0</td>\n",
              "      <td>254.0</td>\n",
              "      <td>89.0</td>\n",
              "      <td>2.4</td>\n",
              "      <td>112.0</td>\n",
              "      <td>26.0</td>\n",
              "    </tr>\n",
              "    <tr>\n",
              "      <th>2014-01-03</th>\n",
              "      <td>174.0</td>\n",
              "      <td>226.0</td>\n",
              "      <td>63.0</td>\n",
              "      <td>1.7</td>\n",
              "      <td>84.0</td>\n",
              "      <td>55.0</td>\n",
              "    </tr>\n",
              "    <tr>\n",
              "      <th>2014-01-04</th>\n",
              "      <td>112.0</td>\n",
              "      <td>184.0</td>\n",
              "      <td>73.0</td>\n",
              "      <td>1.6</td>\n",
              "      <td>87.0</td>\n",
              "      <td>40.0</td>\n",
              "    </tr>\n",
              "    <tr>\n",
              "      <th>2014-01-05</th>\n",
              "      <td>147.0</td>\n",
              "      <td>213.0</td>\n",
              "      <td>89.0</td>\n",
              "      <td>2.2</td>\n",
              "      <td>91.0</td>\n",
              "      <td>53.0</td>\n",
              "    </tr>\n",
              "  </tbody>\n",
              "</table>\n",
              "</div>"
            ],
            "text/plain": [
              "            PM2.5   PM10   SO2   CO    NO2  O3_8h\n",
              "date                                             \n",
              "2014-01-01  153.0  210.0  70.0  2.0  106.0   55.0\n",
              "2014-01-02  181.0  254.0  89.0  2.4  112.0   26.0\n",
              "2014-01-03  174.0  226.0  63.0  1.7   84.0   55.0\n",
              "2014-01-04  112.0  184.0  73.0  1.6   87.0   40.0\n",
              "2014-01-05  147.0  213.0  89.0  2.2   91.0   53.0"
            ]
          },
          "metadata": {
            "tags": []
          },
          "execution_count": 24
        }
      ]
    },
    {
      "cell_type": "code",
      "metadata": {
        "id": "KW3aw6AINju8",
        "colab_type": "code",
        "colab": {}
      },
      "source": [
        "X = wh_data.iloc[:,1:]\n",
        "y = wh_data.iloc[:,0]"
      ],
      "execution_count": 0,
      "outputs": []
    },
    {
      "cell_type": "code",
      "metadata": {
        "id": "33UDdpv7NjvA",
        "colab_type": "code",
        "colab": {}
      },
      "source": [
        "from sklearn.linear_model import LinearRegression\n",
        "\n",
        "lin_reg = LinearRegression()"
      ],
      "execution_count": 0,
      "outputs": []
    },
    {
      "cell_type": "code",
      "metadata": {
        "id": "5uhQvWkZNjvC",
        "colab_type": "code",
        "colab": {}
      },
      "source": [
        "window = 30\n",
        "wh_data['PM2.5_predict'] = None\n",
        "for i in range(window+1, len(X.index)):\n",
        "    lin_reg.fit(X[i-30:i], y[i-30:i])\n",
        "    y_new = y.iloc[i]\n",
        "    X_new = X.iloc[i].values.reshape(1,-1)\n",
        "    y_predict = round(lin_reg.predict(X_new)[0], 1)\n",
        "    wh_data.iloc[i, -1] = y_predict"
      ],
      "execution_count": 0,
      "outputs": []
    },
    {
      "cell_type": "code",
      "metadata": {
        "id": "vF9xB0jONjvG",
        "colab_type": "code",
        "outputId": "53c74bf3-ffb9-4950-dcb7-bb9c0cf32806",
        "colab": {
          "base_uri": "https://localhost:8080/",
          "height": 512
        }
      },
      "source": [
        "wh_data[['PM2.5', 'PM2.5_predict']].iloc[-100:].plot(figsize=(15,8))\n",
        "plt.show()"
      ],
      "execution_count": 28,
      "outputs": [
        {
          "output_type": "display_data",
          "data": {
            "image/png": "[encoded data removed]",
            "text/plain": [
              "<Figure size 1080x576 with 1 Axes>"
            ]
          },
          "metadata": {
            "tags": []
          }
        }
      ]
    },
    {
      "cell_type": "code",
      "metadata": {
        "id": "elbaoRr0NjvK",
        "colab_type": "code",
        "outputId": "291ee5a8-e9cb-448b-c0a4-d8ae7de0d243",
        "colab": {
          "base_uri": "https://localhost:8080/",
          "height": 35
        }
      },
      "source": [
        "from sklearn.metrics import r2_score\n",
        "\n",
        "wh_data.dropna(inplace=True)\n",
        "print(r2_score(wh_data['PM2.5'], wh_data['PM2.5_predict']))"
      ],
      "execution_count": 29,
      "outputs": [
        {
          "output_type": "stream",
          "text": [
            "0.8258380593953418\n"
          ],
          "name": "stdout"
        }
      ]
    }
  ]
}