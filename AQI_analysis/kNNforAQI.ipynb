{
  "nbformat": 4,
  "nbformat_minor": 0,
  "metadata": {
    "accelerator": "TPU",
    "colab": {
      "name": "kNNforAQI.ipynb",
      "version": "0.3.2",
      "provenance": [],
      "collapsed_sections": []
    },
    "kernelspec": {
      "display_name": "Python 3",
      "language": "python",
      "name": "python3"
    },
    "language_info": {
      "codemirror_mode": {
        "name": "ipython",
        "version": 3
      },
      "file_extension": ".py",
      "mimetype": "text/x-python",
      "name": "python",
      "nbconvert_exporter": "python",
      "pygments_lexer": "ipython3",
      "version": "3.7.3"
    }
  },
  "cells": [
    {
      "cell_type": "markdown",
      "metadata": {
        "colab_type": "text",
        "id": "lKsKKawNDaCi"
      },
      "source": [
        "# K近邻算法\n",
        "\n",
        "kNN算法是一种基于实例的分类算法，对于给定标签的训练集，计算新数据与训练集实例的距离，统计最近的k个实例，如果多数属于某一类，则新实例属于该类。\n",
        "\n",
        "k值的选择、距离度量以及分类决策规则是k近邻算法的三个基本要素。\n",
        "\n",
        "算法：$1.计算新数据和训练集所有样本的距离\\\\\n",
        "2.将距离从小到大排序\\\\\n",
        "3.选择最小的k个距离，统计类别，选择最多的一类作为新数据的类别$\n",
        "\n",
        "优点：精度高、对异常值不敏感、无数据输入假定\n",
        "\n",
        "缺点：计算复杂度高、空间复杂度高"
      ]
    },
    {
      "cell_type": "markdown",
      "metadata": {
        "id": "A_iamFr3QpMg",
        "colab_type": "text"
      },
      "source": [
        "## 数据导入和可视化分析"
      ]
    },
    {
      "cell_type": "code",
      "metadata": {
        "id": "GM20Mwy9Owac",
        "colab_type": "code",
        "colab": {}
      },
      "source": [
        "import pandas as pd\n",
        "import numpy as np\n",
        "import matplotlib.pyplot as plt\n",
        "%matplotlib inline"
      ],
      "execution_count": 0,
      "outputs": []
    },
    {
      "cell_type": "code",
      "metadata": {
        "colab_type": "code",
        "id": "2tQAxzoyC_uS",
        "colab": {
          "base_uri": "https://localhost:8080/",
          "height": 228
        },
        "outputId": "82d4043c-ac15-4879-852b-13f5ca4609d4"
      },
      "source": [
        "wh_data = pd.read_csv('武汉.csv', index_col='date', encoding='utf-8', engine='python')\n",
        "wh_data.drop(index=wh_data[wh_data['质量等级']=='无'].index, inplace=True)\n",
        "wh_data.head()"
      ],
      "execution_count": 2,
      "outputs": [
        {
          "output_type": "execute_result",
          "data": {
            "text/html": [
              "<div>\n",
              "<style scoped>\n",
              "    .dataframe tbody tr th:only-of-type {\n",
              "        vertical-align: middle;\n",
              "    }\n",
              "\n",
              "    .dataframe tbody tr th {\n",
              "        vertical-align: top;\n",
              "    }\n",
              "\n",
              "    .dataframe thead th {\n",
              "        text-align: right;\n",
              "    }\n",
              "</style>\n",
              "<table border=\"1\" class=\"dataframe\">\n",
              "  <thead>\n",
              "    <tr style=\"text-align: right;\">\n",
              "      <th></th>\n",
              "      <th>AQI</th>\n",
              "      <th>质量等级</th>\n",
              "      <th>PM2.5</th>\n",
              "      <th>PM10</th>\n",
              "      <th>SO2</th>\n",
              "      <th>CO</th>\n",
              "      <th>NO2</th>\n",
              "      <th>O3_8h</th>\n",
              "    </tr>\n",
              "    <tr>\n",
              "      <th>date</th>\n",
              "      <th></th>\n",
              "      <th></th>\n",
              "      <th></th>\n",
              "      <th></th>\n",
              "      <th></th>\n",
              "      <th></th>\n",
              "      <th></th>\n",
              "      <th></th>\n",
              "    </tr>\n",
              "  </thead>\n",
              "  <tbody>\n",
              "    <tr>\n",
              "      <th>2014-01-01</th>\n",
              "      <td>203</td>\n",
              "      <td>重度污染</td>\n",
              "      <td>153</td>\n",
              "      <td>210</td>\n",
              "      <td>70</td>\n",
              "      <td>2.0</td>\n",
              "      <td>106</td>\n",
              "      <td>55</td>\n",
              "    </tr>\n",
              "    <tr>\n",
              "      <th>2014-01-02</th>\n",
              "      <td>231</td>\n",
              "      <td>重度污染</td>\n",
              "      <td>181</td>\n",
              "      <td>254</td>\n",
              "      <td>89</td>\n",
              "      <td>2.4</td>\n",
              "      <td>112</td>\n",
              "      <td>26</td>\n",
              "    </tr>\n",
              "    <tr>\n",
              "      <th>2014-01-03</th>\n",
              "      <td>224</td>\n",
              "      <td>重度污染</td>\n",
              "      <td>174</td>\n",
              "      <td>226</td>\n",
              "      <td>63</td>\n",
              "      <td>1.7</td>\n",
              "      <td>84</td>\n",
              "      <td>55</td>\n",
              "    </tr>\n",
              "    <tr>\n",
              "      <th>2014-01-04</th>\n",
              "      <td>147</td>\n",
              "      <td>轻度污染</td>\n",
              "      <td>112</td>\n",
              "      <td>184</td>\n",
              "      <td>73</td>\n",
              "      <td>1.6</td>\n",
              "      <td>87</td>\n",
              "      <td>40</td>\n",
              "    </tr>\n",
              "    <tr>\n",
              "      <th>2014-01-05</th>\n",
              "      <td>195</td>\n",
              "      <td>中度污染</td>\n",
              "      <td>147</td>\n",
              "      <td>213</td>\n",
              "      <td>89</td>\n",
              "      <td>2.2</td>\n",
              "      <td>91</td>\n",
              "      <td>53</td>\n",
              "    </tr>\n",
              "  </tbody>\n",
              "</table>\n",
              "</div>"
            ],
            "text/plain": [
              "            AQI  质量等级  PM2.5  PM10  SO2   CO  NO2  O3_8h\n",
              "date                                                    \n",
              "2014-01-01  203  重度污染    153   210   70  2.0  106     55\n",
              "2014-01-02  231  重度污染    181   254   89  2.4  112     26\n",
              "2014-01-03  224  重度污染    174   226   63  1.7   84     55\n",
              "2014-01-04  147  轻度污染    112   184   73  1.6   87     40\n",
              "2014-01-05  195  中度污染    147   213   89  2.2   91     53"
            ]
          },
          "metadata": {
            "tags": []
          },
          "execution_count": 2
        }
      ]
    },
    {
      "cell_type": "code",
      "metadata": {
        "colab_type": "code",
        "id": "SiBORTRtC_ub",
        "colab": {}
      },
      "source": [
        "from sklearn.model_selection import train_test_split\n",
        "from sklearn.preprocessing import StandardScaler\n",
        "\n",
        "X = wh_data.loc[:, ['PM2.5','PM10']]\n",
        "y = wh_data.loc[:, '质量等级']\n",
        "X_train, X_test, y_train, y_test = train_test_split(X, y, random_state=100)\n",
        "\n",
        "standardscaler = StandardScaler()\n",
        "standardscaler.fit(X_train)\n",
        "X_train_sca = standardscaler.transform(X_train)\n",
        "X_test_sca = standardscaler.transform(X_test)"
      ],
      "execution_count": 0,
      "outputs": []
    },
    {
      "cell_type": "code",
      "metadata": {
        "colab_type": "code",
        "id": "q_MCocEdREm1",
        "outputId": "eca5287d-47d7-4f5d-bb34-056f374d467b",
        "colab": {
          "base_uri": "https://localhost:8080/",
          "height": 378
        }
      },
      "source": [
        "plt.figure(figsize=(15,6))\n",
        "for label in np.unique(y):\n",
        "    plt.scatter(X_test_sca[y_test==label, 0], X_test_sca[y_test==label, 1])\n",
        "plt.show()"
      ],
      "execution_count": 4,
      "outputs": [
        {
          "output_type": "display_data",
          "data": {
            "image/png": "[encoded data removed]",
            "text/plain": [
              "<Figure size 1080x432 with 1 Axes>"
            ]
          },
          "metadata": {
            "tags": []
          }
        }
      ]
    },
    {
      "cell_type": "markdown",
      "metadata": {
        "id": "KFgT8XyEQkMP",
        "colab_type": "text"
      },
      "source": [
        "## 自定义类"
      ]
    },
    {
      "cell_type": "code",
      "metadata": {
        "id": "40Ams2FcQ1PR",
        "colab_type": "code",
        "colab": {}
      },
      "source": [
        "class myKNN():\n",
        "    def __init__(self, k=5):\n",
        "        self._X = None\n",
        "        self._y = None\n",
        "        self._k = k\n",
        "        \n",
        "    def fit(self, X_train, y_train):\n",
        "        self._X = X_train\n",
        "        self._y = y_train\n",
        "        return self\n",
        "    \n",
        "    #计算未分类样本与已知类别样本的欧式距离\n",
        "    def _distance(self, X):   \n",
        "        distances = np.empty((X.shape[0], self._X.shape[0]))\n",
        "        for i, x_new in enumerate(X):\n",
        "            for j, x_train in enumerate(self._X):\n",
        "                d = np.sqrt(np.sum((x_new - x_train)**2))\n",
        "                distances[i, j] = d\n",
        "        return distances\n",
        "    \n",
        "    #对距离进行排序，选出最近的k个实例\n",
        "    def _sort(self, X): \n",
        "        distances = self._distance(X)\n",
        "        d_sorted = np.argsort(distances, axis=1)[:, :self._k]\n",
        "        Y = []\n",
        "        for d in d_sorted:\n",
        "            y_new = self._y[d]\n",
        "            Y.append(y_new)\n",
        "        return np.array(Y)\n",
        "    \n",
        "    def predict(self, X_test):\n",
        "        from collections import Counter\n",
        "        \n",
        "        y_new = []\n",
        "        Y_knn = self._sort(X_test)\n",
        "        for y_knn in Y_knn:\n",
        "            votes = Counter(y_knn)\n",
        "            y_new.append(votes.most_common(1)[0][0])\n",
        "        return np.array(y_new)\n",
        "    \n",
        "    def score(self, X_test, y_test):\n",
        "        y_new = self.predict(X_test)\n",
        "        return np.sum(y_new==y_test) / len(y_test)"
      ],
      "execution_count": 0,
      "outputs": []
    },
    {
      "cell_type": "code",
      "metadata": {
        "id": "t9tr50CGeOZw",
        "colab_type": "code",
        "colab": {
          "base_uri": "https://localhost:8080/",
          "height": 35
        },
        "outputId": "515034fa-9f9a-4afe-ba9c-f5a82f678e7c"
      },
      "source": [
        "my_kNN = myKNN()\n",
        "my_kNN.fit(X_train_sca, y_train)\n",
        "my_kNN.score(X_test_sca, y_test)"
      ],
      "execution_count": 6,
      "outputs": [
        {
          "output_type": "execute_result",
          "data": {
            "text/plain": [
              "0.8127753303964758"
            ]
          },
          "metadata": {
            "tags": []
          },
          "execution_count": 6
        }
      ]
    },
    {
      "cell_type": "markdown",
      "metadata": {
        "colab_type": "text",
        "id": "JBOzbwTYk8DD"
      },
      "source": [
        "**调整k**"
      ]
    },
    {
      "cell_type": "code",
      "metadata": {
        "colab_type": "code",
        "id": "cBUPedUhlBN6",
        "outputId": "b47d01cb-c25f-42c9-a719-f06d2dd66cdc",
        "colab": {
          "base_uri": "https://localhost:8080/",
          "height": 35
        }
      },
      "source": [
        "best_k = 0\n",
        "best_score = 0.\n",
        "for k in range(1,20,2):\n",
        "    my_kNN = myKNN(k)\n",
        "    my_kNN.fit(X_train_sca, y_train)\n",
        "    score = my_kNN.score(X_test_sca, y_test)\n",
        "    if score > best_score:\n",
        "        best_score = score\n",
        "        best_k = k\n",
        "print(best_k, best_score)"
      ],
      "execution_count": 7,
      "outputs": [
        {
          "output_type": "stream",
          "text": [
            "17 0.8325991189427313\n"
          ],
          "name": "stdout"
        }
      ]
    },
    {
      "cell_type": "markdown",
      "metadata": {
        "id": "syRT2zt-jv77",
        "colab_type": "text"
      },
      "source": [
        "## 使用sklearn"
      ]
    },
    {
      "cell_type": "code",
      "metadata": {
        "id": "zPPPF0Eyj8A5",
        "colab_type": "code",
        "colab": {}
      },
      "source": [
        "from sklearn.model_selection import train_test_split\n",
        "# from sklearn.preprocessing import StandardScaler\n",
        "\n",
        "X = wh_data.iloc[:, 2:]\n",
        "y = wh_data.iloc[:, 1]\n",
        "X_train, X_test, y_train, y_test = train_test_split(X, y, random_state=100)"
      ],
      "execution_count": 0,
      "outputs": []
    },
    {
      "cell_type": "code",
      "metadata": {
        "id": "s_6iky6XvCAO",
        "colab_type": "code",
        "colab": {
          "base_uri": "https://localhost:8080/",
          "height": 173
        },
        "outputId": "d15d03e1-ad83-4ce3-a95a-81bcc1713286"
      },
      "source": [
        "from sklearn.pipeline import Pipeline\n",
        "from sklearn.preprocessing import StandardScaler\n",
        "from sklearn.neighbors import KNeighborsClassifier\n",
        "\n",
        "knn_clf = Pipeline([\n",
        "    ('standardscaler', StandardScaler()),\n",
        "    ('clf', KNeighborsClassifier())\n",
        "])\n",
        "\n",
        "knn_clf.fit(X_train, y_train)"
      ],
      "execution_count": 9,
      "outputs": [
        {
          "output_type": "execute_result",
          "data": {
            "text/plain": [
              "Pipeline(memory=None,\n",
              "         steps=[('standardscaler',\n",
              "                 StandardScaler(copy=True, with_mean=True, with_std=True)),\n",
              "                ('clf',\n",
              "                 KNeighborsClassifier(algorithm='auto', leaf_size=30,\n",
              "                                      metric='minkowski', metric_params=None,\n",
              "                                      n_jobs=None, n_neighbors=5, p=2,\n",
              "                                      weights='uniform'))],\n",
              "         verbose=False)"
            ]
          },
          "metadata": {
            "tags": []
          },
          "execution_count": 9
        }
      ]
    },
    {
      "cell_type": "code",
      "metadata": {
        "colab_type": "code",
        "outputId": "d78e2c8f-7ac9-438a-8b94-907096f9d182",
        "id": "etY8B0wmRygF",
        "colab": {
          "base_uri": "https://localhost:8080/",
          "height": 35
        }
      },
      "source": [
        "knn_clf.score(X_test, y_test)"
      ],
      "execution_count": 10,
      "outputs": [
        {
          "output_type": "execute_result",
          "data": {
            "text/plain": [
              "0.8480176211453745"
            ]
          },
          "metadata": {
            "tags": []
          },
          "execution_count": 10
        }
      ]
    },
    {
      "cell_type": "markdown",
      "metadata": {
        "colab_type": "text",
        "id": "bVNS5Fs8C_vH"
      },
      "source": [
        "**网格搜索**"
      ]
    },
    {
      "cell_type": "code",
      "metadata": {
        "colab_type": "code",
        "id": "ozhUdcsNC_vK",
        "colab": {}
      },
      "source": [
        "from sklearn.model_selection import GridSearchCV\n",
        "from sklearn.pipeline import make_pipeline\n",
        "\n",
        "pipeline = make_pipeline(StandardScaler(), KNeighborsClassifier())\n",
        "\n",
        "param_grid = [\n",
        "    {\n",
        "        'kneighborsclassifier__weights': ['uniform', 'distance'], \n",
        "        'kneighborsclassifier__n_neighbors': [i for i in range(1, 20, 2)],\n",
        "        'kneighborsclassifier__p': [i for i in range(1, 11)]\n",
        "    }\n",
        "]\n",
        "\n",
        "grid_search = GridSearchCV(pipeline, param_grid, cv=10, n_jobs=-1)"
      ],
      "execution_count": 0,
      "outputs": []
    },
    {
      "cell_type": "code",
      "metadata": {
        "colab_type": "code",
        "id": "C6kI9vvyC_vO",
        "outputId": "67488297-7e32-4a1d-9597-6b3bd216e238",
        "colab": {
          "base_uri": "https://localhost:8080/",
          "height": 538
        }
      },
      "source": [
        "grid_search.fit(X_train, y_train)"
      ],
      "execution_count": 12,
      "outputs": [
        {
          "output_type": "stream",
          "text": [
            "/usr/local/lib/python3.6/dist-packages/sklearn/model_selection/_split.py:657: Warning: The least populated class in y has only 3 members, which is too few. The minimum number of members in any class cannot be less than n_splits=10.\n",
            "  % (min_groups, self.n_splits)), Warning)\n",
            "/usr/local/lib/python3.6/dist-packages/sklearn/model_selection/_search.py:814: DeprecationWarning: The default of the `iid` parameter will change from True to False in version 0.22 and will be removed in 0.24. This will change numeric results when test-set sizes are unequal.\n",
            "  DeprecationWarning)\n"
          ],
          "name": "stderr"
        },
        {
          "output_type": "execute_result",
          "data": {
            "text/plain": [
              "GridSearchCV(cv=10, error_score='raise-deprecating',\n",
              "             estimator=Pipeline(memory=None,\n",
              "                                steps=[('standardscaler',\n",
              "                                        StandardScaler(copy=True,\n",
              "                                                       with_mean=True,\n",
              "                                                       with_std=True)),\n",
              "                                       ('kneighborsclassifier',\n",
              "                                        KNeighborsClassifier(algorithm='auto',\n",
              "                                                             leaf_size=30,\n",
              "                                                             metric='minkowski',\n",
              "                                                             metric_params=None,\n",
              "                                                             n_jobs=None,\n",
              "                                                             n_neighbors=5, p=2,\n",
              "                                                             weights='uniform'))],\n",
              "                                verbose=False),\n",
              "             iid='warn', n_jobs=-1,\n",
              "             param_grid=[{'kneighborsclassifier__n_neighbors': [1, 3, 5, 7, 9,\n",
              "                                                                11, 13, 15, 17,\n",
              "                                                                19],\n",
              "                          'kneighborsclassifier__p': [1, 2, 3, 4, 5, 6, 7, 8, 9,\n",
              "                                                      10],\n",
              "                          'kneighborsclassifier__weights': ['uniform',\n",
              "                                                            'distance']}],\n",
              "             pre_dispatch='2*n_jobs', refit=True, return_train_score=False,\n",
              "             scoring=None, verbose=0)"
            ]
          },
          "metadata": {
            "tags": []
          },
          "execution_count": 12
        }
      ]
    },
    {
      "cell_type": "code",
      "metadata": {
        "colab_type": "code",
        "id": "CGkGPeSbC_vV",
        "outputId": "1eec68f2-004b-453e-eb0e-614f23ebc4cb",
        "colab": {
          "base_uri": "https://localhost:8080/",
          "height": 69
        }
      },
      "source": [
        "grid_search.best_params_"
      ],
      "execution_count": 13,
      "outputs": [
        {
          "output_type": "execute_result",
          "data": {
            "text/plain": [
              "{'kneighborsclassifier__n_neighbors': 5,\n",
              " 'kneighborsclassifier__p': 1,\n",
              " 'kneighborsclassifier__weights': 'distance'}"
            ]
          },
          "metadata": {
            "tags": []
          },
          "execution_count": 13
        }
      ]
    },
    {
      "cell_type": "code",
      "metadata": {
        "colab_type": "code",
        "id": "nspCXC4feqM8",
        "outputId": "e3281695-7846-4a80-908f-ed8b4ee68172",
        "colab": {
          "base_uri": "https://localhost:8080/",
          "height": 35
        }
      },
      "source": [
        "knn_clf = grid_search.best_estimator_\n",
        "knn_clf.fit(X_train, y_train)\n",
        "knn_clf.score(X_test, y_test)"
      ],
      "execution_count": 14,
      "outputs": [
        {
          "output_type": "execute_result",
          "data": {
            "text/plain": [
              "0.8568281938325991"
            ]
          },
          "metadata": {
            "tags": []
          },
          "execution_count": 14
        }
      ]
    }
  ]
}