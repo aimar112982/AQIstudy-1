{
  "nbformat": 4,
  "nbformat_minor": 0,
  "metadata": {
    "colab": {
      "name": "PLAforAQI.ipynb",
      "version": "0.3.2",
      "provenance": [],
      "collapsed_sections": []
    },
    "kernelspec": {
      "name": "python3",
      "display_name": "Python 3"
    },
    "accelerator": "TPU"
  },
  "cells": [
    {
      "cell_type": "markdown",
      "metadata": {
        "id": "e0zXvrjKOM5h",
        "colab_type": "text"
      },
      "source": [
        "# 感知机\n",
        "\n",
        "参考：[《统计学习方法》读书笔记——感知机](https://www.cnblogs.com/OldPanda/archive/2013/04/12/3017100.html)\n",
        "\n",
        "思想：错误驱动\n",
        "\n",
        "模型：$f(x)=sign(w^Tx+b)$\n",
        "\n",
        "目标函数：$min-\\sum_{x\\in M}y^{(i)}(w^Tx^{(i)}+b)$\n",
        "\n",
        "优化：$w^*:=w+\\eta y^{(i)}x^{(i)} \\\\\n",
        "b^*:=b+\\eta y^{(i)}$\n",
        "\n",
        "对偶形式：假设对于误分类点$(x^{(i)}, y^{(i)})$更新参数的次数为n_i次，则$w$关于$(x^{(i)}, y^{(i)})$的增量为$n_i\\eta y^{(i)}x^{(i)}$。\n",
        "\n",
        "令$n_i\\eta =\\alpha_i$\n",
        "\n",
        "则$w=\\sum_{i=1}^m\\alpha_iy^{(i)}x^{(i)}$\n",
        "\n",
        "模型：$sign(\\sum_{j=1}^m\\alpha_jy^{(j)}x^{(j)}x^{(i)}+b)$\n",
        "\n",
        "算法：$1.初始化\\alpha\\leftarrow 0, b\\leftarrow 0\\\\\n",
        "2.选取样本点(x^{(i)}, y^{(i)})，如果y^{(i)}(\\sum_{j=1}^m\\alpha_j y^{(j)}x^{(j)}x^{(i)}+b)<=0\\\\\n",
        "3.更新\\alpha:= \\alpha+\\eta, b:= b+\\eta y^{(i)}\\\\\n",
        "4.返回第2步，直至所有样本点分类正确。$"
      ]
    },
    {
      "cell_type": "markdown",
      "metadata": {
        "id": "Nx54NSaIvh_V",
        "colab_type": "text"
      },
      "source": [
        "## 自定义类"
      ]
    },
    {
      "cell_type": "code",
      "metadata": {
        "id": "iU49UQZ1OXLC",
        "colab_type": "code",
        "colab": {}
      },
      "source": [
        "import pandas as pd\n",
        "import numpy as np\n",
        "import matplotlib.pyplot as plt\n",
        "%matplotlib inline"
      ],
      "execution_count": 0,
      "outputs": []
    },
    {
      "cell_type": "code",
      "metadata": {
        "id": "6p9dCh90Sbpn",
        "colab_type": "code",
        "outputId": "76b51cb4-ce21-49ab-e0b5-1bb6954d4d55",
        "colab": {
          "base_uri": "https://localhost:8080/",
          "height": 228
        }
      },
      "source": [
        "wh_data = pd.read_csv('武汉.csv', index_col='date', encoding='utf-8', engine='python')\n",
        "wh_data.drop(wh_data[wh_data['质量等级']=='无'].index, inplace=True)\n",
        "wh_data.head()"
      ],
      "execution_count": 2,
      "outputs": [
        {
          "output_type": "execute_result",
          "data": {
            "text/html": [
              "<div>\n",
              "<style scoped>\n",
              "    .dataframe tbody tr th:only-of-type {\n",
              "        vertical-align: middle;\n",
              "    }\n",
              "\n",
              "    .dataframe tbody tr th {\n",
              "        vertical-align: top;\n",
              "    }\n",
              "\n",
              "    .dataframe thead th {\n",
              "        text-align: right;\n",
              "    }\n",
              "</style>\n",
              "<table border=\"1\" class=\"dataframe\">\n",
              "  <thead>\n",
              "    <tr style=\"text-align: right;\">\n",
              "      <th></th>\n",
              "      <th>AQI</th>\n",
              "      <th>质量等级</th>\n",
              "      <th>PM2.5</th>\n",
              "      <th>PM10</th>\n",
              "      <th>SO2</th>\n",
              "      <th>CO</th>\n",
              "      <th>NO2</th>\n",
              "      <th>O3_8h</th>\n",
              "    </tr>\n",
              "    <tr>\n",
              "      <th>date</th>\n",
              "      <th></th>\n",
              "      <th></th>\n",
              "      <th></th>\n",
              "      <th></th>\n",
              "      <th></th>\n",
              "      <th></th>\n",
              "      <th></th>\n",
              "      <th></th>\n",
              "    </tr>\n",
              "  </thead>\n",
              "  <tbody>\n",
              "    <tr>\n",
              "      <th>2014-01-01</th>\n",
              "      <td>203</td>\n",
              "      <td>重度污染</td>\n",
              "      <td>153</td>\n",
              "      <td>210</td>\n",
              "      <td>70</td>\n",
              "      <td>2.0</td>\n",
              "      <td>106</td>\n",
              "      <td>55</td>\n",
              "    </tr>\n",
              "    <tr>\n",
              "      <th>2014-01-02</th>\n",
              "      <td>231</td>\n",
              "      <td>重度污染</td>\n",
              "      <td>181</td>\n",
              "      <td>254</td>\n",
              "      <td>89</td>\n",
              "      <td>2.4</td>\n",
              "      <td>112</td>\n",
              "      <td>26</td>\n",
              "    </tr>\n",
              "    <tr>\n",
              "      <th>2014-01-03</th>\n",
              "      <td>224</td>\n",
              "      <td>重度污染</td>\n",
              "      <td>174</td>\n",
              "      <td>226</td>\n",
              "      <td>63</td>\n",
              "      <td>1.7</td>\n",
              "      <td>84</td>\n",
              "      <td>55</td>\n",
              "    </tr>\n",
              "    <tr>\n",
              "      <th>2014-01-04</th>\n",
              "      <td>147</td>\n",
              "      <td>轻度污染</td>\n",
              "      <td>112</td>\n",
              "      <td>184</td>\n",
              "      <td>73</td>\n",
              "      <td>1.6</td>\n",
              "      <td>87</td>\n",
              "      <td>40</td>\n",
              "    </tr>\n",
              "    <tr>\n",
              "      <th>2014-01-05</th>\n",
              "      <td>195</td>\n",
              "      <td>中度污染</td>\n",
              "      <td>147</td>\n",
              "      <td>213</td>\n",
              "      <td>89</td>\n",
              "      <td>2.2</td>\n",
              "      <td>91</td>\n",
              "      <td>53</td>\n",
              "    </tr>\n",
              "  </tbody>\n",
              "</table>\n",
              "</div>"
            ],
            "text/plain": [
              "            AQI  质量等级  PM2.5  PM10  SO2   CO  NO2  O3_8h\n",
              "date                                                    \n",
              "2014-01-01  203  重度污染    153   210   70  2.0  106     55\n",
              "2014-01-02  231  重度污染    181   254   89  2.4  112     26\n",
              "2014-01-03  224  重度污染    174   226   63  1.7   84     55\n",
              "2014-01-04  147  轻度污染    112   184   73  1.6   87     40\n",
              "2014-01-05  195  中度污染    147   213   89  2.2   91     53"
            ]
          },
          "metadata": {
            "tags": []
          },
          "execution_count": 2
        }
      ]
    },
    {
      "cell_type": "code",
      "metadata": {
        "id": "1TCe-ZuqSdjf",
        "colab_type": "code",
        "colab": {}
      },
      "source": [
        "def get_grade(aqi):\n",
        "    if aqi == 29:\n",
        "        return 1\n",
        "    elif aqi == 51:\n",
        "        return -1"
      ],
      "execution_count": 0,
      "outputs": []
    },
    {
      "cell_type": "code",
      "metadata": {
        "id": "ce06d0WRSian",
        "colab_type": "code",
        "outputId": "37ed633e-1642-4cee-99ef-13ddace9ea7d",
        "colab": {
          "base_uri": "https://localhost:8080/",
          "height": 86
        }
      },
      "source": [
        "wh_data['GRADE'] = wh_data.AQI.apply(get_grade)\n",
        "wh_data.dropna(inplace=True)\n",
        "wh_data.groupby('GRADE').count().AQI"
      ],
      "execution_count": 4,
      "outputs": [
        {
          "output_type": "execute_result",
          "data": {
            "text/plain": [
              "GRADE\n",
              "-1.0    7\n",
              " 1.0    5\n",
              "Name: AQI, dtype: int64"
            ]
          },
          "metadata": {
            "tags": []
          },
          "execution_count": 4
        }
      ]
    },
    {
      "cell_type": "code",
      "metadata": {
        "id": "fs7_L8M9sB5l",
        "colab_type": "code",
        "colab": {}
      },
      "source": [
        "X = wh_data.iloc[:, 2:4]\n",
        "y = wh_data.iloc[:, -1]"
      ],
      "execution_count": 0,
      "outputs": []
    },
    {
      "cell_type": "code",
      "metadata": {
        "id": "hNYlN-WmSjst",
        "colab_type": "code",
        "colab": {}
      },
      "source": [
        "from sklearn.preprocessing import StandardScaler\n",
        "\n",
        "standardscaler = StandardScaler()\n",
        "standardscaler.fit(X)\n",
        "X_sca = standardscaler.transform(X)"
      ],
      "execution_count": 0,
      "outputs": []
    },
    {
      "cell_type": "code",
      "metadata": {
        "id": "nbT_Ef9WwKVA",
        "colab_type": "code",
        "outputId": "717de6b7-870f-48ab-d671-ccaa470c9d9b",
        "colab": {
          "base_uri": "https://localhost:8080/",
          "height": 324
        }
      },
      "source": [
        "plt.figure(figsize=(10,5))\n",
        "plt.scatter(X_sca[y==1,0], X_sca[y==1,1])\n",
        "plt.scatter(X_sca[y==-1,0], X_sca[y==-1,1]) \n",
        "plt.show()"
      ],
      "execution_count": 7,
      "outputs": [
        {
          "output_type": "display_data",
          "data": {
            "image/png": "[encoded data removed]",
            "text/plain": [
              "<Figure size 720x360 with 1 Axes>"
            ]
          },
          "metadata": {
            "tags": []
          }
        }
      ]
    },
    {
      "cell_type": "code",
      "metadata": {
        "id": "4G8bP_7zxtok",
        "colab_type": "code",
        "colab": {}
      },
      "source": [
        "class myPLA():\n",
        "    def __init__(self, eta=1.0, max_iter=1000):\n",
        "        self._X = None\n",
        "        self._y = None\n",
        "        self._w = None\n",
        "        self._b = None\n",
        "        self._eta = eta\n",
        "        self._iter = max_iter\n",
        "        \n",
        "    def _check(self):\n",
        "        flag = False\n",
        "        for x_i, y_i in zip(self._X, self._y):\n",
        "            if y_i * self._w @ x_i + self._b <= 0:\n",
        "                flag = True\n",
        "                break\n",
        "        return x_i, y_i, flag\n",
        "    \n",
        "    def fit(self, X, y):\n",
        "        self._X = X\n",
        "        self._y = y\n",
        "        self._w = np.zeros(self._X.shape[1])\n",
        "        self._b = 0\n",
        "        for i in range(self._iter):\n",
        "            x_i, y_i, flag = self._check()\n",
        "            if not flag:\n",
        "                return self\n",
        "            else:\n",
        "                self._w = self._w + self._eta * y_i * x_i\n",
        "                self._b = self._b + self._eta * y_i\n",
        "                return self\n",
        "        \n",
        "    def predict(self, X_new):\n",
        "        threshold = X_new @ self._w + self._b\n",
        "        return np.array(threshold > 0, dtype=np.int64) - np.array(threshold <= 0, dtype=np.int64)\n",
        "    \n",
        "    def score(self, X, y):\n",
        "        y_new = self.predict(X)\n",
        "        return np.sum(y_new==y) / len(y)"
      ],
      "execution_count": 0,
      "outputs": []
    },
    {
      "cell_type": "code",
      "metadata": {
        "id": "mlv3hEj2_6Qm",
        "colab_type": "code",
        "outputId": "b95234c0-12ac-4619-c759-977a68f15a14",
        "colab": {
          "base_uri": "https://localhost:8080/",
          "height": 35
        }
      },
      "source": [
        "my_PLA = myPLA()\n",
        "my_PLA.fit(X_sca, y)\n",
        "my_PLA.score(X_sca, y)"
      ],
      "execution_count": 9,
      "outputs": [
        {
          "output_type": "execute_result",
          "data": {
            "text/plain": [
              "1.0"
            ]
          },
          "metadata": {
            "tags": []
          },
          "execution_count": 9
        }
      ]
    },
    {
      "cell_type": "code",
      "metadata": {
        "id": "qPuhbqBcvL-4",
        "colab_type": "code",
        "colab": {}
      },
      "source": [
        "def plot_decision_boundary(model, axis):\n",
        "    X0, X1 = np.meshgrid(\n",
        "        np.linspace(axis[0], axis[1], int(axis[1]-axis[0])*1000).reshape(-1, 1),\n",
        "        np.linspace(axis[2], axis[3], int(axis[3]-axis[2])*1000).reshape(-1, 1),\n",
        "    )\n",
        "    X = np.c_[X0.ravel(), X1.ravel()]\n",
        "    Y = model.predict(X).reshape(X0.shape)\n",
        "        \n",
        "    plt.contourf(X0, X1, Y)"
      ],
      "execution_count": 0,
      "outputs": []
    },
    {
      "cell_type": "code",
      "metadata": {
        "id": "tg6IlGjAvPst",
        "colab_type": "code",
        "outputId": "a86a150e-a12e-4be1-fcc2-cf148d8af196",
        "colab": {
          "base_uri": "https://localhost:8080/",
          "height": 324
        }
      },
      "source": [
        "plt.figure(figsize=(10,5))\n",
        "plot_decision_boundary(my_PLA, axis=[np.min(X_sca[:,0]),np.max(X_sca[:,0]), np.min(X_sca[:,1]),np.max(X_sca[:,1])])\n",
        "plt.scatter(X_sca[y==1,0], X_sca[y==1,1])\n",
        "plt.scatter(X_sca[y==-1,0], X_sca[y==-1,1]) \n",
        "plt.show()"
      ],
      "execution_count": 11,
      "outputs": [
        {
          "output_type": "display_data",
          "data": {
            "image/png": "[encoded data removed]",
            "text/plain": [
              "<Figure size 720x360 with 1 Axes>"
            ]
          },
          "metadata": {
            "tags": []
          }
        }
      ]
    },
    {
      "cell_type": "markdown",
      "metadata": {
        "id": "B11IeHNovmYa",
        "colab_type": "text"
      },
      "source": [
        "## 使用sklearn"
      ]
    },
    {
      "cell_type": "code",
      "metadata": {
        "id": "5gCeT5BLvuN1",
        "colab_type": "code",
        "colab": {}
      },
      "source": [
        "import pandas as pd\n",
        "import numpy as np\n",
        "import matplotlib.pyplot as plt\n",
        "%matplotlib inline"
      ],
      "execution_count": 0,
      "outputs": []
    },
    {
      "cell_type": "code",
      "metadata": {
        "id": "Ua-_gT2Q5ndq",
        "colab_type": "code",
        "colab": {}
      },
      "source": [
        "def get_grade(aqi):\n",
        "    if aqi <= 100:\n",
        "        return 1\n",
        "    else:\n",
        "        return -1"
      ],
      "execution_count": 0,
      "outputs": []
    },
    {
      "cell_type": "code",
      "metadata": {
        "id": "vZ-a7RayvwR9",
        "colab_type": "code",
        "outputId": "1a93690a-8244-4021-96af-bf32840060f7",
        "colab": {
          "base_uri": "https://localhost:8080/",
          "height": 86
        }
      },
      "source": [
        "wh_data = pd.read_csv('武汉.csv', index_col='date', encoding='utf-8', engine='python')\n",
        "wh_data.drop(wh_data[wh_data['质量等级']=='无'].index, inplace=True)\n",
        "wh_data['GRADE'] = wh_data.AQI.apply(get_grade)\n",
        "wh_data.groupby('GRADE').count().AQI"
      ],
      "execution_count": 14,
      "outputs": [
        {
          "output_type": "execute_result",
          "data": {
            "text/plain": [
              "GRADE\n",
              "-1     689\n",
              " 1    1125\n",
              "Name: AQI, dtype: int64"
            ]
          },
          "metadata": {
            "tags": []
          },
          "execution_count": 14
        }
      ]
    },
    {
      "cell_type": "code",
      "metadata": {
        "id": "G7yA62QMvzKM",
        "colab_type": "code",
        "colab": {}
      },
      "source": [
        "from sklearn.model_selection import train_test_split\n",
        "from sklearn.preprocessing import StandardScaler\n",
        "\n",
        "X = wh_data.iloc[:, 2:-1]\n",
        "y = wh_data.iloc[:, -1]\n",
        "\n",
        "X_train, X_test, y_train, y_test = train_test_split(X, y, random_state=100)\n",
        "\n",
        "standardscaler = StandardScaler()\n",
        "standardscaler.fit(X_train)\n",
        "X_train_sca = standardscaler.transform(X_train)\n",
        "X_test_sca = standardscaler.transform(X_test)"
      ],
      "execution_count": 0,
      "outputs": []
    },
    {
      "cell_type": "code",
      "metadata": {
        "id": "YXsUHQanSu0W",
        "colab_type": "code",
        "outputId": "4ed1a53c-1b41-4446-9233-8ebc7749fd65",
        "colab": {
          "base_uri": "https://localhost:8080/",
          "height": 86
        }
      },
      "source": [
        "from sklearn.linear_model import Perceptron\n",
        "\n",
        "PLA = Perceptron(random_state=100)\n",
        "PLA.fit(X_train_sca, y_train)"
      ],
      "execution_count": 16,
      "outputs": [
        {
          "output_type": "execute_result",
          "data": {
            "text/plain": [
              "Perceptron(alpha=0.0001, class_weight=None, early_stopping=False, eta0=1.0,\n",
              "           fit_intercept=True, max_iter=1000, n_iter_no_change=5, n_jobs=None,\n",
              "           penalty=None, random_state=100, shuffle=True, tol=0.001,\n",
              "           validation_fraction=0.1, verbose=0, warm_start=False)"
            ]
          },
          "metadata": {
            "tags": []
          },
          "execution_count": 16
        }
      ]
    },
    {
      "cell_type": "code",
      "metadata": {
        "id": "wBmKxzXAVwR_",
        "colab_type": "code",
        "outputId": "23877602-a626-401e-ff89-23cff4d9d125",
        "colab": {
          "base_uri": "https://localhost:8080/",
          "height": 35
        }
      },
      "source": [
        "PLA.score(X_test_sca, y_test)"
      ],
      "execution_count": 17,
      "outputs": [
        {
          "output_type": "execute_result",
          "data": {
            "text/plain": [
              "0.8700440528634361"
            ]
          },
          "metadata": {
            "tags": []
          },
          "execution_count": 17
        }
      ]
    }
  ]
}