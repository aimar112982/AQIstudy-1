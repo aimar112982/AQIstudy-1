{
  "nbformat": 4,
  "nbformat_minor": 0,
  "metadata": {
    "colab": {
      "name": "Classification.ipynb",
      "version": "0.3.2",
      "provenance": [],
      "collapsed_sections": [],
      "include_colab_link": true
    },
    "kernelspec": {
      "name": "python3",
      "display_name": "Python 3"
    },
    "accelerator": "GPU"
  },
  "cells": [
    {
      "cell_type": "markdown",
      "metadata": {
        "id": "view-in-github",
        "colab_type": "text"
      },
      "source": [
        "<a href=\"https://colab.research.google.com/github/qinyunkone/AQIstudy/blob/master/Classification.ipynb\" target=\"_parent\"><img src=\"https://colab.research.google.com/assets/colab-badge.svg\" alt=\"Open In Colab\"/></a>"
      ]
    },
    {
      "cell_type": "code",
      "metadata": {
        "id": "zNLsq_ZCTJuA",
        "colab_type": "code",
        "colab": {}
      },
      "source": [
        "# 数据分析模块\n",
        "import pandas as pd\n",
        "import numpy as np\n",
        "\n",
        "# 预处理模块\n",
        "from sklearn.pipeline import make_pipeline\n",
        "from sklearn.preprocessing import StandardScaler\n",
        "\n",
        "# 模型选择模块\n",
        "from sklearn.model_selection import train_test_split, GridSearchCV\n",
        "\n",
        "# 机器学习模块\n",
        "from sklearn.neighbors import KNeighborsClassifier\n",
        "from sklearn.linear_model import LogisticRegression\n",
        "from sklearn.svm import SVC\n",
        "from sklearn.tree import DecisionTreeClassifier\n",
        "from sklearn.ensemble import RandomForestClassifier\n",
        "from xgboost import XGBClassifier\n",
        "\n",
        "# 模型评级模块\n",
        "from sklearn.metrics import roc_curve, roc_auc_score, auc\n",
        "\n",
        "# 其他模块\n",
        "import os\n",
        "import warnings\n",
        "warnings.filterwarnings('ignore')"
      ],
      "execution_count": 0,
      "outputs": []
    },
    {
      "cell_type": "code",
      "metadata": {
        "id": "qonNb2qpT8Pa",
        "colab_type": "code",
        "colab": {}
      },
      "source": [
        "# 合并数据表\n",
        "data = pd.DataFrame()\n",
        "path = r'/content/drive/My Drive/Colab Notebooks/AQI_maincity'\n",
        "for filename in os.listdir(path):\n",
        "    dirname = os.path.join(path, filename)  # 路径\n",
        "    with open(dirname, 'rb') as f:\n",
        "        df = pd.read_csv(f, encoding='utf-8')\n",
        "    data = pd.concat([data, df], ignore_index=True)"
      ],
      "execution_count": 0,
      "outputs": []
    },
    {
      "cell_type": "code",
      "metadata": {
        "id": "KH_Gn_Rj27kc",
        "colab_type": "code",
        "outputId": "c9c37f0f-400b-402b-8730-f13719e6dda7",
        "colab": {
          "base_uri": "https://localhost:8080/",
          "height": 287
        }
      },
      "source": [
        "# 处理缺失值\n",
        "print('存在缺失值的行数：', data[data['质量等级']=='无'].shape[0])\n",
        "data.drop(data[data['质量等级']=='无'].index, inplace=True)\n",
        "data.info()"
      ],
      "execution_count": 0,
      "outputs": [
        {
          "output_type": "stream",
          "text": [
            "存在缺失值的行数： 286\n",
            "<class 'pandas.core.frame.DataFrame'>\n",
            "Int64Index: 54465 entries, 0 to 54750\n",
            "Data columns (total 9 columns):\n",
            "date     54465 non-null object\n",
            "AQI      54465 non-null int64\n",
            "质量等级     54465 non-null object\n",
            "PM2.5    54465 non-null int64\n",
            "PM10     54465 non-null int64\n",
            "SO2      54465 non-null int64\n",
            "CO       54465 non-null float64\n",
            "NO2      54465 non-null int64\n",
            "O3_8h    54465 non-null int64\n",
            "dtypes: float64(1), int64(6), object(2)\n",
            "memory usage: 4.2+ MB\n"
          ],
          "name": "stdout"
        }
      ]
    },
    {
      "cell_type": "code",
      "metadata": {
        "id": "uCNnsqHy6OHF",
        "colab_type": "code",
        "colab": {}
      },
      "source": [
        "# 保存文件\n",
        "data.to_csv('aqi.csv', encoding='utf-8', index=False)"
      ],
      "execution_count": 0,
      "outputs": []
    },
    {
      "cell_type": "code",
      "metadata": {
        "id": "hpxq9oar7NqC",
        "colab_type": "code",
        "outputId": "581c89d7-14c2-44c4-f6ac-b81fd144e37e",
        "colab": {
          "base_uri": "https://localhost:8080/",
          "height": 276
        }
      },
      "source": [
        "data = pd.read_csv('aqi.csv', encoding='utf-8')\n",
        "def get_grade(aqi):\n",
        "    if aqi <= 100:\n",
        "        return 1\n",
        "    else:\n",
        "        return 0\n",
        "data['GRADE'] = data.AQI.apply(get_grade)\n",
        "print(data.groupby(by='GRADE').size())\n",
        "data.head()"
      ],
      "execution_count": 0,
      "outputs": [
        {
          "output_type": "stream",
          "text": [
            "GRADE\n",
            "0    15408\n",
            "1    39057\n",
            "dtype: int64\n"
          ],
          "name": "stdout"
        },
        {
          "output_type": "execute_result",
          "data": {
            "text/html": [
              "<div>\n",
              "<style scoped>\n",
              "    .dataframe tbody tr th:only-of-type {\n",
              "        vertical-align: middle;\n",
              "    }\n",
              "\n",
              "    .dataframe tbody tr th {\n",
              "        vertical-align: top;\n",
              "    }\n",
              "\n",
              "    .dataframe thead th {\n",
              "        text-align: right;\n",
              "    }\n",
              "</style>\n",
              "<table border=\"1\" class=\"dataframe\">\n",
              "  <thead>\n",
              "    <tr style=\"text-align: right;\">\n",
              "      <th></th>\n",
              "      <th>Unnamed: 0</th>\n",
              "      <th>date</th>\n",
              "      <th>AQI</th>\n",
              "      <th>质量等级</th>\n",
              "      <th>PM2.5</th>\n",
              "      <th>PM10</th>\n",
              "      <th>SO2</th>\n",
              "      <th>CO</th>\n",
              "      <th>NO2</th>\n",
              "      <th>O3_8h</th>\n",
              "      <th>GRADE</th>\n",
              "    </tr>\n",
              "  </thead>\n",
              "  <tbody>\n",
              "    <tr>\n",
              "      <th>0</th>\n",
              "      <td>0</td>\n",
              "      <td>2014-01-01</td>\n",
              "      <td>195</td>\n",
              "      <td>中度污染</td>\n",
              "      <td>147</td>\n",
              "      <td>181</td>\n",
              "      <td>63</td>\n",
              "      <td>1.7</td>\n",
              "      <td>99</td>\n",
              "      <td>61</td>\n",
              "      <td>0</td>\n",
              "    </tr>\n",
              "    <tr>\n",
              "      <th>1</th>\n",
              "      <td>1</td>\n",
              "      <td>2014-01-02</td>\n",
              "      <td>147</td>\n",
              "      <td>轻度污染</td>\n",
              "      <td>113</td>\n",
              "      <td>131</td>\n",
              "      <td>37</td>\n",
              "      <td>1.6</td>\n",
              "      <td>95</td>\n",
              "      <td>60</td>\n",
              "      <td>0</td>\n",
              "    </tr>\n",
              "    <tr>\n",
              "      <th>2</th>\n",
              "      <td>2</td>\n",
              "      <td>2014-01-03</td>\n",
              "      <td>189</td>\n",
              "      <td>中度污染</td>\n",
              "      <td>142</td>\n",
              "      <td>163</td>\n",
              "      <td>56</td>\n",
              "      <td>1.4</td>\n",
              "      <td>96</td>\n",
              "      <td>45</td>\n",
              "      <td>0</td>\n",
              "    </tr>\n",
              "    <tr>\n",
              "      <th>3</th>\n",
              "      <td>3</td>\n",
              "      <td>2014-01-04</td>\n",
              "      <td>151</td>\n",
              "      <td>中度污染</td>\n",
              "      <td>115</td>\n",
              "      <td>125</td>\n",
              "      <td>36</td>\n",
              "      <td>1.2</td>\n",
              "      <td>64</td>\n",
              "      <td>38</td>\n",
              "      <td>0</td>\n",
              "    </tr>\n",
              "    <tr>\n",
              "      <th>4</th>\n",
              "      <td>4</td>\n",
              "      <td>2014-01-05</td>\n",
              "      <td>65</td>\n",
              "      <td>良</td>\n",
              "      <td>47</td>\n",
              "      <td>60</td>\n",
              "      <td>25</td>\n",
              "      <td>1.0</td>\n",
              "      <td>63</td>\n",
              "      <td>31</td>\n",
              "      <td>1</td>\n",
              "    </tr>\n",
              "  </tbody>\n",
              "</table>\n",
              "</div>"
            ],
            "text/plain": [
              "   Unnamed: 0        date  AQI  质量等级  PM2.5  PM10  SO2   CO  NO2  O3_8h  GRADE\n",
              "0           0  2014-01-01  195  中度污染    147   181   63  1.7   99     61      0\n",
              "1           1  2014-01-02  147  轻度污染    113   131   37  1.6   95     60      0\n",
              "2           2  2014-01-03  189  中度污染    142   163   56  1.4   96     45      0\n",
              "3           3  2014-01-04  151  中度污染    115   125   36  1.2   64     38      0\n",
              "4           4  2014-01-05   65     良     47    60   25  1.0   63     31      1"
            ]
          },
          "metadata": {
            "tags": []
          },
          "execution_count": 4
        }
      ]
    },
    {
      "cell_type": "code",
      "metadata": {
        "id": "uvdyMqzP7swW",
        "colab_type": "code",
        "colab": {}
      },
      "source": [
        "# 划分测试集\n",
        "\n",
        "X, y = data.iloc[:, 4:-1], data.iloc[:, -1]\n",
        "X_train, X_test, y_train, y_test = train_test_split(X, y, random_state=100)"
      ],
      "execution_count": 0,
      "outputs": []
    },
    {
      "cell_type": "markdown",
      "metadata": {
        "id": "O8zdMGVy-Nq9",
        "colab_type": "text"
      },
      "source": [
        "# kNN"
      ]
    },
    {
      "cell_type": "code",
      "metadata": {
        "id": "usmPUaDl9Jx0",
        "colab_type": "code",
        "outputId": "585520c4-62b5-4936-8055-67fc50c42d31",
        "colab": {
          "base_uri": "https://localhost:8080/",
          "height": 35
        }
      },
      "source": [
        "pipeline = make_pipeline(StandardScaler(), KNeighborsClassifier())\n",
        "\n",
        "param = [\n",
        "    {\n",
        "        'kneighborsclassifier__n_neighbors': range(1, 10, 2),\n",
        "    }\n",
        "]\n",
        "\n",
        "grid = GridSearchCV(pipeline, param, n_jobs=-1)\n",
        "grid.fit(X_train, y_train)\n",
        "print(grid.best_params_)"
      ],
      "execution_count": 0,
      "outputs": [
        {
          "output_type": "stream",
          "text": [
            "{'kneighborsclassifier__n_neighbors': 9}\n"
          ],
          "name": "stdout"
        }
      ]
    },
    {
      "cell_type": "code",
      "metadata": {
        "id": "wFRYcIK79Tvb",
        "colab_type": "code",
        "outputId": "38baf000-e05b-432d-b37c-381d6183efd3",
        "colab": {
          "base_uri": "https://localhost:8080/",
          "height": 35
        }
      },
      "source": [
        "knn = grid.best_estimator_\n",
        "knn.fit(X_train, y_train)\n",
        "knn.score(X_test, y_test)"
      ],
      "execution_count": 0,
      "outputs": [
        {
          "output_type": "execute_result",
          "data": {
            "text/plain": [
              "0.9746640229125358"
            ]
          },
          "metadata": {
            "tags": []
          },
          "execution_count": 11
        }
      ]
    },
    {
      "cell_type": "markdown",
      "metadata": {
        "id": "2-YKmfxC-LCd",
        "colab_type": "text"
      },
      "source": [
        "# 逻辑回归"
      ]
    },
    {
      "cell_type": "code",
      "metadata": {
        "id": "5t0Kf-Id-YPe",
        "colab_type": "code",
        "outputId": "83a5ed20-a24b-439c-d3fa-86a88bf51875",
        "colab": {
          "base_uri": "https://localhost:8080/",
          "height": 35
        }
      },
      "source": [
        "pipeline = make_pipeline(StandardScaler(), LogisticRegression())\n",
        "\n",
        "param = [\n",
        "    {\n",
        "        'logisticregression__C': [0.01, 0.1, 1, 10],\n",
        "    }\n",
        "]\n",
        "\n",
        "grid = GridSearchCV(pipeline, param, n_jobs=-1)\n",
        "grid.fit(X_train, y_train)\n",
        "print(grid.best_params_)"
      ],
      "execution_count": 0,
      "outputs": [
        {
          "output_type": "stream",
          "text": [
            "{'logisticregression__C': 10}\n"
          ],
          "name": "stdout"
        }
      ]
    },
    {
      "cell_type": "code",
      "metadata": {
        "id": "g-V9MgJX-pHa",
        "colab_type": "code",
        "outputId": "69457010-f64d-4ec8-af85-91bcd4a964c1",
        "colab": {
          "base_uri": "https://localhost:8080/",
          "height": 35
        }
      },
      "source": [
        "log_clf = grid.best_estimator_\n",
        "log_clf.fit(X_train, y_train)\n",
        "log_clf.score(X_test, y_test)"
      ],
      "execution_count": 0,
      "outputs": [
        {
          "output_type": "execute_result",
          "data": {
            "text/plain": [
              "0.9091576705588602"
            ]
          },
          "metadata": {
            "tags": []
          },
          "execution_count": 13
        }
      ]
    },
    {
      "cell_type": "markdown",
      "metadata": {
        "id": "XiY1GmY--uRq",
        "colab_type": "text"
      },
      "source": [
        "# SVM"
      ]
    },
    {
      "cell_type": "code",
      "metadata": {
        "id": "68Go1tT8_gFL",
        "colab_type": "code",
        "outputId": "3b9aa225-9ff5-45ee-81a5-c6db7cc81afa",
        "colab": {
          "base_uri": "https://localhost:8080/",
          "height": 35
        }
      },
      "source": [
        "pipeline = make_pipeline(StandardScaler(), SVC(kernel='rbf'))\n",
        "params = {\n",
        "    'svc__C': [0.1, 1, 10],\n",
        "    'svc__gamma': [0.01, 0.1, 1]\n",
        "}\n",
        "grid = GridSearchCV(pipeline, params, n_jobs=-1)\n",
        "grid.fit(X_train, y_train)\n",
        "print(grid.best_params_)"
      ],
      "execution_count": 0,
      "outputs": [
        {
          "output_type": "stream",
          "text": [
            "{'svc__C': 10, 'svc__gamma': 1}\n"
          ],
          "name": "stdout"
        }
      ]
    },
    {
      "cell_type": "code",
      "metadata": {
        "id": "1ckECwbPEOYR",
        "colab_type": "code",
        "outputId": "9b6726d3-ee90-41f8-da25-c6582ef08bb7",
        "colab": {
          "base_uri": "https://localhost:8080/",
          "height": 35
        }
      },
      "source": [
        "svc = grid.best_estimator_\n",
        "svc.fit(X_train, y_train)\n",
        "svc.score(X_test, y_test)"
      ],
      "execution_count": 0,
      "outputs": [
        {
          "output_type": "execute_result",
          "data": {
            "text/plain": [
              "0.9884702944848351"
            ]
          },
          "metadata": {
            "tags": []
          },
          "execution_count": 15
        }
      ]
    },
    {
      "cell_type": "markdown",
      "metadata": {
        "id": "CYmusWcQCEKA",
        "colab_type": "text"
      },
      "source": [
        "# 决策树"
      ]
    },
    {
      "cell_type": "code",
      "metadata": {
        "id": "-kDCdYTMFlYr",
        "colab_type": "code",
        "outputId": "82363444-4d24-45cf-a18a-91c087751590",
        "colab": {
          "base_uri": "https://localhost:8080/",
          "height": 35
        }
      },
      "source": [
        "pipeline = make_pipeline(DecisionTreeClassifier())\n",
        "params = {\n",
        "    'decisiontreeclassifier__max_depth': range(3, 10),\n",
        "}\n",
        "grid = GridSearchCV(pipeline, params, n_jobs=-1)\n",
        "grid.fit(X_train, y_train)\n",
        "print(grid.best_params_)"
      ],
      "execution_count": 0,
      "outputs": [
        {
          "output_type": "stream",
          "text": [
            "{'decisiontreeclassifier__max_depth': 6}\n"
          ],
          "name": "stdout"
        }
      ]
    },
    {
      "cell_type": "code",
      "metadata": {
        "id": "NoIuFeMWGfIm",
        "colab_type": "code",
        "outputId": "080131c4-3e45-4d54-cc20-be6dc15fc7ef",
        "colab": {
          "base_uri": "https://localhost:8080/",
          "height": 35
        }
      },
      "source": [
        "dt = grid.best_estimator_\n",
        "dt.fit(X_train, y_train)\n",
        "dt.score(X_test, y_test)"
      ],
      "execution_count": 0,
      "outputs": [
        {
          "output_type": "execute_result",
          "data": {
            "text/plain": [
              "0.9958874935742087"
            ]
          },
          "metadata": {
            "tags": []
          },
          "execution_count": 17
        }
      ]
    },
    {
      "cell_type": "markdown",
      "metadata": {
        "id": "23LMznqoGt8n",
        "colab_type": "text"
      },
      "source": [
        "# 随机森林"
      ]
    },
    {
      "cell_type": "code",
      "metadata": {
        "id": "4HRfeVq0GxHL",
        "colab_type": "code",
        "outputId": "c0844c7c-08f2-4f68-bd88-3a8ad21e06b1",
        "colab": {
          "base_uri": "https://localhost:8080/",
          "height": 35
        }
      },
      "source": [
        "pipeline = make_pipeline(RandomForestClassifier(n_estimators=100))\n",
        "params = {\n",
        "    'randomforestclassifier__max_depth': range(3, 10),\n",
        "    'randomforestclassifier__max_features': [3,4,5],\n",
        "}\n",
        "grid = GridSearchCV(pipeline, params, n_jobs=-1)\n",
        "grid.fit(X_train, y_train)\n",
        "print(grid.best_params_)"
      ],
      "execution_count": 0,
      "outputs": [
        {
          "output_type": "stream",
          "text": [
            "{'randomforestclassifier__max_depth': 6, 'randomforestclassifier__max_features': 3}\n"
          ],
          "name": "stdout"
        }
      ]
    },
    {
      "cell_type": "code",
      "metadata": {
        "id": "x3u7Cm7AHMyA",
        "colab_type": "code",
        "outputId": "410bf721-8d00-40e3-d1d7-1a256edcadfc",
        "colab": {
          "base_uri": "https://localhost:8080/",
          "height": 35
        }
      },
      "source": [
        "rf = grid.best_estimator_\n",
        "rf.fit(X_train, y_train)\n",
        "rf.score(X_test, y_test)"
      ],
      "execution_count": 0,
      "outputs": [
        {
          "output_type": "execute_result",
          "data": {
            "text/plain": [
              "0.9960343688037012"
            ]
          },
          "metadata": {
            "tags": []
          },
          "execution_count": 19
        }
      ]
    },
    {
      "cell_type": "markdown",
      "metadata": {
        "id": "kT_agY7qIueK",
        "colab_type": "text"
      },
      "source": [
        "# xgboost"
      ]
    },
    {
      "cell_type": "code",
      "metadata": {
        "id": "UjjPY-mEgECD",
        "colab_type": "code",
        "outputId": "d3db70ef-2762-4ef8-ce9c-d52185c06a6a",
        "colab": {
          "base_uri": "https://localhost:8080/",
          "height": 35
        }
      },
      "source": [
        "pipeline = make_pipeline(XGBClassifier())\n",
        "params = {\n",
        "    'xgbclassifier__max_depth': range(3, 10),\n",
        "    'xgbclassifier__subsample': [0.5,0.8,1],\n",
        "    'xgbclassifier__colsample_bytree': [0.5,0.8,1],\n",
        "    'xgbclassifier__learning_rate': [0.01, 0.1, 0.3],\n",
        "    'xgbclassifier__gamma': [0, 0.01, 0.1]\n",
        "}\n",
        "grid = GridSearchCV(pipeline, params, n_jobs=-1)\n",
        "grid.fit(X_train, y_train)\n",
        "print(grid.best_params_)"
      ],
      "execution_count": 0,
      "outputs": [
        {
          "output_type": "stream",
          "text": [
            "{'xgbclassifier__colsample_bytree': 1, 'xgbclassifier__gamma': 0.01, 'xgbclassifier__learning_rate': 0.01, 'xgbclassifier__max_depth': 9, 'xgbclassifier__subsample': 0.5}\n"
          ],
          "name": "stdout"
        }
      ]
    },
    {
      "cell_type": "code",
      "metadata": {
        "id": "D8BLhHRfqHDJ",
        "colab_type": "code",
        "outputId": "e12e3e53-9e48-4aca-c7c9-9cbf86196b40",
        "colab": {
          "base_uri": "https://localhost:8080/",
          "height": 35
        }
      },
      "source": [
        "xgb = grid.best_estimator_\n",
        "xgb.fit(X_train, y_train)\n",
        "xgb.score(X_test, y_test)"
      ],
      "execution_count": 0,
      "outputs": [
        {
          "output_type": "execute_result",
          "data": {
            "text/plain": [
              "0.9957406183447162"
            ]
          },
          "metadata": {
            "tags": []
          },
          "execution_count": 22
        }
      ]
    }
  ]
}