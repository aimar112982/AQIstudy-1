{
  "nbformat": 4,
  "nbformat_minor": 0,
  "metadata": {
    "kernelspec": {
      "name": "python3",
      "display_name": "Python 3"
    },
    "language_info": {
      "codemirror_mode": {
        "name": "ipython",
        "version": 3
      },
      "file_extension": ".py",
      "mimetype": "text/x-python",
      "name": "python",
      "nbconvert_exporter": "python",
      "pygments_lexer": "ipython3",
      "version": "3.7.3"
    },
    "colab": {
      "name": "SVMfoAQI.ipynb",
      "version": "0.3.2",
      "provenance": [],
      "collapsed_sections": []
    },
    "accelerator": "TPU"
  },
  "cells": [
    {
      "cell_type": "markdown",
      "metadata": {
        "id": "L791aQ7N5hKa",
        "colab_type": "text"
      },
      "source": [
        "# 支持向量机\n",
        "\n",
        "思想：最大化间隔\n",
        "\n",
        "**hard-margin SVM**\n",
        "\n",
        "模型：$h(x)=sign(w^Tx+b)$\n",
        "\n",
        "优化目标：$min\\frac{1}{2}w^Tw\\\\\n",
        "s.t.　y_i(w^Tx_i+b)\\geqslant 1,　i=1,2,...,m$\n",
        "\n",
        "利用拉格朗日乘子法，转换成无约束优化问题。\n",
        "\n",
        "原形式：$min_{w,b}max_{\\lambda}L(w,b,\\lambda)=\\frac{1}{2}w^Tw+\\sum_{i=1}^{m}\\lambda_i(1-y_i(w^Tx_i+b))\\\\\n",
        "s.t.　\\lambda_i \\geqslant 0$\n",
        "\n",
        "对偶形式：$max_{\\lambda}min_{w,b}L(w,b,\\lambda)=max_{\\lambda}\\sum_{i=1}^{m}\\lambda_i-\\frac{1}{2}\\sum_{i=1}^{m}\\sum_{j=1}^{m}\\lambda_i\\lambda_jy_iy_jx_i^Tx_j\\\\\n",
        "s.t.　\\lambda_i \\geqslant 0　and　\\sum_{i=1}^{m}\\lambda_iy_i=0$\n",
        "\n",
        "原问题为凸优化问题，满足KKT条件$\\Leftrightarrow$强对偶关系：\n",
        "\n",
        "$1. \\bigtriangledown_xL(w,b,\\lambda)=0\\\\\n",
        "2. \\lambda_i \\geqslant 0\\\\\n",
        "3. 1-y_i(w^Tx_i+b)\\leqslant 0\\\\\n",
        "4. \\lambda_i(1-y_i(w^Tx_i+b))=0$\n",
        "\n",
        "最后利用SMO算法求解参数。\n",
        "\n",
        "**soft-margin SVM**\n",
        "\n",
        "$min_{w,b}\\frac{1}{2}w^Tw+C\\sum_{i=1}^{m}\\xi_i\\\\\n",
        "s.t.　\\xi_i>0　and　y_i(w^Tx_i+b)\\geqslant 1-\\xi_i$"
      ]
    },
    {
      "cell_type": "code",
      "metadata": {
        "id": "mMIJ0-_R5hKe",
        "colab_type": "code",
        "colab": {}
      },
      "source": [
        "import pandas as pd\n",
        "import numpy as np\n",
        "import matplotlib.pyplot as plt\n",
        "%matplotlib inline"
      ],
      "execution_count": 0,
      "outputs": []
    },
    {
      "cell_type": "code",
      "metadata": {
        "id": "07B-xa-K5hKk",
        "colab_type": "code",
        "outputId": "c0d51362-2279-42d9-92f5-84f3ea4dccc2",
        "colab": {
          "base_uri": "https://localhost:8080/",
          "height": 228
        }
      },
      "source": [
        "wh_data = pd.read_csv('武汉.csv', index_col='date', encoding='utf-8', engine='python')\n",
        "wh_data.drop(wh_data[wh_data['质量等级']=='无'].index, inplace=True)\n",
        "wh_data.head()"
      ],
      "execution_count": 2,
      "outputs": [
        {
          "output_type": "execute_result",
          "data": {
            "text/html": [
              "<div>\n",
              "<style scoped>\n",
              "    .dataframe tbody tr th:only-of-type {\n",
              "        vertical-align: middle;\n",
              "    }\n",
              "\n",
              "    .dataframe tbody tr th {\n",
              "        vertical-align: top;\n",
              "    }\n",
              "\n",
              "    .dataframe thead th {\n",
              "        text-align: right;\n",
              "    }\n",
              "</style>\n",
              "<table border=\"1\" class=\"dataframe\">\n",
              "  <thead>\n",
              "    <tr style=\"text-align: right;\">\n",
              "      <th></th>\n",
              "      <th>AQI</th>\n",
              "      <th>质量等级</th>\n",
              "      <th>PM2.5</th>\n",
              "      <th>PM10</th>\n",
              "      <th>SO2</th>\n",
              "      <th>CO</th>\n",
              "      <th>NO2</th>\n",
              "      <th>O3_8h</th>\n",
              "    </tr>\n",
              "    <tr>\n",
              "      <th>date</th>\n",
              "      <th></th>\n",
              "      <th></th>\n",
              "      <th></th>\n",
              "      <th></th>\n",
              "      <th></th>\n",
              "      <th></th>\n",
              "      <th></th>\n",
              "      <th></th>\n",
              "    </tr>\n",
              "  </thead>\n",
              "  <tbody>\n",
              "    <tr>\n",
              "      <th>2014-01-01</th>\n",
              "      <td>203</td>\n",
              "      <td>重度污染</td>\n",
              "      <td>153</td>\n",
              "      <td>210</td>\n",
              "      <td>70</td>\n",
              "      <td>2.0</td>\n",
              "      <td>106</td>\n",
              "      <td>55</td>\n",
              "    </tr>\n",
              "    <tr>\n",
              "      <th>2014-01-02</th>\n",
              "      <td>231</td>\n",
              "      <td>重度污染</td>\n",
              "      <td>181</td>\n",
              "      <td>254</td>\n",
              "      <td>89</td>\n",
              "      <td>2.4</td>\n",
              "      <td>112</td>\n",
              "      <td>26</td>\n",
              "    </tr>\n",
              "    <tr>\n",
              "      <th>2014-01-03</th>\n",
              "      <td>224</td>\n",
              "      <td>重度污染</td>\n",
              "      <td>174</td>\n",
              "      <td>226</td>\n",
              "      <td>63</td>\n",
              "      <td>1.7</td>\n",
              "      <td>84</td>\n",
              "      <td>55</td>\n",
              "    </tr>\n",
              "    <tr>\n",
              "      <th>2014-01-04</th>\n",
              "      <td>147</td>\n",
              "      <td>轻度污染</td>\n",
              "      <td>112</td>\n",
              "      <td>184</td>\n",
              "      <td>73</td>\n",
              "      <td>1.6</td>\n",
              "      <td>87</td>\n",
              "      <td>40</td>\n",
              "    </tr>\n",
              "    <tr>\n",
              "      <th>2014-01-05</th>\n",
              "      <td>195</td>\n",
              "      <td>中度污染</td>\n",
              "      <td>147</td>\n",
              "      <td>213</td>\n",
              "      <td>89</td>\n",
              "      <td>2.2</td>\n",
              "      <td>91</td>\n",
              "      <td>53</td>\n",
              "    </tr>\n",
              "  </tbody>\n",
              "</table>\n",
              "</div>"
            ],
            "text/plain": [
              "            AQI  质量等级  PM2.5  PM10  SO2   CO  NO2  O3_8h\n",
              "date                                                    \n",
              "2014-01-01  203  重度污染    153   210   70  2.0  106     55\n",
              "2014-01-02  231  重度污染    181   254   89  2.4  112     26\n",
              "2014-01-03  224  重度污染    174   226   63  1.7   84     55\n",
              "2014-01-04  147  轻度污染    112   184   73  1.6   87     40\n",
              "2014-01-05  195  中度污染    147   213   89  2.2   91     53"
            ]
          },
          "metadata": {
            "tags": []
          },
          "execution_count": 2
        }
      ]
    },
    {
      "cell_type": "code",
      "metadata": {
        "id": "g7r92Z8O5hKo",
        "colab_type": "code",
        "colab": {}
      },
      "source": [
        "def get_grade(aqi):\n",
        "    if aqi <= 100:\n",
        "        return 1\n",
        "    else:\n",
        "        return -1"
      ],
      "execution_count": 0,
      "outputs": []
    },
    {
      "cell_type": "code",
      "metadata": {
        "id": "TVRl6fJf5hKs",
        "colab_type": "code",
        "outputId": "1b92f76c-a9a0-4ecc-e847-2423c1b98eea",
        "colab": {
          "base_uri": "https://localhost:8080/",
          "height": 86
        }
      },
      "source": [
        "wh_data['GRADE'] = wh_data.AQI.apply(get_grade)\n",
        "wh_data.dropna(inplace=True)\n",
        "wh_data.groupby('GRADE').count().AQI"
      ],
      "execution_count": 4,
      "outputs": [
        {
          "output_type": "execute_result",
          "data": {
            "text/plain": [
              "GRADE\n",
              "-1     689\n",
              " 1    1125\n",
              "Name: AQI, dtype: int64"
            ]
          },
          "metadata": {
            "tags": []
          },
          "execution_count": 4
        }
      ]
    },
    {
      "cell_type": "code",
      "metadata": {
        "id": "N1eB2eUF5hKy",
        "colab_type": "code",
        "colab": {}
      },
      "source": [
        "from sklearn.model_selection import train_test_split\n",
        "\n",
        "X = wh_data.iloc[:, 2:4]\n",
        "y = wh_data.iloc[:, -1]\n",
        "X_train, X_test, y_train, y_test = train_test_split(X, y, random_state=100)"
      ],
      "execution_count": 0,
      "outputs": []
    },
    {
      "cell_type": "code",
      "metadata": {
        "id": "vpeo_tze8sV3",
        "colab_type": "code",
        "colab": {}
      },
      "source": [
        "from sklearn.preprocessing import StandardScaler\n",
        "\n",
        "standardscaler = StandardScaler()\n",
        "standardscaler.fit(X_train)\n",
        "X_train_sca = standardscaler.transform(X_train)\n",
        "X_test_sca = standardscaler.transform(X_test)"
      ],
      "execution_count": 0,
      "outputs": []
    },
    {
      "cell_type": "code",
      "metadata": {
        "id": "7BgaOyO05hLA",
        "colab_type": "code",
        "outputId": "5024346f-743e-45fc-cb18-673b415bd84c",
        "colab": {
          "base_uri": "https://localhost:8080/",
          "height": 324
        }
      },
      "source": [
        "plt.figure(figsize=(10,5))\n",
        "plt.scatter(X_train_sca[y_train==1][:,0], X_train_sca[y_train==1][:,1])\n",
        "plt.scatter(X_train_sca[y_train==-1][:,0], X_train_sca[y_train==-1][:,1])\n",
        "plt.show()"
      ],
      "execution_count": 7,
      "outputs": [
        {
          "output_type": "display_data",
          "data": {
            "image/png": "[encoded data removed]",
            "text/plain": [
              "<Figure size 720x360 with 1 Axes>"
            ]
          },
          "metadata": {
            "tags": []
          }
        }
      ]
    },
    {
      "cell_type": "code",
      "metadata": {
        "id": "dCGLs6tm89vy",
        "colab_type": "code",
        "colab": {
          "base_uri": "https://localhost:8080/",
          "height": 86
        },
        "outputId": "fe1dae29-a49e-419b-fbcb-cc582bcfcb8b"
      },
      "source": [
        "from sklearn.svm import LinearSVC\n",
        "\n",
        "svc = LinearSVC(random_state=100)\n",
        "svc.fit(X_train_sca, y_train)"
      ],
      "execution_count": 8,
      "outputs": [
        {
          "output_type": "execute_result",
          "data": {
            "text/plain": [
              "LinearSVC(C=1.0, class_weight=None, dual=True, fit_intercept=True,\n",
              "          intercept_scaling=1, loss='squared_hinge', max_iter=1000,\n",
              "          multi_class='ovr', penalty='l2', random_state=100, tol=0.0001,\n",
              "          verbose=0)"
            ]
          },
          "metadata": {
            "tags": []
          },
          "execution_count": 8
        }
      ]
    },
    {
      "cell_type": "code",
      "metadata": {
        "id": "2OUm-hlp8-TR",
        "colab_type": "code",
        "colab": {
          "base_uri": "https://localhost:8080/",
          "height": 35
        },
        "outputId": "479be5d7-6be9-410f-a950-798f7b9bcf5f"
      },
      "source": [
        "svc.score(X_test_sca, y_test)"
      ],
      "execution_count": 9,
      "outputs": [
        {
          "output_type": "execute_result",
          "data": {
            "text/plain": [
              "0.8964757709251101"
            ]
          },
          "metadata": {
            "tags": []
          },
          "execution_count": 9
        }
      ]
    },
    {
      "cell_type": "markdown",
      "metadata": {
        "id": "pOfTCB2H5hLF",
        "colab_type": "text"
      },
      "source": [
        "**决策边界**"
      ]
    },
    {
      "cell_type": "code",
      "metadata": {
        "id": "MgU3MgT45hLG",
        "colab_type": "code",
        "colab": {}
      },
      "source": [
        "def plot_decision_boundary(model, axis):\n",
        "    X0, X1 = np.meshgrid(\n",
        "        np.linspace(axis[0], axis[1], int((axis[1]-axis[0])*100)).reshape(-1, 1),\n",
        "        np.linspace(axis[2], axis[3], int((axis[3]-axis[2])*100)).reshape(-1, 1)\n",
        "    )\n",
        "    X = np.c_[X0.ravel(), X1.ravel()]\n",
        "    Y = model.predict(X).reshape(X0.shape)\n",
        "    \n",
        "    plt.contourf(X0, X1, Y)"
      ],
      "execution_count": 0,
      "outputs": []
    },
    {
      "cell_type": "code",
      "metadata": {
        "id": "QqeTgsMD5hLK",
        "colab_type": "code",
        "outputId": "30df5be6-7a98-4056-f1ac-2937fb899ad2",
        "colab": {
          "base_uri": "https://localhost:8080/",
          "height": 378
        }
      },
      "source": [
        "plt.figure(figsize=(15,6))\n",
        "plot_decision_boundary(svc, axis=[np.min(X_test_sca[:,0]),np.max(X_test_sca[:,0]), np.min(X_test_sca[:,1]),np.max(X_test_sca[:,1])])\n",
        "plt.scatter(X_test_sca[y_test==1][:,0], X_test_sca[y_test==1][:,1])\n",
        "plt.scatter(X_test_sca[y_test==-1][:,0], X_test_sca[y_test==-1][:,1])\n",
        "plt.show()"
      ],
      "execution_count": 11,
      "outputs": [
        {
          "output_type": "display_data",
          "data": {
            "image/png": "[encoded data removed]",
            "text/plain": [
              "<Figure size 1080x432 with 1 Axes>"
            ]
          },
          "metadata": {
            "tags": []
          }
        }
      ]
    },
    {
      "cell_type": "markdown",
      "metadata": {
        "id": "pNJxlofD5hLN",
        "colab_type": "text"
      },
      "source": [
        "**非线性划分**"
      ]
    },
    {
      "cell_type": "code",
      "metadata": {
        "id": "ymrntWNC5hLO",
        "colab_type": "code",
        "colab": {
          "base_uri": "https://localhost:8080/",
          "height": 207
        },
        "outputId": "d2019f62-e2dd-4eb4-b5ed-72ff43b558bd"
      },
      "source": [
        "from sklearn.model_selection import GridSearchCV\n",
        "from sklearn.svm import SVC\n",
        "\n",
        "svc = SVC(kernel='rbf', random_state=100)\n",
        "params = {\n",
        "    'C': [0.001, 0.01, 0.1, 1, 10],\n",
        "    'gamma': [0.01, 0.1, 1, 10, 100]\n",
        "}\n",
        "grid = GridSearchCV(svc, params, cv=3)\n",
        "grid.fit(X_train_sca, y_train)"
      ],
      "execution_count": 12,
      "outputs": [
        {
          "output_type": "execute_result",
          "data": {
            "text/plain": [
              "GridSearchCV(cv=3, error_score='raise-deprecating',\n",
              "             estimator=SVC(C=1.0, cache_size=200, class_weight=None, coef0=0.0,\n",
              "                           decision_function_shape='ovr', degree=3,\n",
              "                           gamma='auto_deprecated', kernel='rbf', max_iter=-1,\n",
              "                           probability=False, random_state=100, shrinking=True,\n",
              "                           tol=0.001, verbose=False),\n",
              "             iid='warn', n_jobs=None,\n",
              "             param_grid={'C': [0.001, 0.01, 0.1, 1, 10],\n",
              "                         'gamma': [0.01, 0.1, 1, 10, 100]},\n",
              "             pre_dispatch='2*n_jobs', refit=True, return_train_score=False,\n",
              "             scoring=None, verbose=0)"
            ]
          },
          "metadata": {
            "tags": []
          },
          "execution_count": 12
        }
      ]
    },
    {
      "cell_type": "code",
      "metadata": {
        "id": "Sm-4XYkv5hLU",
        "colab_type": "code",
        "outputId": "b6b9c126-8132-4765-be22-960e6ee6fadf",
        "colab": {
          "base_uri": "https://localhost:8080/",
          "height": 52
        }
      },
      "source": [
        "print(grid.best_params_)\n",
        "model = grid.best_estimator_\n",
        "model.score(X_test_sca, y_test)"
      ],
      "execution_count": 13,
      "outputs": [
        {
          "output_type": "stream",
          "text": [
            "{'C': 1, 'gamma': 10}\n"
          ],
          "name": "stdout"
        },
        {
          "output_type": "execute_result",
          "data": {
            "text/plain": [
              "0.9030837004405287"
            ]
          },
          "metadata": {
            "tags": []
          },
          "execution_count": 13
        }
      ]
    },
    {
      "cell_type": "code",
      "metadata": {
        "id": "N3S5EC6P5hLY",
        "colab_type": "code",
        "outputId": "df887d34-a7f9-40dc-e878-1644e0e85eaf",
        "colab": {
          "base_uri": "https://localhost:8080/",
          "height": 378
        }
      },
      "source": [
        "plt.figure(figsize=(15,6))\n",
        "plot_decision_boundary(model, axis=[np.min(X_test_sca[:,0]),np.max(X_test_sca[:,0]), np.min(X_test_sca[:,1]),np.max(X_test_sca[:,1])])\n",
        "plt.scatter(X_test_sca[y_test==1][:,0], X_test_sca[y_test==1][:,1])\n",
        "plt.scatter(X_test_sca[y_test==-1][:,0], X_test_sca[y_test==-1][:,1])\n",
        "plt.show()"
      ],
      "execution_count": 14,
      "outputs": [
        {
          "output_type": "display_data",
          "data": {
            "image/png": "[encoded data removed]",
            "text/plain": [
              "<Figure size 1080x432 with 1 Axes>"
            ]
          },
          "metadata": {
            "tags": []
          }
        }
      ]
    }
  ]
}